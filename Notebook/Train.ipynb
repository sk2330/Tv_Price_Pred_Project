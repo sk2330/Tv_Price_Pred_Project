{
 "cells": [
  {
   "cell_type": "markdown",
   "id": "da41167c",
   "metadata": {},
   "source": [
    "### TV Price EDA, Data Viz and Model Training"
   ]
  },
  {
   "cell_type": "code",
   "execution_count": 1,
   "id": "cb1ffa94",
   "metadata": {},
   "outputs": [
    {
     "name": "stderr",
     "output_type": "stream",
     "text": [
      "C:\\Users\\SAIKRISHNA\\anaconda3\\lib\\site-packages\\numpy\\_distributor_init.py:30: UserWarning: loaded more than 1 DLL from .libs:\n",
      "C:\\Users\\SAIKRISHNA\\anaconda3\\lib\\site-packages\\numpy\\.libs\\libopenblas64__v0.3.21-gcc_10_3_0.dll\n",
      "C:\\Users\\SAIKRISHNA\\anaconda3\\lib\\site-packages\\numpy\\.libs\\libopenblas64__v0.3.23-246-g3d31191b-gcc_10_3_0.dll\n",
      "  warnings.warn(\"loaded more than 1 DLL from .libs:\"\n"
     ]
    }
   ],
   "source": [
    "import pandas as pd\n",
    "import numpy as np\n",
    "import seaborn as sns\n",
    "import matplotlib.pyplot as plt\n",
    "%matplotlib inline\n",
    "import joblib"
   ]
  },
  {
   "cell_type": "code",
   "execution_count": 2,
   "id": "d1bb35aa",
   "metadata": {},
   "outputs": [],
   "source": [
    "df=pd.read_excel(\"TV_Data.xlsx\")"
   ]
  },
  {
   "cell_type": "code",
   "execution_count": 3,
   "id": "1a90141b",
   "metadata": {},
   "outputs": [
    {
     "data": {
      "text/html": [
       "<div>\n",
       "<style scoped>\n",
       "    .dataframe tbody tr th:only-of-type {\n",
       "        vertical-align: middle;\n",
       "    }\n",
       "\n",
       "    .dataframe tbody tr th {\n",
       "        vertical-align: top;\n",
       "    }\n",
       "\n",
       "    .dataframe thead th {\n",
       "        text-align: right;\n",
       "    }\n",
       "</style>\n",
       "<table border=\"1\" class=\"dataframe\">\n",
       "  <thead>\n",
       "    <tr style=\"text-align: right;\">\n",
       "      <th></th>\n",
       "      <th>Brand</th>\n",
       "      <th>Model Number</th>\n",
       "      <th>Display</th>\n",
       "      <th>Screen</th>\n",
       "      <th>Inches</th>\n",
       "      <th>Ratings</th>\n",
       "      <th>Number of ratings</th>\n",
       "      <th>Platform</th>\n",
       "      <th>Price</th>\n",
       "      <th>Column1</th>\n",
       "      <th>Column2</th>\n",
       "    </tr>\n",
       "  </thead>\n",
       "  <tbody>\n",
       "    <tr>\n",
       "      <th>0</th>\n",
       "      <td>MI</td>\n",
       "      <td>L43M8-5XIN</td>\n",
       "      <td>4K UHD</td>\n",
       "      <td>LED</td>\n",
       "      <td>43</td>\n",
       "      <td>4.2 out of 5 stars</td>\n",
       "      <td>2906</td>\n",
       "      <td>Google TV</td>\n",
       "      <td>32999</td>\n",
       "      <td>NaN</td>\n",
       "      <td>NaN</td>\n",
       "    </tr>\n",
       "    <tr>\n",
       "      <th>1</th>\n",
       "      <td>LG</td>\n",
       "      <td>43UR7500PSC</td>\n",
       "      <td>4K UHD</td>\n",
       "      <td>LED</td>\n",
       "      <td>43</td>\n",
       "      <td>4.2 out of 5 stars</td>\n",
       "      <td>2366</td>\n",
       "      <td>Google TV</td>\n",
       "      <td>32989</td>\n",
       "      <td>NaN</td>\n",
       "      <td>NaN</td>\n",
       "    </tr>\n",
       "    <tr>\n",
       "      <th>2</th>\n",
       "      <td>Sony Bravia</td>\n",
       "      <td>KD-55X74L</td>\n",
       "      <td>4K UHD</td>\n",
       "      <td>LED</td>\n",
       "      <td>55</td>\n",
       "      <td>4.8 out of 5 stars</td>\n",
       "      <td>14345</td>\n",
       "      <td>Google TV</td>\n",
       "      <td>57990</td>\n",
       "      <td>NaN</td>\n",
       "      <td>NaN</td>\n",
       "    </tr>\n",
       "    <tr>\n",
       "      <th>3</th>\n",
       "      <td>Sony Bravia</td>\n",
       "      <td>KD-43X64L</td>\n",
       "      <td>4K UHD</td>\n",
       "      <td>LED</td>\n",
       "      <td>43</td>\n",
       "      <td>4.8 out of 5 stars</td>\n",
       "      <td>14345</td>\n",
       "      <td>Google TV</td>\n",
       "      <td>40990</td>\n",
       "      <td>NaN</td>\n",
       "      <td>NaN</td>\n",
       "    </tr>\n",
       "    <tr>\n",
       "      <th>4</th>\n",
       "      <td>Sony Bravia</td>\n",
       "      <td>KD-65X74L</td>\n",
       "      <td>4K UHD</td>\n",
       "      <td>LED</td>\n",
       "      <td>65</td>\n",
       "      <td>4.8 out of 5 stars</td>\n",
       "      <td>14345</td>\n",
       "      <td>Google TV</td>\n",
       "      <td>77990</td>\n",
       "      <td>NaN</td>\n",
       "      <td>NaN</td>\n",
       "    </tr>\n",
       "    <tr>\n",
       "      <th>...</th>\n",
       "      <td>...</td>\n",
       "      <td>...</td>\n",
       "      <td>...</td>\n",
       "      <td>...</td>\n",
       "      <td>...</td>\n",
       "      <td>...</td>\n",
       "      <td>...</td>\n",
       "      <td>...</td>\n",
       "      <td>...</td>\n",
       "      <td>...</td>\n",
       "      <td>...</td>\n",
       "    </tr>\n",
       "    <tr>\n",
       "      <th>314</th>\n",
       "      <td>TCL</td>\n",
       "      <td>65P635 Pro</td>\n",
       "      <td>4K UHD</td>\n",
       "      <td>LED</td>\n",
       "      <td>65</td>\n",
       "      <td>4.1 out of 5 stars</td>\n",
       "      <td>1986</td>\n",
       "      <td>Google TV</td>\n",
       "      <td>119990</td>\n",
       "      <td>NaN</td>\n",
       "      <td>NaN</td>\n",
       "    </tr>\n",
       "    <tr>\n",
       "      <th>315</th>\n",
       "      <td>TCL</td>\n",
       "      <td>85P745</td>\n",
       "      <td>4K UHD</td>\n",
       "      <td>LED</td>\n",
       "      <td>85</td>\n",
       "      <td>4.0 out of 5 stars</td>\n",
       "      <td>1986</td>\n",
       "      <td>Google TV</td>\n",
       "      <td>259990</td>\n",
       "      <td>NaN</td>\n",
       "      <td>NaN</td>\n",
       "    </tr>\n",
       "    <tr>\n",
       "      <th>316</th>\n",
       "      <td>TCL</td>\n",
       "      <td>65C645</td>\n",
       "      <td>4K UHD</td>\n",
       "      <td>QLED</td>\n",
       "      <td>65</td>\n",
       "      <td>4.1 out of 5 stars</td>\n",
       "      <td>1986</td>\n",
       "      <td>Google TV</td>\n",
       "      <td>84990</td>\n",
       "      <td>NaN</td>\n",
       "      <td>NaN</td>\n",
       "    </tr>\n",
       "    <tr>\n",
       "      <th>317</th>\n",
       "      <td>Panasonic</td>\n",
       "      <td>TH-55MX660DX</td>\n",
       "      <td>4K UHD</td>\n",
       "      <td>LED</td>\n",
       "      <td>55</td>\n",
       "      <td>4.0 out of 5 stars</td>\n",
       "      <td>427</td>\n",
       "      <td>Google TV</td>\n",
       "      <td>32990</td>\n",
       "      <td>NaN</td>\n",
       "      <td>NaN</td>\n",
       "    </tr>\n",
       "    <tr>\n",
       "      <th>318</th>\n",
       "      <td>Hisense</td>\n",
       "      <td>55E7K PRO</td>\n",
       "      <td>4K UHD</td>\n",
       "      <td>QLED</td>\n",
       "      <td>55</td>\n",
       "      <td>4.3 out of 5 stars</td>\n",
       "      <td>2699</td>\n",
       "      <td>Smart TV</td>\n",
       "      <td>55489</td>\n",
       "      <td>NaN</td>\n",
       "      <td>NaN</td>\n",
       "    </tr>\n",
       "  </tbody>\n",
       "</table>\n",
       "<p>319 rows × 11 columns</p>\n",
       "</div>"
      ],
      "text/plain": [
       "           Brand  Model Number Display Screen  Inches             Ratings  \\\n",
       "0             MI    L43M8-5XIN  4K UHD    LED      43  4.2 out of 5 stars   \n",
       "1             LG   43UR7500PSC  4K UHD    LED      43  4.2 out of 5 stars   \n",
       "2    Sony Bravia     KD-55X74L  4K UHD    LED      55  4.8 out of 5 stars   \n",
       "3    Sony Bravia     KD-43X64L  4K UHD    LED      43  4.8 out of 5 stars   \n",
       "4    Sony Bravia     KD-65X74L  4K UHD    LED      65  4.8 out of 5 stars   \n",
       "..           ...           ...     ...    ...     ...                 ...   \n",
       "314          TCL    65P635 Pro  4K UHD    LED      65  4.1 out of 5 stars   \n",
       "315          TCL        85P745  4K UHD    LED      85  4.0 out of 5 stars   \n",
       "316          TCL        65C645  4K UHD   QLED      65  4.1 out of 5 stars   \n",
       "317    Panasonic  TH-55MX660DX  4K UHD    LED      55  4.0 out of 5 stars   \n",
       "318      Hisense     55E7K PRO  4K UHD   QLED      55  4.3 out of 5 stars   \n",
       "\n",
       "     Number of ratings   Platform   Price  Column1  Column2  \n",
       "0                 2906  Google TV   32999      NaN      NaN  \n",
       "1                 2366  Google TV   32989      NaN      NaN  \n",
       "2                14345  Google TV   57990      NaN      NaN  \n",
       "3                14345  Google TV   40990      NaN      NaN  \n",
       "4                14345  Google TV   77990      NaN      NaN  \n",
       "..                 ...        ...     ...      ...      ...  \n",
       "314               1986  Google TV  119990      NaN      NaN  \n",
       "315               1986  Google TV  259990      NaN      NaN  \n",
       "316               1986  Google TV   84990      NaN      NaN  \n",
       "317                427  Google TV   32990      NaN      NaN  \n",
       "318               2699   Smart TV   55489      NaN      NaN  \n",
       "\n",
       "[319 rows x 11 columns]"
      ]
     },
     "execution_count": 3,
     "metadata": {},
     "output_type": "execute_result"
    }
   ],
   "source": [
    "df"
   ]
  },
  {
   "cell_type": "code",
   "execution_count": 4,
   "id": "230fb9d8",
   "metadata": {},
   "outputs": [],
   "source": [
    "df.drop('Column1',axis=1,inplace=True)"
   ]
  },
  {
   "cell_type": "code",
   "execution_count": 5,
   "id": "605f5646",
   "metadata": {},
   "outputs": [
    {
     "data": {
      "text/html": [
       "<div>\n",
       "<style scoped>\n",
       "    .dataframe tbody tr th:only-of-type {\n",
       "        vertical-align: middle;\n",
       "    }\n",
       "\n",
       "    .dataframe tbody tr th {\n",
       "        vertical-align: top;\n",
       "    }\n",
       "\n",
       "    .dataframe thead th {\n",
       "        text-align: right;\n",
       "    }\n",
       "</style>\n",
       "<table border=\"1\" class=\"dataframe\">\n",
       "  <thead>\n",
       "    <tr style=\"text-align: right;\">\n",
       "      <th></th>\n",
       "      <th>Brand</th>\n",
       "      <th>Model Number</th>\n",
       "      <th>Display</th>\n",
       "      <th>Screen</th>\n",
       "      <th>Inches</th>\n",
       "      <th>Ratings</th>\n",
       "      <th>Number of ratings</th>\n",
       "      <th>Platform</th>\n",
       "      <th>Price</th>\n",
       "      <th>Column2</th>\n",
       "    </tr>\n",
       "  </thead>\n",
       "  <tbody>\n",
       "    <tr>\n",
       "      <th>0</th>\n",
       "      <td>MI</td>\n",
       "      <td>L43M8-5XIN</td>\n",
       "      <td>4K UHD</td>\n",
       "      <td>LED</td>\n",
       "      <td>43</td>\n",
       "      <td>4.2 out of 5 stars</td>\n",
       "      <td>2906</td>\n",
       "      <td>Google TV</td>\n",
       "      <td>32999</td>\n",
       "      <td>NaN</td>\n",
       "    </tr>\n",
       "    <tr>\n",
       "      <th>1</th>\n",
       "      <td>LG</td>\n",
       "      <td>43UR7500PSC</td>\n",
       "      <td>4K UHD</td>\n",
       "      <td>LED</td>\n",
       "      <td>43</td>\n",
       "      <td>4.2 out of 5 stars</td>\n",
       "      <td>2366</td>\n",
       "      <td>Google TV</td>\n",
       "      <td>32989</td>\n",
       "      <td>NaN</td>\n",
       "    </tr>\n",
       "    <tr>\n",
       "      <th>2</th>\n",
       "      <td>Sony Bravia</td>\n",
       "      <td>KD-55X74L</td>\n",
       "      <td>4K UHD</td>\n",
       "      <td>LED</td>\n",
       "      <td>55</td>\n",
       "      <td>4.8 out of 5 stars</td>\n",
       "      <td>14345</td>\n",
       "      <td>Google TV</td>\n",
       "      <td>57990</td>\n",
       "      <td>NaN</td>\n",
       "    </tr>\n",
       "    <tr>\n",
       "      <th>3</th>\n",
       "      <td>Sony Bravia</td>\n",
       "      <td>KD-43X64L</td>\n",
       "      <td>4K UHD</td>\n",
       "      <td>LED</td>\n",
       "      <td>43</td>\n",
       "      <td>4.8 out of 5 stars</td>\n",
       "      <td>14345</td>\n",
       "      <td>Google TV</td>\n",
       "      <td>40990</td>\n",
       "      <td>NaN</td>\n",
       "    </tr>\n",
       "    <tr>\n",
       "      <th>4</th>\n",
       "      <td>Sony Bravia</td>\n",
       "      <td>KD-65X74L</td>\n",
       "      <td>4K UHD</td>\n",
       "      <td>LED</td>\n",
       "      <td>65</td>\n",
       "      <td>4.8 out of 5 stars</td>\n",
       "      <td>14345</td>\n",
       "      <td>Google TV</td>\n",
       "      <td>77990</td>\n",
       "      <td>NaN</td>\n",
       "    </tr>\n",
       "    <tr>\n",
       "      <th>...</th>\n",
       "      <td>...</td>\n",
       "      <td>...</td>\n",
       "      <td>...</td>\n",
       "      <td>...</td>\n",
       "      <td>...</td>\n",
       "      <td>...</td>\n",
       "      <td>...</td>\n",
       "      <td>...</td>\n",
       "      <td>...</td>\n",
       "      <td>...</td>\n",
       "    </tr>\n",
       "    <tr>\n",
       "      <th>314</th>\n",
       "      <td>TCL</td>\n",
       "      <td>65P635 Pro</td>\n",
       "      <td>4K UHD</td>\n",
       "      <td>LED</td>\n",
       "      <td>65</td>\n",
       "      <td>4.1 out of 5 stars</td>\n",
       "      <td>1986</td>\n",
       "      <td>Google TV</td>\n",
       "      <td>119990</td>\n",
       "      <td>NaN</td>\n",
       "    </tr>\n",
       "    <tr>\n",
       "      <th>315</th>\n",
       "      <td>TCL</td>\n",
       "      <td>85P745</td>\n",
       "      <td>4K UHD</td>\n",
       "      <td>LED</td>\n",
       "      <td>85</td>\n",
       "      <td>4.0 out of 5 stars</td>\n",
       "      <td>1986</td>\n",
       "      <td>Google TV</td>\n",
       "      <td>259990</td>\n",
       "      <td>NaN</td>\n",
       "    </tr>\n",
       "    <tr>\n",
       "      <th>316</th>\n",
       "      <td>TCL</td>\n",
       "      <td>65C645</td>\n",
       "      <td>4K UHD</td>\n",
       "      <td>QLED</td>\n",
       "      <td>65</td>\n",
       "      <td>4.1 out of 5 stars</td>\n",
       "      <td>1986</td>\n",
       "      <td>Google TV</td>\n",
       "      <td>84990</td>\n",
       "      <td>NaN</td>\n",
       "    </tr>\n",
       "    <tr>\n",
       "      <th>317</th>\n",
       "      <td>Panasonic</td>\n",
       "      <td>TH-55MX660DX</td>\n",
       "      <td>4K UHD</td>\n",
       "      <td>LED</td>\n",
       "      <td>55</td>\n",
       "      <td>4.0 out of 5 stars</td>\n",
       "      <td>427</td>\n",
       "      <td>Google TV</td>\n",
       "      <td>32990</td>\n",
       "      <td>NaN</td>\n",
       "    </tr>\n",
       "    <tr>\n",
       "      <th>318</th>\n",
       "      <td>Hisense</td>\n",
       "      <td>55E7K PRO</td>\n",
       "      <td>4K UHD</td>\n",
       "      <td>QLED</td>\n",
       "      <td>55</td>\n",
       "      <td>4.3 out of 5 stars</td>\n",
       "      <td>2699</td>\n",
       "      <td>Smart TV</td>\n",
       "      <td>55489</td>\n",
       "      <td>NaN</td>\n",
       "    </tr>\n",
       "  </tbody>\n",
       "</table>\n",
       "<p>319 rows × 10 columns</p>\n",
       "</div>"
      ],
      "text/plain": [
       "           Brand  Model Number Display Screen  Inches             Ratings  \\\n",
       "0             MI    L43M8-5XIN  4K UHD    LED      43  4.2 out of 5 stars   \n",
       "1             LG   43UR7500PSC  4K UHD    LED      43  4.2 out of 5 stars   \n",
       "2    Sony Bravia     KD-55X74L  4K UHD    LED      55  4.8 out of 5 stars   \n",
       "3    Sony Bravia     KD-43X64L  4K UHD    LED      43  4.8 out of 5 stars   \n",
       "4    Sony Bravia     KD-65X74L  4K UHD    LED      65  4.8 out of 5 stars   \n",
       "..           ...           ...     ...    ...     ...                 ...   \n",
       "314          TCL    65P635 Pro  4K UHD    LED      65  4.1 out of 5 stars   \n",
       "315          TCL        85P745  4K UHD    LED      85  4.0 out of 5 stars   \n",
       "316          TCL        65C645  4K UHD   QLED      65  4.1 out of 5 stars   \n",
       "317    Panasonic  TH-55MX660DX  4K UHD    LED      55  4.0 out of 5 stars   \n",
       "318      Hisense     55E7K PRO  4K UHD   QLED      55  4.3 out of 5 stars   \n",
       "\n",
       "     Number of ratings   Platform   Price  Column2  \n",
       "0                 2906  Google TV   32999      NaN  \n",
       "1                 2366  Google TV   32989      NaN  \n",
       "2                14345  Google TV   57990      NaN  \n",
       "3                14345  Google TV   40990      NaN  \n",
       "4                14345  Google TV   77990      NaN  \n",
       "..                 ...        ...     ...      ...  \n",
       "314               1986  Google TV  119990      NaN  \n",
       "315               1986  Google TV  259990      NaN  \n",
       "316               1986  Google TV   84990      NaN  \n",
       "317                427  Google TV   32990      NaN  \n",
       "318               2699   Smart TV   55489      NaN  \n",
       "\n",
       "[319 rows x 10 columns]"
      ]
     },
     "execution_count": 5,
     "metadata": {},
     "output_type": "execute_result"
    }
   ],
   "source": [
    "df"
   ]
  },
  {
   "cell_type": "code",
   "execution_count": 6,
   "id": "9e03fdee",
   "metadata": {},
   "outputs": [],
   "source": [
    "df.drop('Column2',axis=1,inplace=True)"
   ]
  },
  {
   "cell_type": "code",
   "execution_count": 7,
   "id": "a1aca88f",
   "metadata": {},
   "outputs": [
    {
     "data": {
      "text/html": [
       "<div>\n",
       "<style scoped>\n",
       "    .dataframe tbody tr th:only-of-type {\n",
       "        vertical-align: middle;\n",
       "    }\n",
       "\n",
       "    .dataframe tbody tr th {\n",
       "        vertical-align: top;\n",
       "    }\n",
       "\n",
       "    .dataframe thead th {\n",
       "        text-align: right;\n",
       "    }\n",
       "</style>\n",
       "<table border=\"1\" class=\"dataframe\">\n",
       "  <thead>\n",
       "    <tr style=\"text-align: right;\">\n",
       "      <th></th>\n",
       "      <th>Brand</th>\n",
       "      <th>Model Number</th>\n",
       "      <th>Display</th>\n",
       "      <th>Screen</th>\n",
       "      <th>Inches</th>\n",
       "      <th>Ratings</th>\n",
       "      <th>Number of ratings</th>\n",
       "      <th>Platform</th>\n",
       "      <th>Price</th>\n",
       "    </tr>\n",
       "  </thead>\n",
       "  <tbody>\n",
       "    <tr>\n",
       "      <th>0</th>\n",
       "      <td>MI</td>\n",
       "      <td>L43M8-5XIN</td>\n",
       "      <td>4K UHD</td>\n",
       "      <td>LED</td>\n",
       "      <td>43</td>\n",
       "      <td>4.2 out of 5 stars</td>\n",
       "      <td>2906</td>\n",
       "      <td>Google TV</td>\n",
       "      <td>32999</td>\n",
       "    </tr>\n",
       "    <tr>\n",
       "      <th>1</th>\n",
       "      <td>LG</td>\n",
       "      <td>43UR7500PSC</td>\n",
       "      <td>4K UHD</td>\n",
       "      <td>LED</td>\n",
       "      <td>43</td>\n",
       "      <td>4.2 out of 5 stars</td>\n",
       "      <td>2366</td>\n",
       "      <td>Google TV</td>\n",
       "      <td>32989</td>\n",
       "    </tr>\n",
       "    <tr>\n",
       "      <th>2</th>\n",
       "      <td>Sony Bravia</td>\n",
       "      <td>KD-55X74L</td>\n",
       "      <td>4K UHD</td>\n",
       "      <td>LED</td>\n",
       "      <td>55</td>\n",
       "      <td>4.8 out of 5 stars</td>\n",
       "      <td>14345</td>\n",
       "      <td>Google TV</td>\n",
       "      <td>57990</td>\n",
       "    </tr>\n",
       "    <tr>\n",
       "      <th>3</th>\n",
       "      <td>Sony Bravia</td>\n",
       "      <td>KD-43X64L</td>\n",
       "      <td>4K UHD</td>\n",
       "      <td>LED</td>\n",
       "      <td>43</td>\n",
       "      <td>4.8 out of 5 stars</td>\n",
       "      <td>14345</td>\n",
       "      <td>Google TV</td>\n",
       "      <td>40990</td>\n",
       "    </tr>\n",
       "    <tr>\n",
       "      <th>4</th>\n",
       "      <td>Sony Bravia</td>\n",
       "      <td>KD-65X74L</td>\n",
       "      <td>4K UHD</td>\n",
       "      <td>LED</td>\n",
       "      <td>65</td>\n",
       "      <td>4.8 out of 5 stars</td>\n",
       "      <td>14345</td>\n",
       "      <td>Google TV</td>\n",
       "      <td>77990</td>\n",
       "    </tr>\n",
       "    <tr>\n",
       "      <th>...</th>\n",
       "      <td>...</td>\n",
       "      <td>...</td>\n",
       "      <td>...</td>\n",
       "      <td>...</td>\n",
       "      <td>...</td>\n",
       "      <td>...</td>\n",
       "      <td>...</td>\n",
       "      <td>...</td>\n",
       "      <td>...</td>\n",
       "    </tr>\n",
       "    <tr>\n",
       "      <th>314</th>\n",
       "      <td>TCL</td>\n",
       "      <td>65P635 Pro</td>\n",
       "      <td>4K UHD</td>\n",
       "      <td>LED</td>\n",
       "      <td>65</td>\n",
       "      <td>4.1 out of 5 stars</td>\n",
       "      <td>1986</td>\n",
       "      <td>Google TV</td>\n",
       "      <td>119990</td>\n",
       "    </tr>\n",
       "    <tr>\n",
       "      <th>315</th>\n",
       "      <td>TCL</td>\n",
       "      <td>85P745</td>\n",
       "      <td>4K UHD</td>\n",
       "      <td>LED</td>\n",
       "      <td>85</td>\n",
       "      <td>4.0 out of 5 stars</td>\n",
       "      <td>1986</td>\n",
       "      <td>Google TV</td>\n",
       "      <td>259990</td>\n",
       "    </tr>\n",
       "    <tr>\n",
       "      <th>316</th>\n",
       "      <td>TCL</td>\n",
       "      <td>65C645</td>\n",
       "      <td>4K UHD</td>\n",
       "      <td>QLED</td>\n",
       "      <td>65</td>\n",
       "      <td>4.1 out of 5 stars</td>\n",
       "      <td>1986</td>\n",
       "      <td>Google TV</td>\n",
       "      <td>84990</td>\n",
       "    </tr>\n",
       "    <tr>\n",
       "      <th>317</th>\n",
       "      <td>Panasonic</td>\n",
       "      <td>TH-55MX660DX</td>\n",
       "      <td>4K UHD</td>\n",
       "      <td>LED</td>\n",
       "      <td>55</td>\n",
       "      <td>4.0 out of 5 stars</td>\n",
       "      <td>427</td>\n",
       "      <td>Google TV</td>\n",
       "      <td>32990</td>\n",
       "    </tr>\n",
       "    <tr>\n",
       "      <th>318</th>\n",
       "      <td>Hisense</td>\n",
       "      <td>55E7K PRO</td>\n",
       "      <td>4K UHD</td>\n",
       "      <td>QLED</td>\n",
       "      <td>55</td>\n",
       "      <td>4.3 out of 5 stars</td>\n",
       "      <td>2699</td>\n",
       "      <td>Smart TV</td>\n",
       "      <td>55489</td>\n",
       "    </tr>\n",
       "  </tbody>\n",
       "</table>\n",
       "<p>319 rows × 9 columns</p>\n",
       "</div>"
      ],
      "text/plain": [
       "           Brand  Model Number Display Screen  Inches             Ratings  \\\n",
       "0             MI    L43M8-5XIN  4K UHD    LED      43  4.2 out of 5 stars   \n",
       "1             LG   43UR7500PSC  4K UHD    LED      43  4.2 out of 5 stars   \n",
       "2    Sony Bravia     KD-55X74L  4K UHD    LED      55  4.8 out of 5 stars   \n",
       "3    Sony Bravia     KD-43X64L  4K UHD    LED      43  4.8 out of 5 stars   \n",
       "4    Sony Bravia     KD-65X74L  4K UHD    LED      65  4.8 out of 5 stars   \n",
       "..           ...           ...     ...    ...     ...                 ...   \n",
       "314          TCL    65P635 Pro  4K UHD    LED      65  4.1 out of 5 stars   \n",
       "315          TCL        85P745  4K UHD    LED      85  4.0 out of 5 stars   \n",
       "316          TCL        65C645  4K UHD   QLED      65  4.1 out of 5 stars   \n",
       "317    Panasonic  TH-55MX660DX  4K UHD    LED      55  4.0 out of 5 stars   \n",
       "318      Hisense     55E7K PRO  4K UHD   QLED      55  4.3 out of 5 stars   \n",
       "\n",
       "     Number of ratings   Platform   Price  \n",
       "0                 2906  Google TV   32999  \n",
       "1                 2366  Google TV   32989  \n",
       "2                14345  Google TV   57990  \n",
       "3                14345  Google TV   40990  \n",
       "4                14345  Google TV   77990  \n",
       "..                 ...        ...     ...  \n",
       "314               1986  Google TV  119990  \n",
       "315               1986  Google TV  259990  \n",
       "316               1986  Google TV   84990  \n",
       "317                427  Google TV   32990  \n",
       "318               2699   Smart TV   55489  \n",
       "\n",
       "[319 rows x 9 columns]"
      ]
     },
     "execution_count": 7,
     "metadata": {},
     "output_type": "execute_result"
    }
   ],
   "source": [
    "df"
   ]
  },
  {
   "cell_type": "code",
   "execution_count": 8,
   "id": "3c7fbfd9",
   "metadata": {},
   "outputs": [
    {
     "data": {
      "text/plain": [
       "array(['MI', 'LG', 'Sony Bravia', 'Panasonic', 'Sony Bravia 2', 'TOSHIBA',\n",
       "       'Samsung', 'Acer', 'Hisense', 'TCL', 'OnePlus', 'Haier'],\n",
       "      dtype=object)"
      ]
     },
     "execution_count": 8,
     "metadata": {},
     "output_type": "execute_result"
    }
   ],
   "source": [
    "df['Brand'].unique()"
   ]
  },
  {
   "cell_type": "code",
   "execution_count": 9,
   "id": "f4caeabf",
   "metadata": {},
   "outputs": [
    {
     "data": {
      "text/plain": [
       "Index(['Brand', 'Model Number', 'Display', 'Screen', 'Inches', 'Ratings',\n",
       "       'Number of ratings', 'Platform', 'Price'],\n",
       "      dtype='object')"
      ]
     },
     "execution_count": 9,
     "metadata": {},
     "output_type": "execute_result"
    }
   ],
   "source": [
    "df.columns"
   ]
  },
  {
   "cell_type": "code",
   "execution_count": 10,
   "id": "3e2d0a24",
   "metadata": {},
   "outputs": [
    {
     "name": "stdout",
     "output_type": "stream",
     "text": [
      "<class 'pandas.core.frame.DataFrame'>\n",
      "RangeIndex: 319 entries, 0 to 318\n",
      "Data columns (total 9 columns):\n",
      " #   Column             Non-Null Count  Dtype \n",
      "---  ------             --------------  ----- \n",
      " 0   Brand              319 non-null    object\n",
      " 1   Model Number       319 non-null    object\n",
      " 2   Display            319 non-null    object\n",
      " 3   Screen             319 non-null    object\n",
      " 4   Inches             319 non-null    int64 \n",
      " 5   Ratings            319 non-null    object\n",
      " 6   Number of ratings  319 non-null    int64 \n",
      " 7   Platform           319 non-null    object\n",
      " 8   Price              319 non-null    int64 \n",
      "dtypes: int64(3), object(6)\n",
      "memory usage: 22.6+ KB\n"
     ]
    }
   ],
   "source": [
    "df.info()"
   ]
  },
  {
   "cell_type": "markdown",
   "id": "ba81a166",
   "metadata": {},
   "source": [
    "### Checking for null values"
   ]
  },
  {
   "cell_type": "code",
   "execution_count": 11,
   "id": "1d46e4fc",
   "metadata": {},
   "outputs": [
    {
     "data": {
      "text/plain": [
       "Brand                0\n",
       "Model Number         0\n",
       "Display              0\n",
       "Screen               0\n",
       "Inches               0\n",
       "Ratings              0\n",
       "Number of ratings    0\n",
       "Platform             0\n",
       "Price                0\n",
       "dtype: int64"
      ]
     },
     "execution_count": 11,
     "metadata": {},
     "output_type": "execute_result"
    }
   ],
   "source": [
    "df.isnull().sum()"
   ]
  },
  {
   "cell_type": "code",
   "execution_count": 12,
   "id": "41700ad7",
   "metadata": {},
   "outputs": [
    {
     "data": {
      "text/plain": [
       "array(['Google TV', 'Fire TV', 'Smart TV', 'Android'], dtype=object)"
      ]
     },
     "execution_count": 12,
     "metadata": {},
     "output_type": "execute_result"
    }
   ],
   "source": [
    "df['Platform'].unique()"
   ]
  },
  {
   "cell_type": "code",
   "execution_count": 13,
   "id": "909bb741",
   "metadata": {},
   "outputs": [
    {
     "data": {
      "text/plain": [
       "<AxesSubplot:>"
      ]
     },
     "execution_count": 13,
     "metadata": {},
     "output_type": "execute_result"
    },
    {
     "data": {
      "image/png": "[encoded data removed]",
      "text/plain": [
       "<Figure size 640x480 with 2 Axes>"
      ]
     },
     "metadata": {},
     "output_type": "display_data"
    }
   ],
   "source": [
    "#plt.figure(figsize = (10,10))\n",
    "sns.heatmap(df.corr(),annot=True, fmt=\".4f\",cmap='RdYlGn')"
   ]
  },
  {
   "cell_type": "code",
   "execution_count": 14,
   "id": "07b469a0",
   "metadata": {},
   "outputs": [
    {
     "data": {
      "text/html": [
       "<div>\n",
       "<style scoped>\n",
       "    .dataframe tbody tr th:only-of-type {\n",
       "        vertical-align: middle;\n",
       "    }\n",
       "\n",
       "    .dataframe tbody tr th {\n",
       "        vertical-align: top;\n",
       "    }\n",
       "\n",
       "    .dataframe thead th {\n",
       "        text-align: right;\n",
       "    }\n",
       "</style>\n",
       "<table border=\"1\" class=\"dataframe\">\n",
       "  <thead>\n",
       "    <tr style=\"text-align: right;\">\n",
       "      <th></th>\n",
       "      <th>Inches</th>\n",
       "      <th>Number of ratings</th>\n",
       "      <th>Price</th>\n",
       "    </tr>\n",
       "  </thead>\n",
       "  <tbody>\n",
       "    <tr>\n",
       "      <th>count</th>\n",
       "      <td>319.000000</td>\n",
       "      <td>319.000000</td>\n",
       "      <td>3.190000e+02</td>\n",
       "    </tr>\n",
       "    <tr>\n",
       "      <th>mean</th>\n",
       "      <td>54.702194</td>\n",
       "      <td>4650.100313</td>\n",
       "      <td>7.453803e+04</td>\n",
       "    </tr>\n",
       "    <tr>\n",
       "      <th>std</th>\n",
       "      <td>22.343566</td>\n",
       "      <td>7307.280629</td>\n",
       "      <td>1.426161e+05</td>\n",
       "    </tr>\n",
       "    <tr>\n",
       "      <th>min</th>\n",
       "      <td>32.000000</td>\n",
       "      <td>0.000000</td>\n",
       "      <td>1.149000e+04</td>\n",
       "    </tr>\n",
       "    <tr>\n",
       "      <th>25%</th>\n",
       "      <td>43.000000</td>\n",
       "      <td>158.000000</td>\n",
       "      <td>2.699900e+04</td>\n",
       "    </tr>\n",
       "    <tr>\n",
       "      <th>50%</th>\n",
       "      <td>50.000000</td>\n",
       "      <td>1856.000000</td>\n",
       "      <td>4.099000e+04</td>\n",
       "    </tr>\n",
       "    <tr>\n",
       "      <th>75%</th>\n",
       "      <td>55.000000</td>\n",
       "      <td>5676.000000</td>\n",
       "      <td>6.624450e+04</td>\n",
       "    </tr>\n",
       "    <tr>\n",
       "      <th>max</th>\n",
       "      <td>138.000000</td>\n",
       "      <td>44536.000000</td>\n",
       "      <td>1.399900e+06</td>\n",
       "    </tr>\n",
       "  </tbody>\n",
       "</table>\n",
       "</div>"
      ],
      "text/plain": [
       "           Inches  Number of ratings         Price\n",
       "count  319.000000         319.000000  3.190000e+02\n",
       "mean    54.702194        4650.100313  7.453803e+04\n",
       "std     22.343566        7307.280629  1.426161e+05\n",
       "min     32.000000           0.000000  1.149000e+04\n",
       "25%     43.000000         158.000000  2.699900e+04\n",
       "50%     50.000000        1856.000000  4.099000e+04\n",
       "75%     55.000000        5676.000000  6.624450e+04\n",
       "max    138.000000       44536.000000  1.399900e+06"
      ]
     },
     "execution_count": 14,
     "metadata": {},
     "output_type": "execute_result"
    }
   ],
   "source": [
    "df.describe()"
   ]
  },
  {
   "cell_type": "markdown",
   "id": "807c369f",
   "metadata": {},
   "source": [
    "### Getting Unique Values and their count"
   ]
  },
  {
   "cell_type": "code",
   "execution_count": 15,
   "id": "b96b6498",
   "metadata": {},
   "outputs": [
    {
     "data": {
      "text/plain": [
       "Index(['Brand', 'Model Number', 'Display', 'Screen', 'Inches', 'Ratings',\n",
       "       'Number of ratings', 'Platform', 'Price'],\n",
       "      dtype='object')"
      ]
     },
     "execution_count": 15,
     "metadata": {},
     "output_type": "execute_result"
    }
   ],
   "source": [
    "df.columns"
   ]
  },
  {
   "cell_type": "code",
   "execution_count": 16,
   "id": "dd283671",
   "metadata": {},
   "outputs": [
    {
     "data": {
      "text/plain": [
       "array(['MI', 'LG', 'Sony Bravia', 'Panasonic', 'Sony Bravia 2', 'TOSHIBA',\n",
       "       'Samsung', 'Acer', 'Hisense', 'TCL', 'OnePlus', 'Haier'],\n",
       "      dtype=object)"
      ]
     },
     "execution_count": 16,
     "metadata": {},
     "output_type": "execute_result"
    }
   ],
   "source": [
    "df['Brand'].unique()"
   ]
  },
  {
   "cell_type": "code",
   "execution_count": 17,
   "id": "92a2bb40",
   "metadata": {},
   "outputs": [
    {
     "data": {
      "text/plain": [
       "Samsung          85\n",
       "MI               49\n",
       "TCL              39\n",
       "LG               36\n",
       "TOSHIBA          28\n",
       "Panasonic        20\n",
       "Sony Bravia      19\n",
       "OnePlus          14\n",
       "Hisense          13\n",
       "Acer              8\n",
       "Haier             6\n",
       "Sony Bravia 2     2\n",
       "Name: Brand, dtype: int64"
      ]
     },
     "execution_count": 17,
     "metadata": {},
     "output_type": "execute_result"
    }
   ],
   "source": [
    "df['Brand'].value_counts()"
   ]
  },
  {
   "cell_type": "code",
   "execution_count": 18,
   "id": "213670b9",
   "metadata": {},
   "outputs": [
    {
     "data": {
      "text/plain": [
       "TH-43MX660DX      8\n",
       "43V35MP           7\n",
       "L32R8-FVIN        6\n",
       "TH-55MX660DX      6\n",
       "43Y1S Pro         6\n",
       "                 ..\n",
       "QA50Q60DAULXL     1\n",
       "QA65LS03BAKLXL    1\n",
       "43V6B             1\n",
       "QA55S90CAKLXL     1\n",
       "55E7K PRO         1\n",
       "Name: Model Number, Length: 194, dtype: int64"
      ]
     },
     "execution_count": 18,
     "metadata": {},
     "output_type": "execute_result"
    }
   ],
   "source": [
    "df['Model Number'].value_counts()"
   ]
  },
  {
   "cell_type": "code",
   "execution_count": 19,
   "id": "01205979",
   "metadata": {},
   "outputs": [
    {
     "data": {
      "text/plain": [
       "array(['4K UHD', 'HD ', 'Full HD', '8K UHD', '4K', '4K Dolby Vision',\n",
       "       'UHD'], dtype=object)"
      ]
     },
     "execution_count": 19,
     "metadata": {},
     "output_type": "execute_result"
    }
   ],
   "source": [
    "df['Display'].unique()"
   ]
  },
  {
   "cell_type": "code",
   "execution_count": 20,
   "id": "3eca4bf5",
   "metadata": {},
   "outputs": [
    {
     "data": {
      "text/plain": [
       "4K UHD             233\n",
       "HD                  38\n",
       "Full HD             29\n",
       "4K                   7\n",
       "8K UHD               5\n",
       "4K Dolby Vision      5\n",
       "UHD                  2\n",
       "Name: Display, dtype: int64"
      ]
     },
     "execution_count": 20,
     "metadata": {},
     "output_type": "execute_result"
    }
   ],
   "source": [
    "df['Display'].value_counts()"
   ]
  },
  {
   "cell_type": "code",
   "execution_count": 21,
   "id": "429c05e9",
   "metadata": {},
   "outputs": [
    {
     "data": {
      "text/plain": [
       "array(['LED', 'OLED', 'QLED', 'QNED', 'NanoCell', 'Laser'], dtype=object)"
      ]
     },
     "execution_count": 21,
     "metadata": {},
     "output_type": "execute_result"
    }
   ],
   "source": [
    "df['Screen'].unique()"
   ]
  },
  {
   "cell_type": "code",
   "execution_count": 22,
   "id": "1edc6586",
   "metadata": {},
   "outputs": [
    {
     "data": {
      "text/plain": [
       "LED         240\n",
       "QLED         59\n",
       "OLED         14\n",
       "NanoCell      3\n",
       "QNED          2\n",
       "Laser         1\n",
       "Name: Screen, dtype: int64"
      ]
     },
     "execution_count": 22,
     "metadata": {},
     "output_type": "execute_result"
    }
   ],
   "source": [
    "df['Screen'].value_counts()"
   ]
  },
  {
   "cell_type": "code",
   "execution_count": 23,
   "id": "f0104196",
   "metadata": {},
   "outputs": [
    {
     "data": {
      "text/plain": [
       "array(['Google TV', 'Fire TV', 'Smart TV', 'Android'], dtype=object)"
      ]
     },
     "execution_count": 23,
     "metadata": {},
     "output_type": "execute_result"
    }
   ],
   "source": [
    "df['Platform'].unique()"
   ]
  },
  {
   "cell_type": "code",
   "execution_count": 24,
   "id": "204d2e49",
   "metadata": {},
   "outputs": [
    {
     "data": {
      "text/plain": [
       "Smart TV     152\n",
       "Google TV    130\n",
       "Android       21\n",
       "Fire TV       16\n",
       "Name: Platform, dtype: int64"
      ]
     },
     "execution_count": 24,
     "metadata": {},
     "output_type": "execute_result"
    }
   ],
   "source": [
    "df['Platform'].value_counts()"
   ]
  },
  {
   "cell_type": "code",
   "execution_count": 25,
   "id": "8a9cf391",
   "metadata": {},
   "outputs": [],
   "source": [
    "#Splitting\n",
    "#df[\"Ratings out of 5\"]=df[\"Ratings\"].apply(lambda x:x.split(\" \")[0])\n",
    "df['Ratings']=df['Ratings'].str.split(\" \").str[0]"
   ]
  },
  {
   "cell_type": "code",
   "execution_count": 26,
   "id": "27e4cb63",
   "metadata": {},
   "outputs": [
    {
     "data": {
      "text/html": [
       "<div>\n",
       "<style scoped>\n",
       "    .dataframe tbody tr th:only-of-type {\n",
       "        vertical-align: middle;\n",
       "    }\n",
       "\n",
       "    .dataframe tbody tr th {\n",
       "        vertical-align: top;\n",
       "    }\n",
       "\n",
       "    .dataframe thead th {\n",
       "        text-align: right;\n",
       "    }\n",
       "</style>\n",
       "<table border=\"1\" class=\"dataframe\">\n",
       "  <thead>\n",
       "    <tr style=\"text-align: right;\">\n",
       "      <th></th>\n",
       "      <th>Brand</th>\n",
       "      <th>Model Number</th>\n",
       "      <th>Display</th>\n",
       "      <th>Screen</th>\n",
       "      <th>Inches</th>\n",
       "      <th>Ratings</th>\n",
       "      <th>Number of ratings</th>\n",
       "      <th>Platform</th>\n",
       "      <th>Price</th>\n",
       "    </tr>\n",
       "  </thead>\n",
       "  <tbody>\n",
       "    <tr>\n",
       "      <th>0</th>\n",
       "      <td>MI</td>\n",
       "      <td>L43M8-5XIN</td>\n",
       "      <td>4K UHD</td>\n",
       "      <td>LED</td>\n",
       "      <td>43</td>\n",
       "      <td>4.2</td>\n",
       "      <td>2906</td>\n",
       "      <td>Google TV</td>\n",
       "      <td>32999</td>\n",
       "    </tr>\n",
       "    <tr>\n",
       "      <th>1</th>\n",
       "      <td>LG</td>\n",
       "      <td>43UR7500PSC</td>\n",
       "      <td>4K UHD</td>\n",
       "      <td>LED</td>\n",
       "      <td>43</td>\n",
       "      <td>4.2</td>\n",
       "      <td>2366</td>\n",
       "      <td>Google TV</td>\n",
       "      <td>32989</td>\n",
       "    </tr>\n",
       "    <tr>\n",
       "      <th>2</th>\n",
       "      <td>Sony Bravia</td>\n",
       "      <td>KD-55X74L</td>\n",
       "      <td>4K UHD</td>\n",
       "      <td>LED</td>\n",
       "      <td>55</td>\n",
       "      <td>4.8</td>\n",
       "      <td>14345</td>\n",
       "      <td>Google TV</td>\n",
       "      <td>57990</td>\n",
       "    </tr>\n",
       "    <tr>\n",
       "      <th>3</th>\n",
       "      <td>Sony Bravia</td>\n",
       "      <td>KD-43X64L</td>\n",
       "      <td>4K UHD</td>\n",
       "      <td>LED</td>\n",
       "      <td>43</td>\n",
       "      <td>4.8</td>\n",
       "      <td>14345</td>\n",
       "      <td>Google TV</td>\n",
       "      <td>40990</td>\n",
       "    </tr>\n",
       "    <tr>\n",
       "      <th>4</th>\n",
       "      <td>Sony Bravia</td>\n",
       "      <td>KD-65X74L</td>\n",
       "      <td>4K UHD</td>\n",
       "      <td>LED</td>\n",
       "      <td>65</td>\n",
       "      <td>4.8</td>\n",
       "      <td>14345</td>\n",
       "      <td>Google TV</td>\n",
       "      <td>77990</td>\n",
       "    </tr>\n",
       "    <tr>\n",
       "      <th>...</th>\n",
       "      <td>...</td>\n",
       "      <td>...</td>\n",
       "      <td>...</td>\n",
       "      <td>...</td>\n",
       "      <td>...</td>\n",
       "      <td>...</td>\n",
       "      <td>...</td>\n",
       "      <td>...</td>\n",
       "      <td>...</td>\n",
       "    </tr>\n",
       "    <tr>\n",
       "      <th>314</th>\n",
       "      <td>TCL</td>\n",
       "      <td>65P635 Pro</td>\n",
       "      <td>4K UHD</td>\n",
       "      <td>LED</td>\n",
       "      <td>65</td>\n",
       "      <td>4.1</td>\n",
       "      <td>1986</td>\n",
       "      <td>Google TV</td>\n",
       "      <td>119990</td>\n",
       "    </tr>\n",
       "    <tr>\n",
       "      <th>315</th>\n",
       "      <td>TCL</td>\n",
       "      <td>85P745</td>\n",
       "      <td>4K UHD</td>\n",
       "      <td>LED</td>\n",
       "      <td>85</td>\n",
       "      <td>4.0</td>\n",
       "      <td>1986</td>\n",
       "      <td>Google TV</td>\n",
       "      <td>259990</td>\n",
       "    </tr>\n",
       "    <tr>\n",
       "      <th>316</th>\n",
       "      <td>TCL</td>\n",
       "      <td>65C645</td>\n",
       "      <td>4K UHD</td>\n",
       "      <td>QLED</td>\n",
       "      <td>65</td>\n",
       "      <td>4.1</td>\n",
       "      <td>1986</td>\n",
       "      <td>Google TV</td>\n",
       "      <td>84990</td>\n",
       "    </tr>\n",
       "    <tr>\n",
       "      <th>317</th>\n",
       "      <td>Panasonic</td>\n",
       "      <td>TH-55MX660DX</td>\n",
       "      <td>4K UHD</td>\n",
       "      <td>LED</td>\n",
       "      <td>55</td>\n",
       "      <td>4.0</td>\n",
       "      <td>427</td>\n",
       "      <td>Google TV</td>\n",
       "      <td>32990</td>\n",
       "    </tr>\n",
       "    <tr>\n",
       "      <th>318</th>\n",
       "      <td>Hisense</td>\n",
       "      <td>55E7K PRO</td>\n",
       "      <td>4K UHD</td>\n",
       "      <td>QLED</td>\n",
       "      <td>55</td>\n",
       "      <td>4.3</td>\n",
       "      <td>2699</td>\n",
       "      <td>Smart TV</td>\n",
       "      <td>55489</td>\n",
       "    </tr>\n",
       "  </tbody>\n",
       "</table>\n",
       "<p>319 rows × 9 columns</p>\n",
       "</div>"
      ],
      "text/plain": [
       "           Brand  Model Number Display Screen  Inches Ratings  \\\n",
       "0             MI    L43M8-5XIN  4K UHD    LED      43     4.2   \n",
       "1             LG   43UR7500PSC  4K UHD    LED      43     4.2   \n",
       "2    Sony Bravia     KD-55X74L  4K UHD    LED      55     4.8   \n",
       "3    Sony Bravia     KD-43X64L  4K UHD    LED      43     4.8   \n",
       "4    Sony Bravia     KD-65X74L  4K UHD    LED      65     4.8   \n",
       "..           ...           ...     ...    ...     ...     ...   \n",
       "314          TCL    65P635 Pro  4K UHD    LED      65     4.1   \n",
       "315          TCL        85P745  4K UHD    LED      85     4.0   \n",
       "316          TCL        65C645  4K UHD   QLED      65     4.1   \n",
       "317    Panasonic  TH-55MX660DX  4K UHD    LED      55     4.0   \n",
       "318      Hisense     55E7K PRO  4K UHD   QLED      55     4.3   \n",
       "\n",
       "     Number of ratings   Platform   Price  \n",
       "0                 2906  Google TV   32999  \n",
       "1                 2366  Google TV   32989  \n",
       "2                14345  Google TV   57990  \n",
       "3                14345  Google TV   40990  \n",
       "4                14345  Google TV   77990  \n",
       "..                 ...        ...     ...  \n",
       "314               1986  Google TV  119990  \n",
       "315               1986  Google TV  259990  \n",
       "316               1986  Google TV   84990  \n",
       "317                427  Google TV   32990  \n",
       "318               2699   Smart TV   55489  \n",
       "\n",
       "[319 rows x 9 columns]"
      ]
     },
     "execution_count": 26,
     "metadata": {},
     "output_type": "execute_result"
    }
   ],
   "source": [
    "df"
   ]
  },
  {
   "cell_type": "markdown",
   "id": "08b50607",
   "metadata": {},
   "source": [
    "### Data Viz"
   ]
  },
  {
   "cell_type": "code",
   "execution_count": 27,
   "id": "a4771db9",
   "metadata": {},
   "outputs": [
    {
     "name": "stderr",
     "output_type": "stream",
     "text": [
      "C:\\Users\\SAIKRISHNA\\AppData\\Local\\Temp\\ipykernel_17380\\834922981.py:1: UserWarning: \n",
      "\n",
      "`distplot` is a deprecated function and will be removed in seaborn v0.14.0.\n",
      "\n",
      "Please adapt your code to use either `displot` (a figure-level function with\n",
      "similar flexibility) or `histplot` (an axes-level function for histograms).\n",
      "\n",
      "For a guide to updating your code to use the new functions, please see\n",
      "https://gist.github.com/mwaskom/de44147ed2974457ad6372750bbe5751\n",
      "\n",
      "  sns.distplot(df['Price'])\n"
     ]
    },
    {
     "data": {
      "text/plain": [
       "<AxesSubplot:xlabel='Price', ylabel='Density'>"
      ]
     },
     "execution_count": 27,
     "metadata": {},
     "output_type": "execute_result"
    },
    {
     "data": {
      "image/png": "[encoded data removed]",
      "text/plain": [
       "<Figure size 640x480 with 1 Axes>"
      ]
     },
     "metadata": {},
     "output_type": "display_data"
    }
   ],
   "source": [
    "sns.distplot(df['Price'])"
   ]
  },
  {
   "cell_type": "code",
   "execution_count": 28,
   "id": "177b3486",
   "metadata": {},
   "outputs": [
    {
     "data": {
      "text/plain": [
       "<AxesSubplot:xlabel='Price', ylabel='Count'>"
      ]
     },
     "execution_count": 28,
     "metadata": {},
     "output_type": "execute_result"
    },
    {
     "data": {
      "image/png": "[encoded data removed]",
      "text/plain": [
       "<Figure size 640x480 with 1 Axes>"
      ]
     },
     "metadata": {},
     "output_type": "display_data"
    }
   ],
   "source": [
    "sns.histplot(df['Price'],kde=True)"
   ]
  },
  {
   "cell_type": "code",
   "execution_count": 29,
   "id": "d6408ff4",
   "metadata": {},
   "outputs": [
    {
     "data": {
      "text/plain": [
       "<AxesSubplot:xlabel='Inches', ylabel='Count'>"
      ]
     },
     "execution_count": 29,
     "metadata": {},
     "output_type": "execute_result"
    },
    {
     "data": {
      "image/png": "[encoded data removed]",
      "text/plain": [
       "<Figure size 640x480 with 1 Axes>"
      ]
     },
     "metadata": {},
     "output_type": "display_data"
    }
   ],
   "source": [
    "sns.histplot(df['Inches'],kde=True)"
   ]
  },
  {
   "cell_type": "code",
   "execution_count": 30,
   "id": "4198180e",
   "metadata": {},
   "outputs": [
    {
     "name": "stderr",
     "output_type": "stream",
     "text": [
      "C:\\Users\\SAIKRISHNA\\AppData\\Local\\Temp\\ipykernel_17380\\1439577752.py:1: UserWarning: \n",
      "\n",
      "`distplot` is a deprecated function and will be removed in seaborn v0.14.0.\n",
      "\n",
      "Please adapt your code to use either `displot` (a figure-level function with\n",
      "similar flexibility) or `histplot` (an axes-level function for histograms).\n",
      "\n",
      "For a guide to updating your code to use the new functions, please see\n",
      "https://gist.github.com/mwaskom/de44147ed2974457ad6372750bbe5751\n",
      "\n",
      "  sns.distplot(df['Inches'])\n"
     ]
    },
    {
     "data": {
      "text/plain": [
       "<AxesSubplot:xlabel='Inches', ylabel='Density'>"
      ]
     },
     "execution_count": 30,
     "metadata": {},
     "output_type": "execute_result"
    },
    {
     "data": {
      "image/png": "[encoded data removed]",
      "text/plain": [
       "<Figure size 640x480 with 1 Axes>"
      ]
     },
     "metadata": {},
     "output_type": "display_data"
    }
   ],
   "source": [
    "sns.distplot(df['Inches'])"
   ]
  },
  {
   "cell_type": "code",
   "execution_count": 31,
   "id": "d82a5352",
   "metadata": {},
   "outputs": [
    {
     "data": {
      "text/plain": [
       "Text(0.5, 1.0, 'Brand vs Number of TVs')"
      ]
     },
     "execution_count": 31,
     "metadata": {},
     "output_type": "execute_result"
    },
    {
     "data": {
      "image/png": "[encoded data removed]",
      "text/plain": [
       "<Figure size 640x480 with 1 Axes>"
      ]
     },
     "metadata": {},
     "output_type": "display_data"
    }
   ],
   "source": [
    "plt.hist(df['Brand'],color='royalblue')\n",
    "plt.xlabel(\"TV Brand\")\n",
    "plt.xticks(rotation=90)\n",
    "plt.ylabel(\"Number of TVs\")\n",
    "plt.title(\"Brand vs Number of TVs\")"
   ]
  },
  {
   "cell_type": "code",
   "execution_count": 32,
   "id": "9e0ffe64",
   "metadata": {},
   "outputs": [
    {
     "data": {
      "text/plain": [
       "Text(0.5, 1.0, 'Display vs Number of TVs')"
      ]
     },
     "execution_count": 32,
     "metadata": {},
     "output_type": "execute_result"
    },
    {
     "data": {
      "image/png": "[encoded data removed]",
      "text/plain": [
       "<Figure size 640x480 with 1 Axes>"
      ]
     },
     "metadata": {},
     "output_type": "display_data"
    }
   ],
   "source": [
    "plt.hist(df['Display'],color='brown')\n",
    "plt.xlabel(\"Display\")\n",
    "plt.xticks(rotation=90)\n",
    "plt.ylabel(\"Number of TVs\")\n",
    "plt.title(\"Display vs Number of TVs\")"
   ]
  },
  {
   "cell_type": "code",
   "execution_count": 33,
   "id": "c9c2f6a5",
   "metadata": {},
   "outputs": [
    {
     "data": {
      "text/plain": [
       "Text(0.5, 1.0, 'Resolution vs Number of TVs')"
      ]
     },
     "execution_count": 33,
     "metadata": {},
     "output_type": "execute_result"
    },
    {
     "data": {
      "image/png": "[encoded data removed]",
      "text/plain": [
       "<Figure size 640x480 with 1 Axes>"
      ]
     },
     "metadata": {},
     "output_type": "display_data"
    }
   ],
   "source": [
    "plt.hist(df['Screen'],color='green')\n",
    "plt.xlabel(\"Screen Resolution\")\n",
    "plt.xticks(rotation=90)\n",
    "plt.ylabel(\"Number of TVs\")\n",
    "plt.title(\"Resolution vs Number of TVs\")"
   ]
  },
  {
   "cell_type": "markdown",
   "id": "ce4ba533",
   "metadata": {},
   "source": [
    "### Observation: TVs mostly are LED followed by QLED that act as a backlight to display pictures"
   ]
  },
  {
   "cell_type": "code",
   "execution_count": 34,
   "id": "f4186831",
   "metadata": {},
   "outputs": [],
   "source": [
    "df1=df['Ratings'].value_counts()"
   ]
  },
  {
   "cell_type": "code",
   "execution_count": 35,
   "id": "42cbc548",
   "metadata": {},
   "outputs": [
    {
     "data": {
      "text/plain": [
       "4.2    104\n",
       "4.1     89\n",
       "4.3     26\n",
       "4.0     25\n",
       "4.8     12\n",
       "5.0      9\n",
       "4.5      8\n",
       "3.4      8\n",
       "4.7      7\n",
       "2.9      6\n",
       "3.5      5\n",
       "4.4      5\n",
       "4.9      2\n",
       "2.8      2\n",
       "3.6      2\n",
       "3.3      2\n",
       "4.6      1\n",
       "0        1\n",
       "3.2      1\n",
       "2.0      1\n",
       "Name: Ratings, dtype: int64"
      ]
     },
     "execution_count": 35,
     "metadata": {},
     "output_type": "execute_result"
    }
   ],
   "source": [
    "df1"
   ]
  },
  {
   "cell_type": "code",
   "execution_count": 36,
   "id": "1be81bef",
   "metadata": {},
   "outputs": [],
   "source": [
    "df2=df.groupby(['Ratings']).size().reset_index().rename(columns={0:'Rating count'})"
   ]
  },
  {
   "cell_type": "code",
   "execution_count": 37,
   "id": "435e95ec",
   "metadata": {},
   "outputs": [
    {
     "data": {
      "text/html": [
       "<div>\n",
       "<style scoped>\n",
       "    .dataframe tbody tr th:only-of-type {\n",
       "        vertical-align: middle;\n",
       "    }\n",
       "\n",
       "    .dataframe tbody tr th {\n",
       "        vertical-align: top;\n",
       "    }\n",
       "\n",
       "    .dataframe thead th {\n",
       "        text-align: right;\n",
       "    }\n",
       "</style>\n",
       "<table border=\"1\" class=\"dataframe\">\n",
       "  <thead>\n",
       "    <tr style=\"text-align: right;\">\n",
       "      <th></th>\n",
       "      <th>Ratings</th>\n",
       "      <th>Rating count</th>\n",
       "    </tr>\n",
       "  </thead>\n",
       "  <tbody>\n",
       "    <tr>\n",
       "      <th>0</th>\n",
       "      <td>0</td>\n",
       "      <td>1</td>\n",
       "    </tr>\n",
       "    <tr>\n",
       "      <th>1</th>\n",
       "      <td>2.0</td>\n",
       "      <td>1</td>\n",
       "    </tr>\n",
       "    <tr>\n",
       "      <th>2</th>\n",
       "      <td>2.8</td>\n",
       "      <td>2</td>\n",
       "    </tr>\n",
       "    <tr>\n",
       "      <th>3</th>\n",
       "      <td>2.9</td>\n",
       "      <td>6</td>\n",
       "    </tr>\n",
       "    <tr>\n",
       "      <th>4</th>\n",
       "      <td>3.2</td>\n",
       "      <td>1</td>\n",
       "    </tr>\n",
       "    <tr>\n",
       "      <th>5</th>\n",
       "      <td>3.3</td>\n",
       "      <td>2</td>\n",
       "    </tr>\n",
       "    <tr>\n",
       "      <th>6</th>\n",
       "      <td>3.4</td>\n",
       "      <td>8</td>\n",
       "    </tr>\n",
       "    <tr>\n",
       "      <th>7</th>\n",
       "      <td>3.5</td>\n",
       "      <td>5</td>\n",
       "    </tr>\n",
       "    <tr>\n",
       "      <th>8</th>\n",
       "      <td>3.6</td>\n",
       "      <td>2</td>\n",
       "    </tr>\n",
       "    <tr>\n",
       "      <th>9</th>\n",
       "      <td>4.0</td>\n",
       "      <td>25</td>\n",
       "    </tr>\n",
       "    <tr>\n",
       "      <th>10</th>\n",
       "      <td>4.1</td>\n",
       "      <td>89</td>\n",
       "    </tr>\n",
       "    <tr>\n",
       "      <th>11</th>\n",
       "      <td>4.2</td>\n",
       "      <td>104</td>\n",
       "    </tr>\n",
       "    <tr>\n",
       "      <th>12</th>\n",
       "      <td>4.3</td>\n",
       "      <td>26</td>\n",
       "    </tr>\n",
       "    <tr>\n",
       "      <th>13</th>\n",
       "      <td>4.4</td>\n",
       "      <td>5</td>\n",
       "    </tr>\n",
       "    <tr>\n",
       "      <th>14</th>\n",
       "      <td>4.5</td>\n",
       "      <td>8</td>\n",
       "    </tr>\n",
       "    <tr>\n",
       "      <th>15</th>\n",
       "      <td>4.6</td>\n",
       "      <td>1</td>\n",
       "    </tr>\n",
       "    <tr>\n",
       "      <th>16</th>\n",
       "      <td>4.7</td>\n",
       "      <td>7</td>\n",
       "    </tr>\n",
       "    <tr>\n",
       "      <th>17</th>\n",
       "      <td>4.8</td>\n",
       "      <td>12</td>\n",
       "    </tr>\n",
       "    <tr>\n",
       "      <th>18</th>\n",
       "      <td>4.9</td>\n",
       "      <td>2</td>\n",
       "    </tr>\n",
       "    <tr>\n",
       "      <th>19</th>\n",
       "      <td>5.0</td>\n",
       "      <td>9</td>\n",
       "    </tr>\n",
       "  </tbody>\n",
       "</table>\n",
       "</div>"
      ],
      "text/plain": [
       "   Ratings  Rating count\n",
       "0        0             1\n",
       "1      2.0             1\n",
       "2      2.8             2\n",
       "3      2.9             6\n",
       "4      3.2             1\n",
       "5      3.3             2\n",
       "6      3.4             8\n",
       "7      3.5             5\n",
       "8      3.6             2\n",
       "9      4.0            25\n",
       "10     4.1            89\n",
       "11     4.2           104\n",
       "12     4.3            26\n",
       "13     4.4             5\n",
       "14     4.5             8\n",
       "15     4.6             1\n",
       "16     4.7             7\n",
       "17     4.8            12\n",
       "18     4.9             2\n",
       "19     5.0             9"
      ]
     },
     "execution_count": 37,
     "metadata": {},
     "output_type": "execute_result"
    }
   ],
   "source": [
    "df2"
   ]
  },
  {
   "cell_type": "code",
   "execution_count": 38,
   "id": "94e05d15",
   "metadata": {},
   "outputs": [
    {
     "data": {
      "text/html": [
       "<div>\n",
       "<style scoped>\n",
       "    .dataframe tbody tr th:only-of-type {\n",
       "        vertical-align: middle;\n",
       "    }\n",
       "\n",
       "    .dataframe tbody tr th {\n",
       "        vertical-align: top;\n",
       "    }\n",
       "\n",
       "    .dataframe thead th {\n",
       "        text-align: right;\n",
       "    }\n",
       "</style>\n",
       "<table border=\"1\" class=\"dataframe\">\n",
       "  <thead>\n",
       "    <tr style=\"text-align: right;\">\n",
       "      <th></th>\n",
       "      <th>Ratings</th>\n",
       "      <th>Rating count</th>\n",
       "    </tr>\n",
       "  </thead>\n",
       "  <tbody>\n",
       "    <tr>\n",
       "      <th>0</th>\n",
       "      <td>0</td>\n",
       "      <td>1</td>\n",
       "    </tr>\n",
       "    <tr>\n",
       "      <th>1</th>\n",
       "      <td>2.0</td>\n",
       "      <td>1</td>\n",
       "    </tr>\n",
       "    <tr>\n",
       "      <th>2</th>\n",
       "      <td>2.8</td>\n",
       "      <td>2</td>\n",
       "    </tr>\n",
       "    <tr>\n",
       "      <th>3</th>\n",
       "      <td>2.9</td>\n",
       "      <td>6</td>\n",
       "    </tr>\n",
       "    <tr>\n",
       "      <th>4</th>\n",
       "      <td>3.2</td>\n",
       "      <td>1</td>\n",
       "    </tr>\n",
       "  </tbody>\n",
       "</table>\n",
       "</div>"
      ],
      "text/plain": [
       "  Ratings  Rating count\n",
       "0       0             1\n",
       "1     2.0             1\n",
       "2     2.8             2\n",
       "3     2.9             6\n",
       "4     3.2             1"
      ]
     },
     "execution_count": 38,
     "metadata": {},
     "output_type": "execute_result"
    }
   ],
   "source": [
    "df2.head()"
   ]
  },
  {
   "cell_type": "code",
   "execution_count": 39,
   "id": "7bd9fcc9",
   "metadata": {},
   "outputs": [
    {
     "data": {
      "text/plain": [
       "<AxesSubplot:xlabel='Ratings', ylabel='Rating count'>"
      ]
     },
     "execution_count": 39,
     "metadata": {},
     "output_type": "execute_result"
    },
    {
     "data": {
      "image/png": "[encoded data removed]",
      "text/plain": [
       "<Figure size 1200x1000 with 1 Axes>"
      ]
     },
     "metadata": {},
     "output_type": "display_data"
    }
   ],
   "source": [
    "plt.figure(figsize=(12,10))\n",
    "sns.barplot(x=\"Ratings\",y=\"Rating count\",data=df2)"
   ]
  },
  {
   "cell_type": "markdown",
   "id": "d473444b",
   "metadata": {},
   "source": [
    "### Observation: Most of the TVs are rated between 4.0 to 4.3 , with most being 4.2"
   ]
  },
  {
   "cell_type": "code",
   "execution_count": 40,
   "id": "d7f11421",
   "metadata": {},
   "outputs": [],
   "source": [
    "df3=df.groupby(['Inches']).size().reset_index().rename(columns={0:'Count'})"
   ]
  },
  {
   "cell_type": "code",
   "execution_count": 41,
   "id": "adc474cb",
   "metadata": {},
   "outputs": [
    {
     "data": {
      "text/html": [
       "<div>\n",
       "<style scoped>\n",
       "    .dataframe tbody tr th:only-of-type {\n",
       "        vertical-align: middle;\n",
       "    }\n",
       "\n",
       "    .dataframe tbody tr th {\n",
       "        vertical-align: top;\n",
       "    }\n",
       "\n",
       "    .dataframe thead th {\n",
       "        text-align: right;\n",
       "    }\n",
       "</style>\n",
       "<table border=\"1\" class=\"dataframe\">\n",
       "  <thead>\n",
       "    <tr style=\"text-align: right;\">\n",
       "      <th></th>\n",
       "      <th>Inches</th>\n",
       "      <th>Count</th>\n",
       "    </tr>\n",
       "  </thead>\n",
       "  <tbody>\n",
       "    <tr>\n",
       "      <th>0</th>\n",
       "      <td>32</td>\n",
       "      <td>44</td>\n",
       "    </tr>\n",
       "    <tr>\n",
       "      <th>1</th>\n",
       "      <td>40</td>\n",
       "      <td>6</td>\n",
       "    </tr>\n",
       "    <tr>\n",
       "      <th>2</th>\n",
       "      <td>43</td>\n",
       "      <td>97</td>\n",
       "    </tr>\n",
       "    <tr>\n",
       "      <th>3</th>\n",
       "      <td>48</td>\n",
       "      <td>1</td>\n",
       "    </tr>\n",
       "    <tr>\n",
       "      <th>4</th>\n",
       "      <td>50</td>\n",
       "      <td>20</td>\n",
       "    </tr>\n",
       "    <tr>\n",
       "      <th>5</th>\n",
       "      <td>55</td>\n",
       "      <td>72</td>\n",
       "    </tr>\n",
       "    <tr>\n",
       "      <th>6</th>\n",
       "      <td>65</td>\n",
       "      <td>41</td>\n",
       "    </tr>\n",
       "    <tr>\n",
       "      <th>7</th>\n",
       "      <td>75</td>\n",
       "      <td>9</td>\n",
       "    </tr>\n",
       "    <tr>\n",
       "      <th>8</th>\n",
       "      <td>77</td>\n",
       "      <td>1</td>\n",
       "    </tr>\n",
       "    <tr>\n",
       "      <th>9</th>\n",
       "      <td>83</td>\n",
       "      <td>1</td>\n",
       "    </tr>\n",
       "    <tr>\n",
       "      <th>10</th>\n",
       "      <td>85</td>\n",
       "      <td>5</td>\n",
       "    </tr>\n",
       "    <tr>\n",
       "      <th>11</th>\n",
       "      <td>98</td>\n",
       "      <td>2</td>\n",
       "    </tr>\n",
       "    <tr>\n",
       "      <th>12</th>\n",
       "      <td>108</td>\n",
       "      <td>8</td>\n",
       "    </tr>\n",
       "    <tr>\n",
       "      <th>13</th>\n",
       "      <td>120</td>\n",
       "      <td>1</td>\n",
       "    </tr>\n",
       "    <tr>\n",
       "      <th>14</th>\n",
       "      <td>138</td>\n",
       "      <td>11</td>\n",
       "    </tr>\n",
       "  </tbody>\n",
       "</table>\n",
       "</div>"
      ],
      "text/plain": [
       "    Inches  Count\n",
       "0       32     44\n",
       "1       40      6\n",
       "2       43     97\n",
       "3       48      1\n",
       "4       50     20\n",
       "5       55     72\n",
       "6       65     41\n",
       "7       75      9\n",
       "8       77      1\n",
       "9       83      1\n",
       "10      85      5\n",
       "11      98      2\n",
       "12     108      8\n",
       "13     120      1\n",
       "14     138     11"
      ]
     },
     "execution_count": 41,
     "metadata": {},
     "output_type": "execute_result"
    }
   ],
   "source": [
    "df3"
   ]
  },
  {
   "cell_type": "code",
   "execution_count": 42,
   "id": "e8aecb9b",
   "metadata": {},
   "outputs": [
    {
     "data": {
      "text/plain": [
       "<AxesSubplot:xlabel='Inches', ylabel='Count'>"
      ]
     },
     "execution_count": 42,
     "metadata": {},
     "output_type": "execute_result"
    },
    {
     "data": {
      "image/png": "[encoded data removed]",
      "text/plain": [
       "<Figure size 1200x1000 with 1 Axes>"
      ]
     },
     "metadata": {},
     "output_type": "display_data"
    }
   ],
   "source": [
    "plt.figure(figsize=(12,10))\n",
    "sns.barplot(x=\"Inches\",y=\"Count\",data=df3)"
   ]
  },
  {
   "cell_type": "markdown",
   "id": "cee4cb22",
   "metadata": {},
   "source": [
    "### Observation: Most of TVs in the dataset are 43 inches, followed by 55 and 32 inches"
   ]
  },
  {
   "cell_type": "code",
   "execution_count": 43,
   "id": "08b145d2",
   "metadata": {},
   "outputs": [],
   "source": [
    "df4=df['Brand'].value_counts()"
   ]
  },
  {
   "cell_type": "code",
   "execution_count": 44,
   "id": "179b633d",
   "metadata": {},
   "outputs": [
    {
     "data": {
      "text/plain": [
       "Samsung          85\n",
       "MI               49\n",
       "TCL              39\n",
       "LG               36\n",
       "TOSHIBA          28\n",
       "Panasonic        20\n",
       "Sony Bravia      19\n",
       "OnePlus          14\n",
       "Hisense          13\n",
       "Acer              8\n",
       "Haier             6\n",
       "Sony Bravia 2     2\n",
       "Name: Brand, dtype: int64"
      ]
     },
     "execution_count": 44,
     "metadata": {},
     "output_type": "execute_result"
    }
   ],
   "source": [
    "df4"
   ]
  },
  {
   "cell_type": "code",
   "execution_count": 45,
   "id": "0a1b17b9",
   "metadata": {},
   "outputs": [],
   "source": [
    "Brand_index=df['Brand'].value_counts().index"
   ]
  },
  {
   "cell_type": "code",
   "execution_count": 46,
   "id": "8d1e2343",
   "metadata": {},
   "outputs": [
    {
     "data": {
      "text/plain": [
       "Index(['Samsung', 'MI', 'TCL', 'LG', 'TOSHIBA', 'Panasonic', 'Sony Bravia',\n",
       "       'OnePlus', 'Hisense', 'Acer', 'Haier', 'Sony Bravia 2'],\n",
       "      dtype='object')"
      ]
     },
     "execution_count": 46,
     "metadata": {},
     "output_type": "execute_result"
    }
   ],
   "source": [
    "Brand_index"
   ]
  },
  {
   "cell_type": "code",
   "execution_count": 47,
   "id": "7a569b35",
   "metadata": {},
   "outputs": [
    {
     "data": {
      "text/plain": [
       "([<matplotlib.patches.Wedge at 0x1d90d61ab50>,\n",
       "  <matplotlib.patches.Wedge at 0x1d90d9672b0>,\n",
       "  <matplotlib.patches.Wedge at 0x1d90d9679d0>,\n",
       "  <matplotlib.patches.Wedge at 0x1d90d976130>,\n",
       "  <matplotlib.patches.Wedge at 0x1d90d976850>,\n",
       "  <matplotlib.patches.Wedge at 0x1d90d976f70>,\n",
       "  <matplotlib.patches.Wedge at 0x1d90d9836d0>,\n",
       "  <matplotlib.patches.Wedge at 0x1d90d983df0>,\n",
       "  <matplotlib.patches.Wedge at 0x1d90d991550>,\n",
       "  <matplotlib.patches.Wedge at 0x1d90d991c70>,\n",
       "  <matplotlib.patches.Wedge at 0x1d90d61ab20>,\n",
       "  <matplotlib.patches.Wedge at 0x1d90d9a0ac0>],\n",
       " [Text(0.7365802200126227, 0.8169758744823231, 'Samsung'),\n",
       "  Text(-0.6083095379143092, 0.9164930474818017, 'MI'),\n",
       "  Text(-1.0923274759078951, 0.12969458499369524, 'TCL'),\n",
       "  Text(-0.8949850616261902, -0.6395324381655434, 'LG'),\n",
       "  Text(-0.3460944957372017, -1.044135336065403, 'TOSHIBA'),\n",
       "  Text(0.16726131817612883, -1.087209111184221, 'Panasonic'),\n",
       "  Text(0.5624611533817709, -0.9453239925742116, 'Sony Bravia'),\n",
       "  Text(0.8348614921054208, -0.7162445734520511, 'OnePlus'),\n",
       "  Text(0.9937359121261334, -0.4716873296484037, 'Hisense'),\n",
       "  Text(1.069416940200571, -0.2575799060719767, 'Acer'),\n",
       "  Text(1.094669960427344, -0.10815580307129678, 'Haier'),\n",
       "  Text(1.0997866320463139, -0.02166480953587892, 'Sony Bravia 2')],\n",
       " [Text(0.40177102909779416, 0.44562320426308527, '26.65%'),\n",
       "  Text(-0.33180520249871404, 0.49990529862643723, '15.36%'),\n",
       "  Text(-0.5958149868588518, 0.07074250090565194, '12.23%'),\n",
       "  Text(-0.4881736699779219, -0.34883587536302363, '11.29%'),\n",
       "  Text(-0.18877881585665543, -0.5695283651265834, '8.78%'),\n",
       "  Text(0.09123344627788844, -0.5930231515550296, '6.27%'),\n",
       "  Text(0.3067969927536932, -0.5156312686768426, '5.96%'),\n",
       "  Text(0.45537899569386586, -0.3906788582465733, '4.39%'),\n",
       "  Text(0.5420377702506182, -0.25728399799003837, '4.08%'),\n",
       "  Text(0.5833183310184933, -0.14049813058471455, '2.51%'),\n",
       "  Text(0.5970927056876422, -0.05899407440252551, '1.88%'),\n",
       "  Text(0.5998836174798075, -0.011817168837752138, '0.63%')])"
      ]
     },
     "execution_count": 47,
     "metadata": {},
     "output_type": "execute_result"
    },
    {
     "data": {
      "image/png": "[encoded data removed]",
      "text/plain": [
       "<Figure size 640x480 with 1 Axes>"
      ]
     },
     "metadata": {},
     "output_type": "display_data"
    }
   ],
   "source": [
    "plt.pie(df4,labels=Brand_index,autopct=\"%1.2f%%\")"
   ]
  },
  {
   "cell_type": "markdown",
   "id": "a12baa92",
   "metadata": {},
   "source": [
    "#### The TV dataset contains samsung TV in higher percent"
   ]
  },
  {
   "cell_type": "code",
   "execution_count": 48,
   "id": "64fcea7a",
   "metadata": {},
   "outputs": [
    {
     "name": "stderr",
     "output_type": "stream",
     "text": [
      "No artists with labels found to put in legend.  Note that artists whose label start with an underscore are ignored when legend() is called with no argument.\n"
     ]
    },
    {
     "data": {
      "text/plain": [
       "<matplotlib.legend.Legend at 0x1d90d9d7040>"
      ]
     },
     "execution_count": 48,
     "metadata": {},
     "output_type": "execute_result"
    },
    {
     "data": {
      "image/png": "[encoded data removed]",
      "text/plain": [
       "<Figure size 640x480 with 1 Axes>"
      ]
     },
     "metadata": {},
     "output_type": "display_data"
    }
   ],
   "source": [
    "color_brand=['saddlebrown','palegreen','dodgerblue','cornflowerblue','darkorchid','pink','aqua','mediumpurple','crimson','deeppink']\n",
    "plt.bar(Brand_index,df4,color=color_brand)\n",
    "plt.title('Brands in TV')\n",
    "plt.xlabel('Brand')\n",
    "plt.ylabel('Number of TVs')\n",
    "plt.xticks(rotation=90)\n",
    "plt.legend()"
   ]
  },
  {
   "cell_type": "code",
   "execution_count": 49,
   "id": "04497a3a",
   "metadata": {},
   "outputs": [],
   "source": [
    "df5=df['Display'].value_counts()"
   ]
  },
  {
   "cell_type": "code",
   "execution_count": 50,
   "id": "bdb627aa",
   "metadata": {},
   "outputs": [
    {
     "data": {
      "text/plain": [
       "4K UHD             233\n",
       "HD                  38\n",
       "Full HD             29\n",
       "4K                   7\n",
       "8K UHD               5\n",
       "4K Dolby Vision      5\n",
       "UHD                  2\n",
       "Name: Display, dtype: int64"
      ]
     },
     "execution_count": 50,
     "metadata": {},
     "output_type": "execute_result"
    }
   ],
   "source": [
    "df5"
   ]
  },
  {
   "cell_type": "code",
   "execution_count": 51,
   "id": "8232b5bb",
   "metadata": {},
   "outputs": [],
   "source": [
    "Display_index=df['Display'].value_counts().index"
   ]
  },
  {
   "cell_type": "code",
   "execution_count": 52,
   "id": "e6ae2f2f",
   "metadata": {},
   "outputs": [
    {
     "data": {
      "text/plain": [
       "([<matplotlib.patches.Wedge at 0x1d90ddea670>,\n",
       "  <matplotlib.patches.Wedge at 0x1d90ddeadc0>,\n",
       "  <matplotlib.patches.Wedge at 0x1d90ddf5520>,\n",
       "  <matplotlib.patches.Wedge at 0x1d90ddf5c40>,\n",
       "  <matplotlib.patches.Wedge at 0x1d90de043a0>,\n",
       "  <matplotlib.patches.Wedge at 0x1d90de04af0>,\n",
       "  <matplotlib.patches.Wedge at 0x1d90de13250>],\n",
       " [Text(-0.7284988693423975, 0.8241901463660244, '4K UHD'),\n",
       "  Text(0.2733491072288949, -1.0654953146669235, 'HD '),\n",
       "  Text(0.8691041810738886, -0.6742832657273095, 'Full HD'),\n",
       "  Text(1.049133915582207, -0.33063276784847945, '4K'),\n",
       "  Text(1.0807991590207935, -0.20462936705161797, '8K UHD'),\n",
       "  Text(1.0956820197939585, -0.09736997227190604, '4K Dolby Vision'),\n",
       "  Text(1.0997866355960093, -0.021664629339330797, 'UHD')],\n",
       " [Text(-0.39736301964130766, 0.44955826165419505, '73.04%'),\n",
       "  Text(0.14909951303394264, -0.5811792625455946, '11.91%'),\n",
       "  Text(0.47405682604030286, -0.36779087221489604, '9.09%'),\n",
       "  Text(0.5722548630448402, -0.18034514609917057, '2.19%'),\n",
       "  Text(0.5895268140113419, -0.11161601839179161, '1.57%'),\n",
       "  Text(0.5976447380694319, -0.0531108939664942, '1.57%'),\n",
       "  Text(0.599883619416005, -0.011817070548725888, '0.63%')])"
      ]
     },
     "execution_count": 52,
     "metadata": {},
     "output_type": "execute_result"
    },
    {
     "data": {
      "image/png": "[encoded data removed]",
      "text/plain": [
       "<Figure size 640x480 with 1 Axes>"
      ]
     },
     "metadata": {},
     "output_type": "display_data"
    }
   ],
   "source": [
    "plt.pie(df5,labels=Display_index,autopct=\"%1.2f%%\")"
   ]
  },
  {
   "cell_type": "code",
   "execution_count": 53,
   "id": "0da32694",
   "metadata": {},
   "outputs": [
    {
     "name": "stderr",
     "output_type": "stream",
     "text": [
      "No artists with labels found to put in legend.  Note that artists whose label start with an underscore are ignored when legend() is called with no argument.\n"
     ]
    },
    {
     "data": {
      "text/plain": [
       "<matplotlib.legend.Legend at 0x1d90de22c70>"
      ]
     },
     "execution_count": 53,
     "metadata": {},
     "output_type": "execute_result"
    },
    {
     "data": {
      "image/png": "[encoded data removed]",
      "text/plain": [
       "<Figure size 640x480 with 1 Axes>"
      ]
     },
     "metadata": {},
     "output_type": "display_data"
    }
   ],
   "source": [
    "color_display=['purple','violet','lightpink','thistle','rosybrown','orange','gold']\n",
    "plt.bar(Display_index,df5,color=color_display)\n",
    "plt.title('Display available in TV')\n",
    "plt.xlabel('Display')\n",
    "plt.ylabel('Number of TVs')\n",
    "plt.xticks(rotation=90)\n",
    "plt.legend()"
   ]
  },
  {
   "cell_type": "code",
   "execution_count": 54,
   "id": "246ccb20",
   "metadata": {},
   "outputs": [],
   "source": [
    "df6=df['Screen'].value_counts()"
   ]
  },
  {
   "cell_type": "code",
   "execution_count": 55,
   "id": "b4b1872f",
   "metadata": {},
   "outputs": [
    {
     "data": {
      "text/plain": [
       "LED         240\n",
       "QLED         59\n",
       "OLED         14\n",
       "NanoCell      3\n",
       "QNED          2\n",
       "Laser         1\n",
       "Name: Screen, dtype: int64"
      ]
     },
     "execution_count": 55,
     "metadata": {},
     "output_type": "execute_result"
    }
   ],
   "source": [
    "df6"
   ]
  },
  {
   "cell_type": "code",
   "execution_count": 56,
   "id": "43e8de69",
   "metadata": {},
   "outputs": [],
   "source": [
    "Screen_index=df['Screen'].value_counts().index"
   ]
  },
  {
   "cell_type": "code",
   "execution_count": 57,
   "id": "9f07cb71",
   "metadata": {},
   "outputs": [
    {
     "data": {
      "text/plain": [
       "([<matplotlib.patches.Wedge at 0x1d90dec0fa0>,\n",
       "  <matplotlib.patches.Wedge at 0x1d90decd700>,\n",
       "  <matplotlib.patches.Wedge at 0x1d90decde20>,\n",
       "  <matplotlib.patches.Wedge at 0x1d90ded9580>,\n",
       "  <matplotlib.patches.Wedge at 0x1d90ded9ca0>,\n",
       "  <matplotlib.patches.Wedge at 0x1d90dee8400>],\n",
       " [Text(-0.7835413166728981, 0.77205116738886, 'LED'),\n",
       "  Text(0.6173058071716768, -0.9104578740568532, 'QLED'),\n",
       "  Text(1.0641364271193507, -0.27859229077212977, 'OLED'),\n",
       "  Text(1.09568201039263, -0.09737007806284623, 'NanoCell'),\n",
       "  Text(1.0991466158394871, -0.04332109057494849, 'QNED'),\n",
       "  Text(1.099946657130206, -0.010832888261460031, 'Laser')],\n",
       " [Text(-0.42738617273067164, 0.4211188185757418, '75.24%'),\n",
       "  Text(0.3367122584572782, -0.49661338584919257, '18.50%'),\n",
       "  Text(0.5804380511560094, -0.15195943133025258, '4.39%'),\n",
       "  Text(0.5976447329414345, -0.05311095167064339, '0.94%'),\n",
       "  Text(0.5995345177306293, -0.02362968576815372, '0.63%'),\n",
       "  Text(0.5999709038892032, -0.005908848142614562, '0.31%')])"
      ]
     },
     "execution_count": 57,
     "metadata": {},
     "output_type": "execute_result"
    },
    {
     "data": {
      "image/png": "[encoded data removed]",
      "text/plain": [
       "<Figure size 640x480 with 1 Axes>"
      ]
     },
     "metadata": {},
     "output_type": "display_data"
    }
   ],
   "source": [
    "plt.pie(df6,labels=Screen_index,autopct=\"%1.2f%%\")"
   ]
  },
  {
   "cell_type": "code",
   "execution_count": 58,
   "id": "d5bdd512",
   "metadata": {},
   "outputs": [
    {
     "name": "stderr",
     "output_type": "stream",
     "text": [
      "No artists with labels found to put in legend.  Note that artists whose label start with an underscore are ignored when legend() is called with no argument.\n"
     ]
    },
    {
     "data": {
      "text/plain": [
       "<matplotlib.legend.Legend at 0x1d90dee8c70>"
      ]
     },
     "execution_count": 58,
     "metadata": {},
     "output_type": "execute_result"
    },
    {
     "data": {
      "image/png": "[encoded data removed]",
      "text/plain": [
       "<Figure size 640x480 with 1 Axes>"
      ]
     },
     "metadata": {},
     "output_type": "display_data"
    }
   ],
   "source": [
    "color_screen=['orange','gold','olive','chocolate']\n",
    "plt.bar(Screen_index,df6,color=color_screen)\n",
    "plt.title('Screens available in TV')\n",
    "plt.xlabel('Screen')\n",
    "plt.ylabel('Number of TVs')\n",
    "plt.xticks(rotation=90)\n",
    "plt.legend()"
   ]
  },
  {
   "cell_type": "code",
   "execution_count": 59,
   "id": "f9b9d88d",
   "metadata": {},
   "outputs": [],
   "source": [
    "df7=df['Platform'].value_counts()"
   ]
  },
  {
   "cell_type": "code",
   "execution_count": 60,
   "id": "1c56ed44",
   "metadata": {},
   "outputs": [
    {
     "data": {
      "text/plain": [
       "Smart TV     152\n",
       "Google TV    130\n",
       "Android       21\n",
       "Fire TV       16\n",
       "Name: Platform, dtype: int64"
      ]
     },
     "execution_count": 60,
     "metadata": {},
     "output_type": "execute_result"
    }
   ],
   "source": [
    "df7"
   ]
  },
  {
   "cell_type": "code",
   "execution_count": 61,
   "id": "e493fc80",
   "metadata": {},
   "outputs": [],
   "source": [
    "Platform_index=df['Platform'].value_counts().index"
   ]
  },
  {
   "cell_type": "code",
   "execution_count": 62,
   "id": "4cd8c449",
   "metadata": {},
   "outputs": [
    {
     "data": {
      "text/plain": [
       "([<matplotlib.patches.Wedge at 0x1d90e0bf760>,\n",
       "  <matplotlib.patches.Wedge at 0x1d90e0bfe80>,\n",
       "  <matplotlib.patches.Wedge at 0x1d90e0cb5e0>,\n",
       "  <matplotlib.patches.Wedge at 0x1d90e0cbd00>],\n",
       " [Text(0.08117419888517886, 1.0970007973722486, 'Smart TV'),\n",
       "  Text(-0.46678824742644476, -0.9960465511533827, 'Google TV'),\n",
       "  Text(0.9535294571846838, -0.5484355698540005, 'Android'),\n",
       "  Text(1.086372322375498, -0.17261279551779346, 'Fire TV')],\n",
       " [Text(0.04427683575555211, 0.5983640712939537, '47.65%'),\n",
       "  Text(-0.2546117713235153, -0.5432981188109359, '40.75%'),\n",
       "  Text(0.5201069766461911, -0.29914667446581844, '6.58%'),\n",
       "  Text(0.5925667212957261, -0.09415243391879642, '5.02%')])"
      ]
     },
     "execution_count": 62,
     "metadata": {},
     "output_type": "execute_result"
    },
    {
     "data": {
      "image/png": "[encoded data removed]",
      "text/plain": [
       "<Figure size 640x480 with 1 Axes>"
      ]
     },
     "metadata": {},
     "output_type": "display_data"
    }
   ],
   "source": [
    "plt.pie(df7,labels=Platform_index,autopct=\"%1.2f%%\")"
   ]
  },
  {
   "cell_type": "code",
   "execution_count": 63,
   "id": "cf805d19",
   "metadata": {},
   "outputs": [
    {
     "name": "stderr",
     "output_type": "stream",
     "text": [
      "No artists with labels found to put in legend.  Note that artists whose label start with an underscore are ignored when legend() is called with no argument.\n"
     ]
    },
    {
     "data": {
      "text/plain": [
       "<matplotlib.legend.Legend at 0x1d90e08a160>"
      ]
     },
     "execution_count": 63,
     "metadata": {},
     "output_type": "execute_result"
    },
    {
     "data": {
      "image/png": "[encoded data removed]",
      "text/plain": [
       "<Figure size 640x480 with 1 Axes>"
      ]
     },
     "metadata": {},
     "output_type": "display_data"
    }
   ],
   "source": [
    "color_screen=['orange','gold','olive','chocolate']\n",
    "plt.bar(Platform_index,df7,color=color_screen)\n",
    "plt.title('Platforms available in TV')\n",
    "plt.xlabel('Platform')\n",
    "plt.ylabel('Number of TVs')\n",
    "plt.xticks(rotation=90)\n",
    "plt.legend()"
   ]
  },
  {
   "cell_type": "markdown",
   "id": "8a02c6e2",
   "metadata": {},
   "source": [
    "### Observation: Smart TVs are the most followed by TVs that have support or powered by Google TV "
   ]
  },
  {
   "cell_type": "code",
   "execution_count": 64,
   "id": "f1dd5f4d",
   "metadata": {},
   "outputs": [
    {
     "name": "stdout",
     "output_type": "stream",
     "text": [
      " The TV with highest price is 1399900 in Samsung and is 85 inches  with display 8K UHD and backlight as LED.\n"
     ]
    }
   ],
   "source": [
    "df8=df.sort_values(by='Price',ascending=False)\n",
    "highest_Price_row=df8.iloc[0]\n",
    "Brand_highest_price=highest_Price_row['Brand']\n",
    "Display_highest_price=highest_Price_row['Display']\n",
    "Inches_highest_price=highest_Price_row['Inches']\n",
    "Screen_highest_price=highest_Price_row['Screen']\n",
    "highest_price_tv=highest_Price_row['Price']\n",
    "print(f\" The TV with highest price is {highest_price_tv} in {Brand_highest_price} and is {Inches_highest_price} inches  with display {Display_highest_price} and backlight as {Screen_highest_price}.\")"
   ]
  },
  {
   "cell_type": "markdown",
   "id": "fce10ba6",
   "metadata": {},
   "source": [
    "### Top 10 TVs based on price and brand"
   ]
  },
  {
   "cell_type": "code",
   "execution_count": 65,
   "id": "e078f823",
   "metadata": {},
   "outputs": [
    {
     "name": "stderr",
     "output_type": "stream",
     "text": [
      "No artists with labels found to put in legend.  Note that artists whose label start with an underscore are ignored when legend() is called with no argument.\n"
     ]
    },
    {
     "data": {
      "text/plain": [
       "<matplotlib.legend.Legend at 0x1d90e1293a0>"
      ]
     },
     "execution_count": 65,
     "metadata": {},
     "output_type": "execute_result"
    },
    {
     "data": {
      "image/png": "[encoded data removed]",
      "text/plain": [
       "<Figure size 640x480 with 1 Axes>"
      ]
     },
     "metadata": {},
     "output_type": "display_data"
    }
   ],
   "source": [
    "df9=df8['Price'].head(10)\n",
    "df10=df8['Brand'].head(10)\n",
    "colors_price=['lightcoral','sandybrown','gray','tan','olive','lightgreen','forestgreen','lightseagreen','mediumblue','violet']\n",
    "plt.bar(df10,df9,color=colors_price)\n",
    "plt.title('Top10 Priced TVs ')\n",
    "plt.xlabel('Brand')\n",
    "plt.ylabel('Cost in INR')\n",
    "plt.xticks(rotation=90)\n",
    "plt.legend()"
   ]
  },
  {
   "cell_type": "markdown",
   "id": "6d18b61d",
   "metadata": {},
   "source": [
    "### Observation:Samsung has the highest priced TVs than other brands"
   ]
  },
  {
   "cell_type": "markdown",
   "id": "527be9ea",
   "metadata": {},
   "source": [
    "### TVs based on Price and Inches"
   ]
  },
  {
   "cell_type": "code",
   "execution_count": 66,
   "id": "cde64f63",
   "metadata": {},
   "outputs": [
    {
     "name": "stderr",
     "output_type": "stream",
     "text": [
      "No artists with labels found to put in legend.  Note that artists whose label start with an underscore are ignored when legend() is called with no argument.\n"
     ]
    },
    {
     "data": {
      "text/plain": [
       "<matplotlib.legend.Legend at 0x1d90e143850>"
      ]
     },
     "execution_count": 66,
     "metadata": {},
     "output_type": "execute_result"
    },
    {
     "data": {
      "image/png": "[encoded data removed]",
      "text/plain": [
       "<Figure size 640x480 with 1 Axes>"
      ]
     },
     "metadata": {},
     "output_type": "display_data"
    }
   ],
   "source": [
    "df11=df8['Inches'].head(10)\n",
    "colors_price=['lightcoral','sandybrown','gray','tan','olive','lightgreen','forestgreen','lightseagreen','mediumblue','violet']\n",
    "plt.bar(df10,df11,color=colors_price)\n",
    "plt.title('Price vs Inches')\n",
    "plt.xlabel('Brand')\n",
    "plt.ylabel('Inches')\n",
    "plt.xticks(rotation=90)\n",
    "plt.legend()"
   ]
  },
  {
   "cell_type": "markdown",
   "id": "a49e4e55",
   "metadata": {},
   "source": [
    "### Observation: The bar plot represents the inches of top 10 TV based on Price in descending order"
   ]
  },
  {
   "cell_type": "code",
   "execution_count": 67,
   "id": "3b2292aa",
   "metadata": {},
   "outputs": [
    {
     "data": {
      "text/plain": [
       "<AxesSubplot:xlabel='Inches', ylabel='Price'>"
      ]
     },
     "execution_count": 67,
     "metadata": {},
     "output_type": "execute_result"
    },
    {
     "data": {
      "image/png": "[encoded data removed]",
      "text/plain": [
       "<Figure size 640x480 with 1 Axes>"
      ]
     },
     "metadata": {},
     "output_type": "display_data"
    }
   ],
   "source": [
    "#plt.figure(figsize=(12,10))\n",
    "sns.lineplot(x=df['Inches'],y=df['Price'])"
   ]
  },
  {
   "cell_type": "markdown",
   "id": "eb95f21d",
   "metadata": {},
   "source": [
    "### Sorting based on Ratings"
   ]
  },
  {
   "cell_type": "code",
   "execution_count": 68,
   "id": "b9633426",
   "metadata": {},
   "outputs": [
    {
     "name": "stdout",
     "output_type": "stream",
     "text": [
      " The TV with highest rating is Samsung-QA55QN95BAKLXL model and is 50 inches with 4K UHD and LED backlight. It has a rating of 5.0 and costs 61999\n"
     ]
    }
   ],
   "source": [
    "df12=df.sort_values(by='Ratings',ascending=False)\n",
    "highest_rated_row=df12.iloc[0]\n",
    "Brand_highest_rating=highest_rated_row['Brand']\n",
    "Display_highest_rating=highest_rated_row['Display']\n",
    "Inches_highest_rating=highest_rated_row['Inches']\n",
    "Screen_highest_rating=highest_rated_row['Screen']\n",
    "highest_rating_tv=highest_rated_row['Ratings']\n",
    "highest_rating_price=highest_rated_row['Price']\n",
    "highest_rated_model=highest_rated_row['Model Number']\n",
    "print(f\" The TV with highest rating is {Brand_highest_rating}-{highest_rated_model} model and is {Inches_highest_rating} inches with {Display_highest_rating} and {Screen_highest_rating} backlight. It has a rating of {highest_rating_tv} and costs {highest_rating_price}\")"
   ]
  },
  {
   "cell_type": "code",
   "execution_count": 69,
   "id": "c432c33c",
   "metadata": {},
   "outputs": [],
   "source": [
    "df13=df12['Ratings'].head(10)"
   ]
  },
  {
   "cell_type": "code",
   "execution_count": 70,
   "id": "fe53372a",
   "metadata": {},
   "outputs": [
    {
     "data": {
      "text/plain": [
       "135    5.0\n",
       "113    5.0\n",
       "43     5.0\n",
       "197    5.0\n",
       "121    5.0\n",
       "19     5.0\n",
       "239    5.0\n",
       "59     5.0\n",
       "18     5.0\n",
       "5      4.9\n",
       "Name: Ratings, dtype: object"
      ]
     },
     "execution_count": 70,
     "metadata": {},
     "output_type": "execute_result"
    }
   ],
   "source": [
    "df13"
   ]
  },
  {
   "cell_type": "code",
   "execution_count": 71,
   "id": "3cda692e",
   "metadata": {},
   "outputs": [],
   "source": [
    "df14=df12['Brand'].head(10)"
   ]
  },
  {
   "cell_type": "code",
   "execution_count": 72,
   "id": "93b9de2c",
   "metadata": {},
   "outputs": [
    {
     "data": {
      "text/plain": [
       "135        Samsung\n",
       "113        Samsung\n",
       "43         Samsung\n",
       "197        Samsung\n",
       "121        Samsung\n",
       "19         TOSHIBA\n",
       "239        Samsung\n",
       "59              LG\n",
       "18       Panasonic\n",
       "5      Sony Bravia\n",
       "Name: Brand, dtype: object"
      ]
     },
     "execution_count": 72,
     "metadata": {},
     "output_type": "execute_result"
    }
   ],
   "source": [
    "df14"
   ]
  },
  {
   "cell_type": "markdown",
   "id": "86953198",
   "metadata": {},
   "source": [
    "### Insights on number of ratings"
   ]
  },
  {
   "cell_type": "code",
   "execution_count": 73,
   "id": "b8966851",
   "metadata": {},
   "outputs": [
    {
     "name": "stdout",
     "output_type": "stream",
     "text": [
      " The TV with highest number of rating is OnePlus-32 Y1S model and is 32 inches with HD  display and LED backlight. It has been rated by  44536 customers and costs 49999\n"
     ]
    }
   ],
   "source": [
    "df15=df.sort_values(by='Number of ratings',ascending=False)\n",
    "highest_nrated_row=df15.iloc[0]\n",
    "Brand_highest_nrating=highest_nrated_row['Brand']\n",
    "Display_highest_nrating=highest_nrated_row['Display']\n",
    "Inches_highest_nrating=highest_nrated_row['Inches']\n",
    "Screen_highest_nrating=highest_nrated_row['Screen']\n",
    "highest_nrating_tv=highest_nrated_row['Ratings']\n",
    "highest_nrating_price=highest_nrated_row['Price']\n",
    "highest_num_ratings=highest_nrated_row['Number of ratings']\n",
    "highest_nrated_model=highest_nrated_row['Model Number']\n",
    "print(f\" The TV with highest number of rating is {Brand_highest_nrating}-{highest_nrated_model} model and is {Inches_highest_nrating} inches with {Display_highest_nrating} display and {Screen_highest_nrating} backlight. It has been rated by  {highest_num_ratings} customers and costs {highest_nrating_price}\")"
   ]
  },
  {
   "cell_type": "markdown",
   "id": "683ff784",
   "metadata": {},
   "source": [
    "### So we can conclude that Oneplus -32Y1S is most bought model by customers as we can conclude that more the number of ratings the more it is bought"
   ]
  },
  {
   "cell_type": "markdown",
   "id": "c0091ebd",
   "metadata": {},
   "source": [
    "### Checking for outliers in the data"
   ]
  },
  {
   "cell_type": "code",
   "execution_count": 74,
   "id": "de622cb2",
   "metadata": {},
   "outputs": [
    {
     "data": {
      "text/plain": [
       "<seaborn.axisgrid.FacetGrid at 0x1d90f369a90>"
      ]
     },
     "execution_count": 74,
     "metadata": {},
     "output_type": "execute_result"
    },
    {
     "data": {
      "image/png": "[encoded data removed]",
      "text/plain": [
       "<Figure size 1800x600 with 1 Axes>"
      ]
     },
     "metadata": {},
     "output_type": "display_data"
    }
   ],
   "source": [
    "sns.catplot(y = \"Price\", x = \"Brand\", data = df.sort_values(\"Price\", ascending = False), kind=\"boxen\", height = 6, aspect = 3)"
   ]
  },
  {
   "cell_type": "code",
   "execution_count": 75,
   "id": "5db2b548",
   "metadata": {},
   "outputs": [
    {
     "data": {
      "text/plain": [
       "<AxesSubplot:>"
      ]
     },
     "execution_count": 75,
     "metadata": {},
     "output_type": "execute_result"
    },
    {
     "data": {
      "image/png": "[encoded data removed]",
      "text/plain": [
       "<Figure size 640x480 with 1 Axes>"
      ]
     },
     "metadata": {},
     "output_type": "display_data"
    }
   ],
   "source": [
    "sns.boxplot(df)"
   ]
  },
  {
   "cell_type": "code",
   "execution_count": 76,
   "id": "29ab268b",
   "metadata": {},
   "outputs": [
    {
     "data": {
      "text/plain": [
       "<AxesSubplot:>"
      ]
     },
     "execution_count": 76,
     "metadata": {},
     "output_type": "execute_result"
    },
    {
     "data": {
      "image/png": "[encoded data removed]",
      "text/plain": [
       "<Figure size 640x480 with 1 Axes>"
      ]
     },
     "metadata": {},
     "output_type": "display_data"
    }
   ],
   "source": [
    "sns.violinplot(df)"
   ]
  },
  {
   "cell_type": "markdown",
   "id": "54f84f9c",
   "metadata": {},
   "source": [
    "### Converting categorical variables to numerical variables"
   ]
  },
  {
   "cell_type": "code",
   "execution_count": 77,
   "id": "b7ffef29",
   "metadata": {},
   "outputs": [],
   "source": [
    "from sklearn.preprocessing import LabelEncoder\n",
    "from sklearn.preprocessing import OneHotEncoder\n",
    "labelencoder=LabelEncoder()"
   ]
  },
  {
   "cell_type": "code",
   "execution_count": 78,
   "id": "218d4136",
   "metadata": {},
   "outputs": [
    {
     "data": {
      "text/plain": [
       "Index(['Brand', 'Model Number', 'Display', 'Screen', 'Inches', 'Ratings',\n",
       "       'Number of ratings', 'Platform', 'Price'],\n",
       "      dtype='object')"
      ]
     },
     "execution_count": 78,
     "metadata": {},
     "output_type": "execute_result"
    }
   ],
   "source": [
    "df.columns"
   ]
  },
  {
   "cell_type": "code",
   "execution_count": 79,
   "id": "d5353e14",
   "metadata": {},
   "outputs": [
    {
     "name": "stdout",
     "output_type": "stream",
     "text": [
      "<class 'pandas.core.frame.DataFrame'>\n",
      "RangeIndex: 319 entries, 0 to 318\n",
      "Data columns (total 9 columns):\n",
      " #   Column             Non-Null Count  Dtype \n",
      "---  ------             --------------  ----- \n",
      " 0   Brand              319 non-null    object\n",
      " 1   Model Number       319 non-null    object\n",
      " 2   Display            319 non-null    object\n",
      " 3   Screen             319 non-null    object\n",
      " 4   Inches             319 non-null    int64 \n",
      " 5   Ratings            316 non-null    object\n",
      " 6   Number of ratings  319 non-null    int64 \n",
      " 7   Platform           319 non-null    object\n",
      " 8   Price              319 non-null    int64 \n",
      "dtypes: int64(3), object(6)\n",
      "memory usage: 22.6+ KB\n"
     ]
    }
   ],
   "source": [
    "df.info()"
   ]
  },
  {
   "cell_type": "code",
   "execution_count": 80,
   "id": "160e562c",
   "metadata": {},
   "outputs": [],
   "source": [
    "df[\"Ratings\"]=df[\"Ratings\"].astype(float)"
   ]
  },
  {
   "cell_type": "code",
   "execution_count": 81,
   "id": "4e7a037b",
   "metadata": {},
   "outputs": [
    {
     "name": "stdout",
     "output_type": "stream",
     "text": [
      "<class 'pandas.core.frame.DataFrame'>\n",
      "RangeIndex: 319 entries, 0 to 318\n",
      "Data columns (total 9 columns):\n",
      " #   Column             Non-Null Count  Dtype  \n",
      "---  ------             --------------  -----  \n",
      " 0   Brand              319 non-null    object \n",
      " 1   Model Number       319 non-null    object \n",
      " 2   Display            319 non-null    object \n",
      " 3   Screen             319 non-null    object \n",
      " 4   Inches             319 non-null    int64  \n",
      " 5   Ratings            316 non-null    float64\n",
      " 6   Number of ratings  319 non-null    int64  \n",
      " 7   Platform           319 non-null    object \n",
      " 8   Price              319 non-null    int64  \n",
      "dtypes: float64(1), int64(3), object(5)\n",
      "memory usage: 22.6+ KB\n"
     ]
    }
   ],
   "source": [
    "df.info()"
   ]
  },
  {
   "cell_type": "code",
   "execution_count": 82,
   "id": "2b0e1245",
   "metadata": {},
   "outputs": [],
   "source": [
    "# columns_to_label_encode = [\"Brand\", \"Display\", \"Screen\", \"Platform\",\"Model Number\"]\n",
    "# label_encoders = {}\n",
    "\n",
    "# for column in columns_to_label_encode:\n",
    "#     label_encoder = LabelEncoder()\n",
    "#     df[column] = label_encoder.fit_transform(df[column])"
   ]
  },
  {
   "cell_type": "code",
   "execution_count": 83,
   "id": "a7c5e13d",
   "metadata": {},
   "outputs": [
    {
     "name": "stdout",
     "output_type": "stream",
     "text": [
      "OneHotEncoder for Brand saved to onehot_Brand_encoder.pkl\n",
      "OneHotEncoder for Display saved to onehot_Display_encoder.pkl\n",
      "OneHotEncoder for Screen saved to onehot_Screen_encoder.pkl\n",
      "OneHotEncoder for Platform saved to onehot_Platform_encoder.pkl\n",
      "OneHotEncoder for Model Number saved to onehot_Model Number_encoder.pkl\n"
     ]
    }
   ],
   "source": [
    "columns_to_onehot_encode = [\"Brand\", \"Display\", \"Screen\", \"Platform\", \"Model Number\"]\n",
    "\n",
    "for column in columns_to_onehot_encode:\n",
    "    onehot_encoder = OneHotEncoder(sparse_output=False, drop='first')\n",
    "    encoded_column = onehot_encoder.fit_transform(df[[column]])\n",
    "    # Get the feature names for the encoded columns\n",
    "    encoded_column_names = onehot_encoder.get_feature_names_out([column])\n",
    "    encoded_df = pd.DataFrame(encoded_column, columns=encoded_column_names)\n",
    "    \n",
    "    # Drop the original column and concatenate the new encoded columns\n",
    "    df = pd.concat([df.drop(column, axis=1), encoded_df], axis=1)\n",
    "    encoder_filename = f'onehot_{column}_encoder.pkl'\n",
    "    joblib.dump(onehot_encoder, encoder_filename)\n",
    "    print(f\"OneHotEncoder for {column} saved to {encoder_filename}\")\n"
   ]
  },
  {
   "cell_type": "code",
   "execution_count": 84,
   "id": "e6d0318c",
   "metadata": {},
   "outputs": [
    {
     "data": {
      "text/html": [
       "<div>\n",
       "<style scoped>\n",
       "    .dataframe tbody tr th:only-of-type {\n",
       "        vertical-align: middle;\n",
       "    }\n",
       "\n",
       "    .dataframe tbody tr th {\n",
       "        vertical-align: top;\n",
       "    }\n",
       "\n",
       "    .dataframe thead th {\n",
       "        text-align: right;\n",
       "    }\n",
       "</style>\n",
       "<table border=\"1\" class=\"dataframe\">\n",
       "  <thead>\n",
       "    <tr style=\"text-align: right;\">\n",
       "      <th></th>\n",
       "      <th>Inches</th>\n",
       "      <th>Ratings</th>\n",
       "      <th>Number of ratings</th>\n",
       "      <th>Price</th>\n",
       "      <th>Brand_Haier</th>\n",
       "      <th>Brand_Hisense</th>\n",
       "      <th>Brand_LG</th>\n",
       "      <th>Brand_MI</th>\n",
       "      <th>Brand_OnePlus</th>\n",
       "      <th>Brand_Panasonic</th>\n",
       "      <th>...</th>\n",
       "      <th>Model Number_UA65TUE60AKBXL</th>\n",
       "      <th>Model Number_UA75CU8000KXXL</th>\n",
       "      <th>Model Number_UA75DU8300UXXL</th>\n",
       "      <th>Model Number_X55</th>\n",
       "      <th>Model Number_XR-55A80L</th>\n",
       "      <th>Model Number_XR-55X90L</th>\n",
       "      <th>Model Number_XR-65A80L</th>\n",
       "      <th>Model Number_XR-65X90L</th>\n",
       "      <th>Model Number_XR-77A80L</th>\n",
       "      <th>Model Number_XR-83A80L</th>\n",
       "    </tr>\n",
       "  </thead>\n",
       "  <tbody>\n",
       "    <tr>\n",
       "      <th>0</th>\n",
       "      <td>43</td>\n",
       "      <td>4.2</td>\n",
       "      <td>2906</td>\n",
       "      <td>32999</td>\n",
       "      <td>0.0</td>\n",
       "      <td>0.0</td>\n",
       "      <td>0.0</td>\n",
       "      <td>1.0</td>\n",
       "      <td>0.0</td>\n",
       "      <td>0.0</td>\n",
       "      <td>...</td>\n",
       "      <td>0.0</td>\n",
       "      <td>0.0</td>\n",
       "      <td>0.0</td>\n",
       "      <td>0.0</td>\n",
       "      <td>0.0</td>\n",
       "      <td>0.0</td>\n",
       "      <td>0.0</td>\n",
       "      <td>0.0</td>\n",
       "      <td>0.0</td>\n",
       "      <td>0.0</td>\n",
       "    </tr>\n",
       "    <tr>\n",
       "      <th>1</th>\n",
       "      <td>43</td>\n",
       "      <td>4.2</td>\n",
       "      <td>2366</td>\n",
       "      <td>32989</td>\n",
       "      <td>0.0</td>\n",
       "      <td>0.0</td>\n",
       "      <td>1.0</td>\n",
       "      <td>0.0</td>\n",
       "      <td>0.0</td>\n",
       "      <td>0.0</td>\n",
       "      <td>...</td>\n",
       "      <td>0.0</td>\n",
       "      <td>0.0</td>\n",
       "      <td>0.0</td>\n",
       "      <td>0.0</td>\n",
       "      <td>0.0</td>\n",
       "      <td>0.0</td>\n",
       "      <td>0.0</td>\n",
       "      <td>0.0</td>\n",
       "      <td>0.0</td>\n",
       "      <td>0.0</td>\n",
       "    </tr>\n",
       "    <tr>\n",
       "      <th>2</th>\n",
       "      <td>55</td>\n",
       "      <td>4.8</td>\n",
       "      <td>14345</td>\n",
       "      <td>57990</td>\n",
       "      <td>0.0</td>\n",
       "      <td>0.0</td>\n",
       "      <td>0.0</td>\n",
       "      <td>0.0</td>\n",
       "      <td>0.0</td>\n",
       "      <td>0.0</td>\n",
       "      <td>...</td>\n",
       "      <td>0.0</td>\n",
       "      <td>0.0</td>\n",
       "      <td>0.0</td>\n",
       "      <td>0.0</td>\n",
       "      <td>0.0</td>\n",
       "      <td>0.0</td>\n",
       "      <td>0.0</td>\n",
       "      <td>0.0</td>\n",
       "      <td>0.0</td>\n",
       "      <td>0.0</td>\n",
       "    </tr>\n",
       "    <tr>\n",
       "      <th>3</th>\n",
       "      <td>43</td>\n",
       "      <td>4.8</td>\n",
       "      <td>14345</td>\n",
       "      <td>40990</td>\n",
       "      <td>0.0</td>\n",
       "      <td>0.0</td>\n",
       "      <td>0.0</td>\n",
       "      <td>0.0</td>\n",
       "      <td>0.0</td>\n",
       "      <td>0.0</td>\n",
       "      <td>...</td>\n",
       "      <td>0.0</td>\n",
       "      <td>0.0</td>\n",
       "      <td>0.0</td>\n",
       "      <td>0.0</td>\n",
       "      <td>0.0</td>\n",
       "      <td>0.0</td>\n",
       "      <td>0.0</td>\n",
       "      <td>0.0</td>\n",
       "      <td>0.0</td>\n",
       "      <td>0.0</td>\n",
       "    </tr>\n",
       "    <tr>\n",
       "      <th>4</th>\n",
       "      <td>65</td>\n",
       "      <td>4.8</td>\n",
       "      <td>14345</td>\n",
       "      <td>77990</td>\n",
       "      <td>0.0</td>\n",
       "      <td>0.0</td>\n",
       "      <td>0.0</td>\n",
       "      <td>0.0</td>\n",
       "      <td>0.0</td>\n",
       "      <td>0.0</td>\n",
       "      <td>...</td>\n",
       "      <td>0.0</td>\n",
       "      <td>0.0</td>\n",
       "      <td>0.0</td>\n",
       "      <td>0.0</td>\n",
       "      <td>0.0</td>\n",
       "      <td>0.0</td>\n",
       "      <td>0.0</td>\n",
       "      <td>0.0</td>\n",
       "      <td>0.0</td>\n",
       "      <td>0.0</td>\n",
       "    </tr>\n",
       "    <tr>\n",
       "      <th>...</th>\n",
       "      <td>...</td>\n",
       "      <td>...</td>\n",
       "      <td>...</td>\n",
       "      <td>...</td>\n",
       "      <td>...</td>\n",
       "      <td>...</td>\n",
       "      <td>...</td>\n",
       "      <td>...</td>\n",
       "      <td>...</td>\n",
       "      <td>...</td>\n",
       "      <td>...</td>\n",
       "      <td>...</td>\n",
       "      <td>...</td>\n",
       "      <td>...</td>\n",
       "      <td>...</td>\n",
       "      <td>...</td>\n",
       "      <td>...</td>\n",
       "      <td>...</td>\n",
       "      <td>...</td>\n",
       "      <td>...</td>\n",
       "      <td>...</td>\n",
       "    </tr>\n",
       "    <tr>\n",
       "      <th>314</th>\n",
       "      <td>65</td>\n",
       "      <td>4.1</td>\n",
       "      <td>1986</td>\n",
       "      <td>119990</td>\n",
       "      <td>0.0</td>\n",
       "      <td>0.0</td>\n",
       "      <td>0.0</td>\n",
       "      <td>0.0</td>\n",
       "      <td>0.0</td>\n",
       "      <td>0.0</td>\n",
       "      <td>...</td>\n",
       "      <td>0.0</td>\n",
       "      <td>0.0</td>\n",
       "      <td>0.0</td>\n",
       "      <td>0.0</td>\n",
       "      <td>0.0</td>\n",
       "      <td>0.0</td>\n",
       "      <td>0.0</td>\n",
       "      <td>0.0</td>\n",
       "      <td>0.0</td>\n",
       "      <td>0.0</td>\n",
       "    </tr>\n",
       "    <tr>\n",
       "      <th>315</th>\n",
       "      <td>85</td>\n",
       "      <td>4.0</td>\n",
       "      <td>1986</td>\n",
       "      <td>259990</td>\n",
       "      <td>0.0</td>\n",
       "      <td>0.0</td>\n",
       "      <td>0.0</td>\n",
       "      <td>0.0</td>\n",
       "      <td>0.0</td>\n",
       "      <td>0.0</td>\n",
       "      <td>...</td>\n",
       "      <td>0.0</td>\n",
       "      <td>0.0</td>\n",
       "      <td>0.0</td>\n",
       "      <td>0.0</td>\n",
       "      <td>0.0</td>\n",
       "      <td>0.0</td>\n",
       "      <td>0.0</td>\n",
       "      <td>0.0</td>\n",
       "      <td>0.0</td>\n",
       "      <td>0.0</td>\n",
       "    </tr>\n",
       "    <tr>\n",
       "      <th>316</th>\n",
       "      <td>65</td>\n",
       "      <td>4.1</td>\n",
       "      <td>1986</td>\n",
       "      <td>84990</td>\n",
       "      <td>0.0</td>\n",
       "      <td>0.0</td>\n",
       "      <td>0.0</td>\n",
       "      <td>0.0</td>\n",
       "      <td>0.0</td>\n",
       "      <td>0.0</td>\n",
       "      <td>...</td>\n",
       "      <td>0.0</td>\n",
       "      <td>0.0</td>\n",
       "      <td>0.0</td>\n",
       "      <td>0.0</td>\n",
       "      <td>0.0</td>\n",
       "      <td>0.0</td>\n",
       "      <td>0.0</td>\n",
       "      <td>0.0</td>\n",
       "      <td>0.0</td>\n",
       "      <td>0.0</td>\n",
       "    </tr>\n",
       "    <tr>\n",
       "      <th>317</th>\n",
       "      <td>55</td>\n",
       "      <td>4.0</td>\n",
       "      <td>427</td>\n",
       "      <td>32990</td>\n",
       "      <td>0.0</td>\n",
       "      <td>0.0</td>\n",
       "      <td>0.0</td>\n",
       "      <td>0.0</td>\n",
       "      <td>0.0</td>\n",
       "      <td>1.0</td>\n",
       "      <td>...</td>\n",
       "      <td>0.0</td>\n",
       "      <td>0.0</td>\n",
       "      <td>0.0</td>\n",
       "      <td>0.0</td>\n",
       "      <td>0.0</td>\n",
       "      <td>0.0</td>\n",
       "      <td>0.0</td>\n",
       "      <td>0.0</td>\n",
       "      <td>0.0</td>\n",
       "      <td>0.0</td>\n",
       "    </tr>\n",
       "    <tr>\n",
       "      <th>318</th>\n",
       "      <td>55</td>\n",
       "      <td>4.3</td>\n",
       "      <td>2699</td>\n",
       "      <td>55489</td>\n",
       "      <td>0.0</td>\n",
       "      <td>1.0</td>\n",
       "      <td>0.0</td>\n",
       "      <td>0.0</td>\n",
       "      <td>0.0</td>\n",
       "      <td>0.0</td>\n",
       "      <td>...</td>\n",
       "      <td>0.0</td>\n",
       "      <td>0.0</td>\n",
       "      <td>0.0</td>\n",
       "      <td>0.0</td>\n",
       "      <td>0.0</td>\n",
       "      <td>0.0</td>\n",
       "      <td>0.0</td>\n",
       "      <td>0.0</td>\n",
       "      <td>0.0</td>\n",
       "      <td>0.0</td>\n",
       "    </tr>\n",
       "  </tbody>\n",
       "</table>\n",
       "<p>319 rows × 222 columns</p>\n",
       "</div>"
      ],
      "text/plain": [
       "     Inches  Ratings  Number of ratings   Price  Brand_Haier  Brand_Hisense  \\\n",
       "0        43      4.2               2906   32999          0.0            0.0   \n",
       "1        43      4.2               2366   32989          0.0            0.0   \n",
       "2        55      4.8              14345   57990          0.0            0.0   \n",
       "3        43      4.8              14345   40990          0.0            0.0   \n",
       "4        65      4.8              14345   77990          0.0            0.0   \n",
       "..      ...      ...                ...     ...          ...            ...   \n",
       "314      65      4.1               1986  119990          0.0            0.0   \n",
       "315      85      4.0               1986  259990          0.0            0.0   \n",
       "316      65      4.1               1986   84990          0.0            0.0   \n",
       "317      55      4.0                427   32990          0.0            0.0   \n",
       "318      55      4.3               2699   55489          0.0            1.0   \n",
       "\n",
       "     Brand_LG  Brand_MI  Brand_OnePlus  Brand_Panasonic  ...  \\\n",
       "0         0.0       1.0            0.0              0.0  ...   \n",
       "1         1.0       0.0            0.0              0.0  ...   \n",
       "2         0.0       0.0            0.0              0.0  ...   \n",
       "3         0.0       0.0            0.0              0.0  ...   \n",
       "4         0.0       0.0            0.0              0.0  ...   \n",
       "..        ...       ...            ...              ...  ...   \n",
       "314       0.0       0.0            0.0              0.0  ...   \n",
       "315       0.0       0.0            0.0              0.0  ...   \n",
       "316       0.0       0.0            0.0              0.0  ...   \n",
       "317       0.0       0.0            0.0              1.0  ...   \n",
       "318       0.0       0.0            0.0              0.0  ...   \n",
       "\n",
       "     Model Number_UA65TUE60AKBXL  Model Number_UA75CU8000KXXL  \\\n",
       "0                            0.0                          0.0   \n",
       "1                            0.0                          0.0   \n",
       "2                            0.0                          0.0   \n",
       "3                            0.0                          0.0   \n",
       "4                            0.0                          0.0   \n",
       "..                           ...                          ...   \n",
       "314                          0.0                          0.0   \n",
       "315                          0.0                          0.0   \n",
       "316                          0.0                          0.0   \n",
       "317                          0.0                          0.0   \n",
       "318                          0.0                          0.0   \n",
       "\n",
       "     Model Number_UA75DU8300UXXL  Model Number_X55  Model Number_XR-55A80L  \\\n",
       "0                            0.0               0.0                     0.0   \n",
       "1                            0.0               0.0                     0.0   \n",
       "2                            0.0               0.0                     0.0   \n",
       "3                            0.0               0.0                     0.0   \n",
       "4                            0.0               0.0                     0.0   \n",
       "..                           ...               ...                     ...   \n",
       "314                          0.0               0.0                     0.0   \n",
       "315                          0.0               0.0                     0.0   \n",
       "316                          0.0               0.0                     0.0   \n",
       "317                          0.0               0.0                     0.0   \n",
       "318                          0.0               0.0                     0.0   \n",
       "\n",
       "     Model Number_XR-55X90L  Model Number_XR-65A80L  Model Number_XR-65X90L  \\\n",
       "0                       0.0                     0.0                     0.0   \n",
       "1                       0.0                     0.0                     0.0   \n",
       "2                       0.0                     0.0                     0.0   \n",
       "3                       0.0                     0.0                     0.0   \n",
       "4                       0.0                     0.0                     0.0   \n",
       "..                      ...                     ...                     ...   \n",
       "314                     0.0                     0.0                     0.0   \n",
       "315                     0.0                     0.0                     0.0   \n",
       "316                     0.0                     0.0                     0.0   \n",
       "317                     0.0                     0.0                     0.0   \n",
       "318                     0.0                     0.0                     0.0   \n",
       "\n",
       "     Model Number_XR-77A80L  Model Number_XR-83A80L  \n",
       "0                       0.0                     0.0  \n",
       "1                       0.0                     0.0  \n",
       "2                       0.0                     0.0  \n",
       "3                       0.0                     0.0  \n",
       "4                       0.0                     0.0  \n",
       "..                      ...                     ...  \n",
       "314                     0.0                     0.0  \n",
       "315                     0.0                     0.0  \n",
       "316                     0.0                     0.0  \n",
       "317                     0.0                     0.0  \n",
       "318                     0.0                     0.0  \n",
       "\n",
       "[319 rows x 222 columns]"
      ]
     },
     "execution_count": 84,
     "metadata": {},
     "output_type": "execute_result"
    }
   ],
   "source": [
    "df"
   ]
  },
  {
   "cell_type": "code",
   "execution_count": 85,
   "id": "aa393dd6",
   "metadata": {},
   "outputs": [
    {
     "name": "stdout",
     "output_type": "stream",
     "text": [
      "<class 'pandas.core.frame.DataFrame'>\n",
      "RangeIndex: 319 entries, 0 to 318\n",
      "Columns: 222 entries, Inches to Model Number_XR-83A80L\n",
      "dtypes: float64(219), int64(3)\n",
      "memory usage: 553.4 KB\n"
     ]
    }
   ],
   "source": [
    "df.info()"
   ]
  },
  {
   "cell_type": "code",
   "execution_count": 86,
   "id": "93d6c899",
   "metadata": {},
   "outputs": [
    {
     "data": {
      "text/plain": [
       "Inches                    0\n",
       "Ratings                   3\n",
       "Number of ratings         0\n",
       "Price                     0\n",
       "Brand_Haier               0\n",
       "                         ..\n",
       "Model Number_XR-55X90L    0\n",
       "Model Number_XR-65A80L    0\n",
       "Model Number_XR-65X90L    0\n",
       "Model Number_XR-77A80L    0\n",
       "Model Number_XR-83A80L    0\n",
       "Length: 222, dtype: int64"
      ]
     },
     "execution_count": 86,
     "metadata": {},
     "output_type": "execute_result"
    }
   ],
   "source": [
    "df.isnull().sum()"
   ]
  },
  {
   "cell_type": "code",
   "execution_count": 87,
   "id": "01db106b",
   "metadata": {},
   "outputs": [],
   "source": [
    "df['Ratings']=df['Ratings'].fillna(df['Ratings'].mode()[0])"
   ]
  },
  {
   "cell_type": "code",
   "execution_count": 88,
   "id": "915ddbef",
   "metadata": {},
   "outputs": [
    {
     "data": {
      "text/plain": [
       "Inches                    0\n",
       "Ratings                   0\n",
       "Number of ratings         0\n",
       "Price                     0\n",
       "Brand_Haier               0\n",
       "                         ..\n",
       "Model Number_XR-55X90L    0\n",
       "Model Number_XR-65A80L    0\n",
       "Model Number_XR-65X90L    0\n",
       "Model Number_XR-77A80L    0\n",
       "Model Number_XR-83A80L    0\n",
       "Length: 222, dtype: int64"
      ]
     },
     "execution_count": 88,
     "metadata": {},
     "output_type": "execute_result"
    }
   ],
   "source": [
    "df.isnull().sum()"
   ]
  },
  {
   "cell_type": "markdown",
   "id": "e9d9c22c",
   "metadata": {},
   "source": [
    "### Model Training"
   ]
  },
  {
   "cell_type": "code",
   "execution_count": 89,
   "id": "1fcc6e55",
   "metadata": {},
   "outputs": [],
   "source": [
    "X=df.drop('Price',axis=1)"
   ]
  },
  {
   "cell_type": "code",
   "execution_count": 90,
   "id": "18d23ad7",
   "metadata": {},
   "outputs": [
    {
     "data": {
      "text/plain": [
       "(319, 221)"
      ]
     },
     "execution_count": 90,
     "metadata": {},
     "output_type": "execute_result"
    }
   ],
   "source": [
    "X.shape"
   ]
  },
  {
   "cell_type": "code",
   "execution_count": 91,
   "id": "7205a290",
   "metadata": {},
   "outputs": [],
   "source": [
    "y=df['Price']"
   ]
  },
  {
   "cell_type": "code",
   "execution_count": 92,
   "id": "c8e32e03",
   "metadata": {},
   "outputs": [
    {
     "data": {
      "text/plain": [
       "(319,)"
      ]
     },
     "execution_count": 92,
     "metadata": {},
     "output_type": "execute_result"
    }
   ],
   "source": [
    "y.shape"
   ]
  },
  {
   "cell_type": "code",
   "execution_count": 93,
   "id": "6ab6b3ff",
   "metadata": {},
   "outputs": [],
   "source": [
    "from sklearn.model_selection import train_test_split\n",
    "X_train, X_test, y_train, y_test = train_test_split(\n",
    "    X, y, test_size=0.2, random_state=42)"
   ]
  },
  {
   "cell_type": "code",
   "execution_count": 94,
   "id": "58695c69",
   "metadata": {},
   "outputs": [],
   "source": [
    "from sklearn.linear_model import LinearRegression, Ridge, Lasso\n",
    "from sklearn.linear_model import LogisticRegression\n",
    "from sklearn.neighbors import KNeighborsRegressor\n",
    "from sklearn.tree import DecisionTreeRegressor\n",
    "from sklearn.ensemble import RandomForestRegressor,AdaBoostRegressor,GradientBoostingRegressor\n",
    "from sklearn.metrics import r2_score, mean_absolute_error, mean_squared_error"
   ]
  },
  {
   "cell_type": "code",
   "execution_count": 95,
   "id": "cdca0426",
   "metadata": {},
   "outputs": [
    {
     "name": "stdout",
     "output_type": "stream",
     "text": [
      "Linear Regression\n",
      "Model Performance in different Algorithms is:\n",
      "- Mean Squared Error :4929302510.1570\n",
      "- R squared :0.8356\n",
      "-Mean Absolute Error :33640.6153\n",
      "=======================================================\n",
      "\n",
      "\n",
      "Ridge Regression-L2Regularization\n",
      "Model Performance in different Algorithms is:\n",
      "- Mean Squared Error :5242818258.6828\n",
      "- R squared :0.8251\n",
      "-Mean Absolute Error :37047.5692\n",
      "=======================================================\n",
      "\n",
      "\n",
      "Lasso Regression -L1 Regularization\n",
      "Model Performance in different Algorithms is:\n",
      "- Mean Squared Error :5498826083.4440\n",
      "- R squared :0.8166\n",
      "-Mean Absolute Error :33792.5969\n",
      "=======================================================\n",
      "\n",
      "\n",
      "Decision Tree\n",
      "Model Performance in different Algorithms is:\n",
      "- Mean Squared Error :1101548003.5547\n",
      "- R squared :0.9633\n",
      "-Mean Absolute Error :16921.4375\n",
      "=======================================================\n",
      "\n",
      "\n"
     ]
    },
    {
     "name": "stderr",
     "output_type": "stream",
     "text": [
      "C:\\Users\\SAIKRISHNA\\anaconda3\\lib\\site-packages\\sklearn\\linear_model\\_coordinate_descent.py:628: ConvergenceWarning: Objective did not converge. You might want to increase the number of iterations, check the scale of the features or consider increasing regularisation. Duality gap: 7.892e+09, tolerance: 4.545e+08\n",
      "  model = cd_fast.enet_coordinate_descent(\n"
     ]
    },
    {
     "name": "stdout",
     "output_type": "stream",
     "text": [
      "KNN\n",
      "Model Performance in different Algorithms is:\n",
      "- Mean Squared Error :20591035441.4856\n",
      "- R squared :0.3132\n",
      "-Mean Absolute Error :39593.3594\n",
      "=======================================================\n",
      "\n",
      "\n",
      "Random Forest\n",
      "Model Performance in different Algorithms is:\n",
      "- Mean Squared Error :2873146178.7421\n",
      "- R squared :0.9042\n",
      "-Mean Absolute Error :20144.9992\n",
      "=======================================================\n",
      "\n",
      "\n",
      "AdaBoost Regressor\n",
      "Model Performance in different Algorithms is:\n",
      "- Mean Squared Error :2910895570.8500\n",
      "- R squared :0.9029\n",
      "-Mean Absolute Error :49768.8001\n",
      "=======================================================\n",
      "\n",
      "\n",
      "GradientBoost Regressor\n",
      "Model Performance in different Algorithms is:\n",
      "- Mean Squared Error :796086881.5250\n",
      "- R squared :0.9734\n",
      "-Mean Absolute Error :15270.6695\n",
      "=======================================================\n",
      "\n",
      "\n"
     ]
    }
   ],
   "source": [
    "models= {\n",
    "    'Linear Regression' : LinearRegression(),\n",
    "    'Ridge Regression-L2Regularization' : Ridge(),\n",
    "    'Lasso Regression -L1 Regularization'   : Lasso(),\n",
    "    'Decision Tree' : DecisionTreeRegressor(),\n",
    "    'KNN'           : KNeighborsRegressor(),\n",
    "    'Random Forest' : RandomForestRegressor(),\n",
    "    'AdaBoost Regressor' : AdaBoostRegressor(),\n",
    "    'GradientBoost Regressor' :GradientBoostingRegressor()\n",
    "}\n",
    "\n",
    "for i in range(len(list(models))):\n",
    "    model= list(models.values())[i]\n",
    "    model.fit(X_train,y_train)\n",
    "    \n",
    "    y_test_prediction = model.predict(X_test)\n",
    "    \n",
    "    print(list(models.keys())[i])\n",
    "    \n",
    "    model_test_mse = mean_squared_error(y_test,y_test_prediction)\n",
    "    model_test_RSquared = r2_score(y_test,y_test_prediction)\n",
    "    model_test_mae = mean_absolute_error(y_test,y_test_prediction)\n",
    "\n",
    "    print(\"Model Performance in different Algorithms is:\")\n",
    "    print('- Mean Squared Error :{:.4f}'.format(model_test_mse))\n",
    "    print('- R squared :{:.4f}'.format(model_test_RSquared))\n",
    "    print('-Mean Absolute Error :{:.4f}'.format(model_test_mae))\n",
    "    print('='*55)\n",
    "    print('\\n')  "
   ]
  },
  {
   "cell_type": "code",
   "execution_count": 96,
   "id": "7aa768ae",
   "metadata": {},
   "outputs": [],
   "source": [
    "import xgboost as xgb\n",
    "model=xgb.XGBRegressor()\n",
    "model.fit(X_train,y_train)\n",
    "xgb_predict = model.predict(X_test)"
   ]
  },
  {
   "cell_type": "code",
   "execution_count": 97,
   "id": "9d029cee",
   "metadata": {},
   "outputs": [
    {
     "name": "stdout",
     "output_type": "stream",
     "text": [
      "\n",
      "XGBoost\n",
      "Mean Squared Error: 513890116.42049456\n",
      "R-Squared: 0.9828598529674385\n",
      "Mean Absolute Error: 12394.721405029297\n"
     ]
    }
   ],
   "source": [
    "print(\"\\nXGBoost\")\n",
    "print(\"Mean Squared Error:\", mean_squared_error(y_test,xgb_predict))\n",
    "print(\"R-Squared:\", r2_score(y_test,xgb_predict))\n",
    "print(\"Mean Absolute Error:\",mean_absolute_error(y_test,xgb_predict))"
   ]
  },
  {
   "cell_type": "markdown",
   "id": "42bb6770",
   "metadata": {},
   "source": [
    "### Xgboost, GradientBoost , Adaboost and Decision Tree and Random Forest have a R2 score more than 90."
   ]
  },
  {
   "cell_type": "code",
   "execution_count": 98,
   "id": "7e9d1c78",
   "metadata": {},
   "outputs": [
    {
     "data": {
      "text/plain": [
       "0.9996224016770707"
      ]
     },
     "execution_count": 98,
     "metadata": {},
     "output_type": "execute_result"
    }
   ],
   "source": [
    "model.score(X_train,y_train)"
   ]
  },
  {
   "cell_type": "code",
   "execution_count": 99,
   "id": "c746dce7",
   "metadata": {},
   "outputs": [
    {
     "data": {
      "text/plain": [
       "0.9828598529674385"
      ]
     },
     "execution_count": 99,
     "metadata": {},
     "output_type": "execute_result"
    }
   ],
   "source": [
    "model.score(X_test,y_test)"
   ]
  },
  {
   "cell_type": "code",
   "execution_count": 100,
   "id": "750c6934",
   "metadata": {},
   "outputs": [
    {
     "data": {
      "text/plain": [
       "0.9828598529674385"
      ]
     },
     "execution_count": 100,
     "metadata": {},
     "output_type": "execute_result"
    }
   ],
   "source": [
    "from sklearn import metrics\n",
    "metrics.r2_score(y_test, xgb_predict)"
   ]
  },
  {
   "cell_type": "markdown",
   "id": "2176953d",
   "metadata": {},
   "source": [
    "### highest R2 score is XGBoost Regressor with 0.9996224016770707 in train and 0.9828598529674385 in test data respectively"
   ]
  },
  {
   "cell_type": "markdown",
   "id": "3b2def02",
   "metadata": {},
   "source": [
    "### Model Accuracy"
   ]
  },
  {
   "cell_type": "code",
   "execution_count": 101,
   "id": "7e9a6d68",
   "metadata": {},
   "outputs": [
    {
     "name": "stdout",
     "output_type": "stream",
     "text": [
      "Accuracy of the model is 98.29\n"
     ]
    }
   ],
   "source": [
    "model_accuracy = xgb.XGBRegressor()\n",
    "model_accuracy= model_accuracy.fit(X_train, y_train)\n",
    "xgb_pred = model_accuracy.predict(X_test)\n",
    "score = r2_score(y_test, xgb_pred)*100\n",
    "print(f\"Accuracy of the model is %.2f\" %score)"
   ]
  },
  {
   "cell_type": "code",
   "execution_count": 102,
   "id": "b3be02e1",
   "metadata": {},
   "outputs": [
    {
     "data": {
      "text/plain": [
       "Text(0.5, 1.0, 'Actual vs Predicted for XGBOOST')"
      ]
     },
     "execution_count": 102,
     "metadata": {},
     "output_type": "execute_result"
    },
    {
     "data": {
      "image/png": "[encoded data removed]",
      "text/plain": [
       "<Figure size 800x800 with 1 Axes>"
      ]
     },
     "metadata": {},
     "output_type": "display_data"
    }
   ],
   "source": [
    "plt.figure(figsize = (8,8))\n",
    "plt.scatter(y_test,xgb_pred, alpha = 0.5)\n",
    "plt.xlabel(\"y_test\")\n",
    "plt.ylabel(\"xgb_pred\")\n",
    "plt.title('Actual vs Predicted for XGBOOST')"
   ]
  },
  {
   "cell_type": "markdown",
   "id": "2df79082",
   "metadata": {},
   "source": [
    "### Hyperparameter tuning"
   ]
  },
  {
   "cell_type": "code",
   "execution_count": 103,
   "id": "eb390d7e",
   "metadata": {},
   "outputs": [],
   "source": [
    "from sklearn.model_selection import RandomizedSearchCV"
   ]
  },
  {
   "cell_type": "code",
   "execution_count": 104,
   "id": "85bd8134",
   "metadata": {},
   "outputs": [],
   "source": [
    "#Hyperparameter tuning\n",
    "\n",
    "rf_params={'n_estimators': [100,200,300,500,1000],\n",
    "           'max_depth' :[5,8,10,15,None],\n",
    "           'min_samples_split' : [2,4,6,8,10],\n",
    "           'max_features' : [5,7,\"auto\",8]}"
   ]
  },
  {
   "cell_type": "code",
   "execution_count": 105,
   "id": "ceb87c97",
   "metadata": {},
   "outputs": [
    {
     "data": {
      "text/plain": [
       "{'n_estimators': [100, 200, 300, 500, 1000],\n",
       " 'max_depth': [5, 8, 10, 15, None],\n",
       " 'min_samples_split': [2, 4, 6, 8, 10],\n",
       " 'max_features': [5, 7, 'auto', 8]}"
      ]
     },
     "execution_count": 105,
     "metadata": {},
     "output_type": "execute_result"
    }
   ],
   "source": [
    "rf_params"
   ]
  },
  {
   "cell_type": "code",
   "execution_count": 106,
   "id": "2d6ba777",
   "metadata": {},
   "outputs": [],
   "source": [
    "randomcv_models =[\n",
    "    (\"Random Forest\", RandomForestRegressor(),rf_params),\n",
    "]"
   ]
  },
  {
   "cell_type": "code",
   "execution_count": 107,
   "id": "2b47c386",
   "metadata": {},
   "outputs": [
    {
     "name": "stdout",
     "output_type": "stream",
     "text": [
      "Fitting 5 folds for each of 100 candidates, totalling 500 fits\n"
     ]
    },
    {
     "name": "stderr",
     "output_type": "stream",
     "text": [
      "C:\\Users\\SAIKRISHNA\\anaconda3\\lib\\site-packages\\sklearn\\model_selection\\_validation.py:425: FitFailedWarning: \n",
      "120 fits failed out of a total of 500.\n",
      "The score on these train-test partitions for these parameters will be set to nan.\n",
      "If these failures are not expected, you can try to debug them by setting error_score='raise'.\n",
      "\n",
      "Below are more details about the failures:\n",
      "--------------------------------------------------------------------------------\n",
      "40 fits failed with the following error:\n",
      "Traceback (most recent call last):\n",
      "  File \"C:\\Users\\SAIKRISHNA\\anaconda3\\lib\\site-packages\\sklearn\\model_selection\\_validation.py\", line 729, in _fit_and_score\n",
      "    estimator.fit(X_train, y_train, **fit_params)\n",
      "  File \"C:\\Users\\SAIKRISHNA\\anaconda3\\lib\\site-packages\\sklearn\\base.py\", line 1145, in wrapper\n",
      "    estimator._validate_params()\n",
      "  File \"C:\\Users\\SAIKRISHNA\\anaconda3\\lib\\site-packages\\sklearn\\base.py\", line 638, in _validate_params\n",
      "    validate_parameter_constraints(\n",
      "  File \"C:\\Users\\SAIKRISHNA\\anaconda3\\lib\\site-packages\\sklearn\\utils\\_param_validation.py\", line 96, in validate_parameter_constraints\n",
      "    raise InvalidParameterError(\n",
      "sklearn.utils._param_validation.InvalidParameterError: The 'max_features' parameter of RandomForestRegressor must be an int in the range [1, inf), a float in the range (0.0, 1.0], a str among {'log2', 'sqrt'} or None. Got 'auto' instead.\n",
      "\n",
      "--------------------------------------------------------------------------------\n",
      "80 fits failed with the following error:\n",
      "Traceback (most recent call last):\n",
      "  File \"C:\\Users\\SAIKRISHNA\\anaconda3\\lib\\site-packages\\sklearn\\model_selection\\_validation.py\", line 729, in _fit_and_score\n",
      "    estimator.fit(X_train, y_train, **fit_params)\n",
      "  File \"C:\\Users\\SAIKRISHNA\\anaconda3\\lib\\site-packages\\sklearn\\base.py\", line 1145, in wrapper\n",
      "    estimator._validate_params()\n",
      "  File \"C:\\Users\\SAIKRISHNA\\anaconda3\\lib\\site-packages\\sklearn\\base.py\", line 638, in _validate_params\n",
      "    validate_parameter_constraints(\n",
      "  File \"C:\\Users\\SAIKRISHNA\\anaconda3\\lib\\site-packages\\sklearn\\utils\\_param_validation.py\", line 96, in validate_parameter_constraints\n",
      "    raise InvalidParameterError(\n",
      "sklearn.utils._param_validation.InvalidParameterError: The 'max_features' parameter of RandomForestRegressor must be an int in the range [1, inf), a float in the range (0.0, 1.0], a str among {'sqrt', 'log2'} or None. Got 'auto' instead.\n",
      "\n",
      "  warnings.warn(some_fits_failed_message, FitFailedWarning)\n",
      "C:\\Users\\SAIKRISHNA\\anaconda3\\lib\\site-packages\\sklearn\\model_selection\\_search.py:979: UserWarning: One or more of the test scores are non-finite: [0.52884234 0.48211782 0.30587025 0.44979219 0.41860397 0.42003667\n",
      " 0.42302978        nan 0.41861335        nan 0.24137056 0.25331518\n",
      " 0.42642104 0.30800398 0.4761154  0.3911751         nan        nan\n",
      " 0.2839511  0.36348405 0.50312851 0.33010275 0.35625852        nan\n",
      " 0.23190687 0.29013575 0.40021422 0.27625018 0.37282808 0.24344934\n",
      "        nan 0.52858717 0.38567604 0.39705792 0.46343075        nan\n",
      "        nan 0.39990298 0.27773035 0.43197397 0.42758022        nan\n",
      "        nan        nan 0.37811595 0.4043941         nan        nan\n",
      "        nan 0.41142158 0.32112222        nan 0.50275187        nan\n",
      "        nan        nan 0.46314711 0.43586969 0.36105397 0.30426447\n",
      " 0.53317561 0.35430128 0.4537857  0.33684373 0.41658856        nan\n",
      "        nan 0.43447843 0.24952565 0.47536569 0.32730314 0.41562238\n",
      " 0.47991107 0.45568853 0.42380813 0.40843148 0.36117489 0.42105357\n",
      " 0.44355515 0.3531938         nan 0.44978214        nan 0.31964028\n",
      " 0.31881872 0.20580582 0.23829294 0.42975839 0.30954026        nan\n",
      " 0.4369138  0.3280015  0.4868901  0.4260396  0.41956111 0.39488193\n",
      " 0.33510726        nan 0.24917827 0.22395125]\n",
      "  warnings.warn(\n"
     ]
    },
    {
     "name": "stdout",
     "output_type": "stream",
     "text": [
      " --------------Best Params Random Forest-----------\n",
      "{'n_estimators': 500, 'min_samples_split': 2, 'max_features': 8, 'max_depth': None}\n"
     ]
    }
   ],
   "source": [
    "model_param={}\n",
    "for name, model, params in randomcv_models:\n",
    "    random = RandomizedSearchCV(estimator=model,\n",
    "                                param_distributions=params,\n",
    "                                n_iter=100,\n",
    "                                verbose=2,\n",
    "                                n_jobs=-1)\n",
    "    \n",
    "    random.fit(X_train,y_train)\n",
    "    model_param[name]= random.best_params_\n",
    "    \n",
    "for model_name in model_param:\n",
    "    print(f\" --------------Best Params {model_name}-----------\")\n",
    "    print(model_param[model_name])"
   ]
  },
  {
   "cell_type": "code",
   "execution_count": 138,
   "id": "8ff213b8",
   "metadata": {},
   "outputs": [
    {
     "name": "stdout",
     "output_type": "stream",
     "text": [
      "Random Forest\n",
      "Model Performance after hyperparameter tuning is:\n",
      "- Mean Squared Error :8333289844.1618\n",
      "- R squared :0.7221\n",
      "-Mean Absolute Error :26889.1240\n",
      "=======================================================\n",
      "\n",
      "\n"
     ]
    }
   ],
   "source": [
    "models= {\n",
    "    'Random Forest' : RandomForestRegressor(n_estimators= 500, min_samples_split= 2,max_features= 8, max_depth=None)\n",
    "}\n",
    "for i in range(len(list(models))):\n",
    "    model= list(models.values())[i]\n",
    "    model.fit(X_train,y_train)\n",
    "    \n",
    "    y_test_prediction = model.predict(X_test)\n",
    "    \n",
    "    print(list(models.keys())[i])\n",
    "    \n",
    "    model_test_mse = mean_squared_error(y_test,y_test_prediction)\n",
    "    model_test_RSquared = r2_score(y_test,y_test_prediction)\n",
    "    model_test_mae = mean_absolute_error(y_test,y_test_prediction)\n",
    "\n",
    "    print(\"Model Performance after hyperparameter tuning is:\")\n",
    "    print('- Mean Squared Error :{:.4f}'.format(model_test_mse))\n",
    "    print('- R squared :{:.4f}'.format(model_test_RSquared))\n",
    "    print('-Mean Absolute Error :{:.4f}'.format(model_test_mae))\n",
    "    print('='*55)\n",
    "    print('\\n')  "
   ]
  },
  {
   "cell_type": "code",
   "execution_count": 109,
   "id": "cdf94341",
   "metadata": {},
   "outputs": [],
   "source": [
    "#Decision tree hyperparamter Tuning\n",
    "\n",
    "dt_params = {\n",
    "    'max_depth': [3, 5, 7, 10, None],\n",
    "    'min_samples_split': [2, 5, 10, 20],\n",
    "    'min_samples_leaf': [1, 2, 4, 6, 8],\n",
    "    'max_features': [None, 'sqrt', 'log2']\n",
    "}"
   ]
  },
  {
   "cell_type": "code",
   "execution_count": 110,
   "id": "75a4b7d7",
   "metadata": {},
   "outputs": [
    {
     "data": {
      "text/plain": [
       "{'max_depth': [3, 5, 7, 10, None],\n",
       " 'min_samples_split': [2, 5, 10, 20],\n",
       " 'min_samples_leaf': [1, 2, 4, 6, 8],\n",
       " 'max_features': [None, 'sqrt', 'log2']}"
      ]
     },
     "execution_count": 110,
     "metadata": {},
     "output_type": "execute_result"
    }
   ],
   "source": [
    "dt_params"
   ]
  },
  {
   "cell_type": "code",
   "execution_count": 111,
   "id": "f305d1b0",
   "metadata": {},
   "outputs": [],
   "source": [
    "randomcv_models =[\n",
    "    (\"Decision Tree\", DecisionTreeRegressor(),dt_params),\n",
    "]"
   ]
  },
  {
   "cell_type": "code",
   "execution_count": 112,
   "id": "536e3b4e",
   "metadata": {},
   "outputs": [
    {
     "name": "stdout",
     "output_type": "stream",
     "text": [
      "Fitting 5 folds for each of 100 candidates, totalling 500 fits\n",
      " --------------Best Params Decision Tree-----------\n",
      "{'min_samples_split': 2, 'min_samples_leaf': 4, 'max_features': None, 'max_depth': 10}\n"
     ]
    }
   ],
   "source": [
    "model_param={}\n",
    "for name, model, params in randomcv_models:\n",
    "    random = RandomizedSearchCV(estimator=model,\n",
    "                                param_distributions=params,\n",
    "                                n_iter=100,\n",
    "                                verbose=2,\n",
    "                                n_jobs=-1)\n",
    "    \n",
    "    random.fit(X_train,y_train)\n",
    "    model_param[name]= random.best_params_\n",
    "    \n",
    "for model_name in model_param:\n",
    "    print(f\" --------------Best Params {model_name}-----------\")\n",
    "    print(model_param[model_name])"
   ]
  },
  {
   "cell_type": "code",
   "execution_count": 113,
   "id": "cc9e95f8",
   "metadata": {},
   "outputs": [
    {
     "name": "stdout",
     "output_type": "stream",
     "text": [
      "Decision Tree\n",
      "Model Performance in different Algorithms is:\n",
      "- Mean Squared Error :6026718623.8608\n",
      "- R squared :0.7990\n",
      "-Mean Absolute Error :30547.3663\n",
      "=======================================================\n",
      "\n",
      "\n"
     ]
    }
   ],
   "source": [
    "models= {\n",
    "    'Decision Tree' :DecisionTreeRegressor(min_samples_split=2, min_samples_leaf= 4, max_features=None, max_depth=None)\n",
    "}\n",
    "for i in range(len(list(models))):\n",
    "    model= list(models.values())[i]\n",
    "    model.fit(X_train,y_train)\n",
    "    \n",
    "    y_test_prediction = model.predict(X_test)\n",
    "    \n",
    "    print(list(models.keys())[i])\n",
    "    \n",
    "    model_test_mse = mean_squared_error(y_test,y_test_prediction)\n",
    "    model_test_RSquared = r2_score(y_test,y_test_prediction)\n",
    "    model_test_mae = mean_absolute_error(y_test,y_test_prediction)\n",
    "\n",
    "    print(\"Model Performance in different Algorithms is:\")\n",
    "    print('- Mean Squared Error :{:.4f}'.format(model_test_mse))\n",
    "    print('- R squared :{:.4f}'.format(model_test_RSquared))\n",
    "    print('-Mean Absolute Error :{:.4f}'.format(model_test_mae))\n",
    "    print('='*55)\n",
    "    print('\\n')  "
   ]
  },
  {
   "cell_type": "markdown",
   "id": "5bddff52",
   "metadata": {},
   "source": [
    "### Saving the model"
   ]
  },
  {
   "cell_type": "code",
   "execution_count": 114,
   "id": "2c767d7a",
   "metadata": {},
   "outputs": [],
   "source": [
    "import pickle\n",
    "# open a file, where you want to store the data\n",
    "file = open('Tv_price_xgb.pkl', 'wb')\n",
    "\n",
    "# dump information to that file\n",
    "pickle.dump(model, file)"
   ]
  },
  {
   "cell_type": "code",
   "execution_count": 115,
   "id": "f70fc698",
   "metadata": {},
   "outputs": [],
   "source": [
    "ml_model = open('Tv_price_xgb.pkl','rb')\n",
    "XGBoost = pickle.load(ml_model)"
   ]
  },
  {
   "cell_type": "code",
   "execution_count": 140,
   "id": "dcc47f73",
   "metadata": {},
   "outputs": [
    {
     "data": {
      "text/plain": [
       "0.7989865147507031"
      ]
     },
     "execution_count": 140,
     "metadata": {},
     "output_type": "execute_result"
    }
   ],
   "source": [
    "y_predi =XGBoost.predict(X_test)\n",
    "metrics.r2_score(y_test, y_predi)"
   ]
  },
  {
   "cell_type": "markdown",
   "id": "6351ae4b",
   "metadata": {},
   "source": [
    "### Also saving decision tree Algo model"
   ]
  },
  {
   "cell_type": "code",
   "execution_count": 116,
   "id": "12833eb0",
   "metadata": {},
   "outputs": [],
   "source": [
    "decision_tree = DecisionTreeRegressor()\n",
    "decision_tree.fit(X_train, y_train)\n",
    "decision_tree_pred = decision_tree.predict(X_test)"
   ]
  },
  {
   "cell_type": "code",
   "execution_count": 117,
   "id": "800e5286",
   "metadata": {},
   "outputs": [
    {
     "data": {
      "text/plain": [
       "0.9999999724999006"
      ]
     },
     "execution_count": 117,
     "metadata": {},
     "output_type": "execute_result"
    }
   ],
   "source": [
    "decision_tree .score(X_train, y_train)"
   ]
  },
  {
   "cell_type": "code",
   "execution_count": 118,
   "id": "3e364110",
   "metadata": {},
   "outputs": [
    {
     "data": {
      "text/plain": [
       "0.9589959258544785"
      ]
     },
     "execution_count": 118,
     "metadata": {},
     "output_type": "execute_result"
    }
   ],
   "source": [
    "decision_tree.score(X_test, y_test)"
   ]
  },
  {
   "cell_type": "code",
   "execution_count": 119,
   "id": "e6d1ae6c",
   "metadata": {},
   "outputs": [
    {
     "data": {
      "text/plain": [
       "<seaborn.axisgrid.FacetGrid at 0x1d911d7e520>"
      ]
     },
     "execution_count": 119,
     "metadata": {},
     "output_type": "execute_result"
    },
    {
     "data": {
      "image/png": "[encoded data removed]",
      "text/plain": [
       "<Figure size 500x500 with 1 Axes>"
      ]
     },
     "metadata": {},
     "output_type": "display_data"
    }
   ],
   "source": [
    "sns.displot(y_test-decision_tree_pred)"
   ]
  },
  {
   "cell_type": "code",
   "execution_count": 120,
   "id": "d3a7499a",
   "metadata": {},
   "outputs": [
    {
     "data": {
      "text/plain": [
       "0.9589959258544785"
      ]
     },
     "execution_count": 120,
     "metadata": {},
     "output_type": "execute_result"
    }
   ],
   "source": [
    "metrics.r2_score(y_test, decision_tree_pred)"
   ]
  },
  {
   "cell_type": "code",
   "execution_count": 121,
   "id": "6cd69ff3",
   "metadata": {},
   "outputs": [
    {
     "name": "stdout",
     "output_type": "stream",
     "text": [
      " Accuracy of the model is 95.47\n"
     ]
    }
   ],
   "source": [
    "model_accuracy = DecisionTreeRegressor()\n",
    "model_accuracy= model_accuracy.fit(X_train, y_train)\n",
    "dt_pred = model_accuracy.predict(X_test)\n",
    "score = r2_score(y_test, dt_pred)*100\n",
    "print(\" Accuracy of the model is %.2f\" %score)"
   ]
  },
  {
   "cell_type": "markdown",
   "id": "1d431c37",
   "metadata": {},
   "source": [
    "### Saving the model"
   ]
  },
  {
   "cell_type": "code",
   "execution_count": 122,
   "id": "03defe8f",
   "metadata": {},
   "outputs": [],
   "source": [
    "import pickle\n",
    "# open a file, where you want to store the data\n",
    "file = open('TV_Price_dt.pkl', 'wb')\n",
    "\n",
    "# dump information to that file\n",
    "pickle.dump(model, file)"
   ]
  },
  {
   "cell_type": "code",
   "execution_count": 123,
   "id": "c8295cdc",
   "metadata": {},
   "outputs": [],
   "source": [
    "pred_model = open('TV_Price_dt.pkl','rb')\n",
    "Decision_Tree = pickle.load(pred_model)"
   ]
  },
  {
   "cell_type": "code",
   "execution_count": 124,
   "id": "5caed790",
   "metadata": {},
   "outputs": [],
   "source": [
    "y_prediction =Decision_Tree.predict(X_test)"
   ]
  },
  {
   "cell_type": "code",
   "execution_count": 125,
   "id": "ac151de6",
   "metadata": {},
   "outputs": [
    {
     "data": {
      "text/plain": [
       "0.7989865147507031"
      ]
     },
     "execution_count": 125,
     "metadata": {},
     "output_type": "execute_result"
    }
   ],
   "source": [
    "metrics.r2_score(y_test, y_prediction)"
   ]
  },
  {
   "cell_type": "code",
   "execution_count": 126,
   "id": "d1d63d77",
   "metadata": {},
   "outputs": [],
   "source": [
    "pd.options.display.max_columns = None\n",
    "pd.options.display.max_rows = None"
   ]
  },
  {
   "cell_type": "code",
   "execution_count": 127,
   "id": "ea3ad78d",
   "metadata": {},
   "outputs": [
    {
     "data": {
      "text/plain": [
       "['Inches',\n",
       " 'Ratings',\n",
       " 'Number of ratings',\n",
       " 'Price',\n",
       " 'Brand_Haier',\n",
       " 'Brand_Hisense',\n",
       " 'Brand_LG',\n",
       " 'Brand_MI',\n",
       " 'Brand_OnePlus',\n",
       " 'Brand_Panasonic',\n",
       " 'Brand_Samsung',\n",
       " 'Brand_Sony Bravia',\n",
       " 'Brand_Sony Bravia 2',\n",
       " 'Brand_TCL',\n",
       " 'Brand_TOSHIBA',\n",
       " 'Display_4K Dolby Vision',\n",
       " 'Display_4K UHD',\n",
       " 'Display_8K UHD',\n",
       " 'Display_Full HD',\n",
       " 'Display_HD ',\n",
       " 'Display_UHD',\n",
       " 'Screen_Laser',\n",
       " 'Screen_NanoCell',\n",
       " 'Screen_OLED',\n",
       " 'Screen_QLED',\n",
       " 'Screen_QNED',\n",
       " 'Platform_Fire TV',\n",
       " 'Platform_Google TV',\n",
       " 'Platform_Smart TV',\n",
       " 'Model Number_32 Y1S',\n",
       " 'Model Number_32LM563BPTC',\n",
       " 'Model Number_32LQ576BPSA',\n",
       " 'Model Number_32LQ643BPTA',\n",
       " 'Model Number_32S5400',\n",
       " 'Model Number_32S5403AF',\n",
       " 'Model Number_32S5500',\n",
       " 'Model Number_32S5500AF',\n",
       " 'Model Number_32V35MP',\n",
       " 'Model Number_32Y1',\n",
       " 'Model Number_40L4B',\n",
       " 'Model Number_43 Y1S',\n",
       " 'Model Number_43C350NP',\n",
       " 'Model Number_43C450ME',\n",
       " 'Model Number_43C61B',\n",
       " 'Model Number_43C645',\n",
       " 'Model Number_43C655',\n",
       " 'Model Number_43E7K',\n",
       " 'Model Number_43LM5600PTC',\n",
       " 'Model Number_43NANO73SQA',\n",
       " 'Model Number_43P635',\n",
       " 'Model Number_43P7GT',\n",
       " 'Model Number_43QNED75SRA',\n",
       " 'Model Number_43UQ7500PSF',\n",
       " 'Model Number_43UQ7550PSF',\n",
       " 'Model Number_43UR7500PSC',\n",
       " 'Model Number_43V35MP',\n",
       " 'Model Number_43V6B',\n",
       " 'Model Number_43Y1',\n",
       " 'Model Number_43Y1S Pro',\n",
       " 'Model Number_48C2PSA',\n",
       " 'Model Number_50C450ME',\n",
       " 'Model Number_50E7K',\n",
       " 'Model Number_50P635',\n",
       " 'Model Number_50UR7500PSC',\n",
       " 'Model Number_50V6B',\n",
       " 'Model Number_50Y1S Pro',\n",
       " 'Model Number_55A3PSA',\n",
       " 'Model Number_55A7H',\n",
       " 'Model Number_55B2PSA',\n",
       " 'Model Number_55C2PSC',\n",
       " 'Model Number_55C450ME',\n",
       " 'Model Number_55C61B',\n",
       " 'Model Number_55C645',\n",
       " 'Model Number_55C655',\n",
       " 'Model Number_55C755',\n",
       " 'Model Number_55C835',\n",
       " 'Model Number_55E7K',\n",
       " 'Model Number_55E7K PRO',\n",
       " 'Model Number_55LX1QPSA',\n",
       " 'Model Number_55M550MP',\n",
       " 'Model Number_55M650MP',\n",
       " 'Model Number_55NANO73SQA',\n",
       " 'Model Number_55P635 Pro',\n",
       " 'Model Number_55P71B Pro',\n",
       " 'Model Number_55P7GT',\n",
       " 'Model Number_55QNED75SRA',\n",
       " 'Model Number_55U1S',\n",
       " 'Model Number_55U7K',\n",
       " 'Model Number_55UQ7550PSF',\n",
       " 'Model Number_55UQ8020PSB',\n",
       " 'Model Number_55UR7500PSC',\n",
       " 'Model Number_55V6B',\n",
       " 'Model Number_65 Q2 Pro',\n",
       " 'Model Number_65B2PSA',\n",
       " 'Model Number_65C61B',\n",
       " 'Model Number_65C645',\n",
       " 'Model Number_65C755',\n",
       " 'Model Number_65M550MP',\n",
       " 'Model Number_65M650MP',\n",
       " 'Model Number_65P635',\n",
       " 'Model Number_65P635 Pro',\n",
       " 'Model Number_65P71B Pro',\n",
       " 'Model Number_65U1S',\n",
       " 'Model Number_65UQ7500PSF',\n",
       " 'Model Number_65UR7500PSC',\n",
       " 'Model Number_65V6B',\n",
       " 'Model Number_65X7400H',\n",
       " 'Model Number_75NU7100',\n",
       " 'Model Number_75P635',\n",
       " 'Model Number_75SM9400PTA',\n",
       " 'Model Number_85C755',\n",
       " 'Model Number_85P745',\n",
       " 'Model Number_98C755',\n",
       " 'Model Number_98P745',\n",
       " 'Model Number_AR32GT2841HDFL',\n",
       " 'Model Number_AR40GR2841FDFL',\n",
       " 'Model Number_AR55GR2851UDFL',\n",
       " 'Model Number_AR55GR2851UDPRO',\n",
       " 'Model Number_C350NP Series',\n",
       " 'Model Number_K-55S25',\n",
       " 'Model Number_K-65S25',\n",
       " 'Model Number_KD-43X64L',\n",
       " 'Model Number_KD-43X70L',\n",
       " 'Model Number_KD-43X80L',\n",
       " 'Model Number_KD-50X70L',\n",
       " 'Model Number_KD-50X80K',\n",
       " 'Model Number_KD-50X80L',\n",
       " 'Model Number_KD-55X74L',\n",
       " 'Model Number_KD-55X82L',\n",
       " 'Model Number_KD-65X74L',\n",
       " 'Model Number_KD-65X82L',\n",
       " 'Model Number_KD-75X82L',\n",
       " 'Model Number_L32MA-AIN',\n",
       " 'Model Number_L32MA-FVIN',\n",
       " 'Model Number_L32R8-FVIN',\n",
       " 'Model Number_L43FG',\n",
       " 'Model Number_L43M8-5AIN',\n",
       " 'Model Number_L43M8-5XIN',\n",
       " 'Model Number_L43M8-A2IN',\n",
       " 'Model Number_L43R8-FVIN',\n",
       " 'Model Number_L50M8-5XIN',\n",
       " 'Model Number_L50M8-A2IN',\n",
       " 'Model Number_L55FG',\n",
       " 'Model Number_L55M8-5XIN',\n",
       " 'Model Number_L55M8-A2IN',\n",
       " 'Model Number_L65M8-A2IN',\n",
       " 'Model Number_L75M6-ESG',\n",
       " 'Model Number_LE 43K 800UGT',\n",
       " 'Model Number_LE32W400G',\n",
       " 'Model Number_O55M7-Z2IN',\n",
       " 'Model Number_QA43LS03BAKLXL',\n",
       " 'Model Number_QA43Q60DAULXL',\n",
       " 'Model Number_QA50Q60DAULXL',\n",
       " 'Model Number_QA50QN90CAKLXL',\n",
       " 'Model Number_QA55LS03BAKLXL',\n",
       " 'Model Number_QA55Q60DAULXL',\n",
       " 'Model Number_QA55Q70DAULXL',\n",
       " 'Model Number_QA55Q80BAKLXL',\n",
       " 'Model Number_QA55QE1DAULXL',\n",
       " 'Model Number_QA55QN85CAKLXL',\n",
       " 'Model Number_QA55QN85DBULXL',\n",
       " 'Model Number_QA55QN90AAKLXL',\n",
       " 'Model Number_QA55QN90DAULXL',\n",
       " 'Model Number_QA55QN95BAKLXL',\n",
       " 'Model Number_QA55S90CAKLXL',\n",
       " 'Model Number_QA55S95DAULXL',\n",
       " 'Model Number_QA65LS03BAKLXL',\n",
       " 'Model Number_QA65LS03DAULXL',\n",
       " 'Model Number_QA65Q60CAKLXL',\n",
       " 'Model Number_QA65Q60DAULXL',\n",
       " 'Model Number_QA65QE1DAULXL',\n",
       " 'Model Number_QA65QN800CKXXL',\n",
       " 'Model Number_QA65QN85AAKLXL',\n",
       " 'Model Number_QA65QN85CAKLXL',\n",
       " 'Model Number_QA65QN90DAULXL',\n",
       " 'Model Number_QA65QN95BAKLXL',\n",
       " 'Model Number_QA65S95DAULXL',\n",
       " 'Model Number_QA75Q60BAKXXL',\n",
       " 'Model Number_QA75QN800BKXXL',\n",
       " 'Model Number_QA75QN800CKXXL',\n",
       " 'Model Number_QA75QN90BAKXXL',\n",
       " 'Model Number_QA85QN900AKXXL',\n",
       " 'Model Number_QA85QN900CKXXL',\n",
       " 'Model Number_QA85QN90BAKXXL',\n",
       " 'Model Number_QA98QN90AAKXXL',\n",
       " 'Model Number_TH-43MS660DX',\n",
       " 'Model Number_TH-43MX660DX',\n",
       " 'Model Number_TH-55MX660DX',\n",
       " 'Model Number_TH-65MX660DX',\n",
       " 'Model Number_TH32MS660DX',\n",
       " 'Model Number_UA32T4340BKXXL',\n",
       " 'Model Number_UA32T4380AKXXL',\n",
       " 'Model Number_UA32T4600AKXXL',\n",
       " 'Model Number_UA43AUE65AKXXL',\n",
       " 'Model Number_UA43CU8000KLXL',\n",
       " 'Model Number_UA43DU7000KLXL',\n",
       " 'Model Number_UA43DU7700KLXL',\n",
       " 'Model Number_UA43DUE70BKLXL',\n",
       " 'Model Number_UA43DUE77AKLXL',\n",
       " 'Model Number_UA43T5450AKXXL',\n",
       " 'Model Number_UA50DU7660KLXL',\n",
       " 'Model Number_UA50DU8300ULXL',\n",
       " 'Model Number_UA55AUE65AKXXL',\n",
       " 'Model Number_UA55CUE70AKLXL',\n",
       " 'Model Number_UA55DU7000KLXL',\n",
       " 'Model Number_UA55DU7700KLXL',\n",
       " 'Model Number_UA55DUE70BKLXL',\n",
       " 'Model Number_UA55DUE77AKLXL',\n",
       " 'Model Number_UA65CUE60AKLXL',\n",
       " 'Model Number_UA65DU8300ULXL',\n",
       " 'Model Number_UA65DUE70BKLXL',\n",
       " 'Model Number_UA65DUE77AKLXL',\n",
       " 'Model Number_UA65TUE60AKBXL',\n",
       " 'Model Number_UA75CU8000KXXL',\n",
       " 'Model Number_UA75DU8300UXXL',\n",
       " 'Model Number_X55',\n",
       " 'Model Number_XR-55A80L',\n",
       " 'Model Number_XR-55X90L',\n",
       " 'Model Number_XR-65A80L',\n",
       " 'Model Number_XR-65X90L',\n",
       " 'Model Number_XR-77A80L',\n",
       " 'Model Number_XR-83A80L']"
      ]
     },
     "execution_count": 127,
     "metadata": {},
     "output_type": "execute_result"
    }
   ],
   "source": [
    "list(df.columns)"
   ]
  },
  {
   "cell_type": "code",
   "execution_count": null,
   "id": "66e01a52",
   "metadata": {},
   "outputs": [],
   "source": []
  }
 ],
 "metadata": {
  "kernelspec": {
   "display_name": "Python 3 (ipykernel)",
   "language": "python",
   "name": "python3"
  },
  "language_info": {
   "codemirror_mode": {
    "name": "ipython",
    "version": 3
   },
   "file_extension": ".py",
   "mimetype": "text/x-python",
   "name": "python",
   "nbconvert_exporter": "python",
   "pygments_lexer": "ipython3",
   "version": "3.9.13"
  }
 },
 "nbformat": 4,
 "nbformat_minor": 5
}
