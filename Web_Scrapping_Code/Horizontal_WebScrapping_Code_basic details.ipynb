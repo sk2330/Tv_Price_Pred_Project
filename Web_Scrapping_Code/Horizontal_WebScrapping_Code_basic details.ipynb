{
 "cells": [
  {
   "cell_type": "code",
   "execution_count": 1,
   "id": "2a1bf944",
   "metadata": {},
   "outputs": [
    {
     "name": "stdout",
     "output_type": "stream",
     "text": [
      "Requirement already satisfied: selenium==3.141.0 in c:\\users\\saikrishna\\anaconda3\\lib\\site-packages (3.141.0)\n",
      "Requirement already satisfied: urllib3 in c:\\users\\saikrishna\\anaconda3\\lib\\site-packages (from selenium==3.141.0) (1.26.16)\n",
      "Note: you may need to restart the kernel to use updated packages.\n"
     ]
    }
   ],
   "source": [
    "pip install selenium==3.141.0"
   ]
  },
  {
   "cell_type": "code",
   "execution_count": 2,
   "id": "a3bd576a",
   "metadata": {},
   "outputs": [
    {
     "name": "stdout",
     "output_type": "stream",
     "text": [
      "Requirement already satisfied: urllib3==1.26.16 in c:\\users\\saikrishna\\anaconda3\\lib\\site-packages (1.26.16)\n",
      "Note: you may need to restart the kernel to use updated packages.\n"
     ]
    }
   ],
   "source": [
    "pip install --upgrade urllib3==1.26.16"
   ]
  },
  {
   "cell_type": "code",
   "execution_count": 3,
   "id": "d0219b42",
   "metadata": {},
   "outputs": [],
   "source": [
    "from selenium import webdriver\n",
    "from selenium.webdriver.common.by import By\n",
    "from time import sleep\n",
    "from selenium.webdriver.chrome.service import Service\n",
    "from selenium.webdriver.support.ui import WebDriverWait as wait\n",
    "from selenium.webdriver.support import expected_conditions as EC"
   ]
  },
  {
   "cell_type": "code",
   "execution_count": 4,
   "id": "61e70259",
   "metadata": {},
   "outputs": [],
   "source": [
    "from selenium import webdriver\n",
    "\n",
    "# Define the path to the Chrome WebDriver executable\n",
    "DRIVER_PATH = r'C:\\Users\\SAIKRISHNA\\Downloads\\chromedriver-win64\\chromedriver-win64\\chromedriver.exe'\n",
    "\n",
    "# Initialize the Chrome WebDriver\n",
    "browser = webdriver.Chrome(DRIVER_PATH)"
   ]
  },
  {
   "cell_type": "code",
   "execution_count": 5,
   "id": "c54fe8e5",
   "metadata": {},
   "outputs": [],
   "source": [
    "# load the webpage\n",
    "browser.get('https://www.amazon.in')"
   ]
  },
  {
   "cell_type": "code",
   "execution_count": 6,
   "id": "8a6c3f14",
   "metadata": {},
   "outputs": [],
   "source": [
    "browser.maximize_window()"
   ]
  },
  {
   "cell_type": "code",
   "execution_count": 7,
   "id": "64434803",
   "metadata": {},
   "outputs": [],
   "source": [
    "# get the input elements\n",
    "\n",
    "input_search = browser.find_element(By.ID, 'twotabsearchtextbox')\n",
    "search_button = browser.find_element(By.XPATH, \"(//input[@type='submit'])[1]\")"
   ]
  },
  {
   "cell_type": "code",
   "execution_count": 8,
   "id": "3b36c3d7",
   "metadata": {},
   "outputs": [],
   "source": [
    "# send the input to the webpage\n",
    "search=\"women dresses\"\n",
    "input_search.send_keys(search)\n",
    "sleep(1)\n",
    "search_button.click()"
   ]
  },
  {
   "cell_type": "code",
   "execution_count": 9,
   "id": "16806151",
   "metadata": {},
   "outputs": [
    {
     "name": "stdout",
     "output_type": "stream",
     "text": [
      "Scraping page 1\n",
      "Search started!\n",
      "Scraping page 2\n",
      "Search started!\n",
      "Scraping page 3\n",
      "Search started!\n"
     ]
    }
   ],
   "source": [
    "\n",
    "product_asin = []\n",
    "product_name = []\n",
    "product_price = []\n",
    "product_ratings = []\n",
    "product_ratings_num = []\n",
    "product_link = []\n",
    "number_of_pages=3\n",
    "\n",
    "for i in range(number_of_pages):\n",
    "    print('Scraping page', i+1)\n",
    "    print(\"Search started!\")\n",
    "    items = wait(browser, 10).until(EC.presence_of_all_elements_located((By.XPATH, '//div[contains(@class, \"s-result-item s-asin\")]')))\n",
    "\n",
    "    for item in items:\n",
    "        # find name\n",
    "        name = item.find_element(By.XPATH, './/span[@class=\"a-size-base-plus a-color-base a-text-normal\"]')\n",
    "        product_name.append(name.text)\n",
    "        # find ASIN number \n",
    "        data_asin = item.get_attribute(\"data-asin\")\n",
    "        product_asin.append(data_asin)\n",
    "    \n",
    "\n",
    "         # find price\n",
    "   \n",
    "        if item.find_elements(By.XPATH, './/span[@class=\"a-price-whole\"]')!=[]:\n",
    "          whole_price=item.find_elements(By.XPATH, './/span[@class=\"a-price-whole\"]')[0].text\n",
    "        else:\n",
    "            whole_price=0;\n",
    "        product_price.append(whole_price)\n",
    "\n",
    "\n",
    "        # find ratings box\n",
    "        ratings_box = item.find_elements(By.XPATH, './/div[@class=\"a-row a-size-small\"]/span')\n",
    "        # find ratings and ratings_num\n",
    "        if ratings_box != []:\n",
    "            ratings = ratings_box[0].get_attribute('aria-label')\n",
    "            ratings_num = ratings_box[1].get_attribute('aria-label')\n",
    "        else:\n",
    "            ratings, ratings_num = 0, 0\n",
    "    \n",
    "        product_ratings.append(ratings)\n",
    "        product_ratings_num.append(str(ratings_num))\n",
    "    \n",
    "\n",
    "          # find link\n",
    "        link = item.find_element(By.XPATH, './/a[@class=\"a-link-normal s-underline-text s-underline-link-text s-link-style a-text-normal\"]').get_attribute(\"href\")\n",
    "        product_link.append(link)\n",
    "    \n",
    "    next_button = browser.find_element(By.XPATH, \"//a[text()='Next']\")\n",
    "    next_button.click()\n",
    "    sleep(2)\n",
    "browser.quit()\n"
   ]
  },
  {
   "cell_type": "code",
   "execution_count": 10,
   "id": "9a8e229c",
   "metadata": {},
   "outputs": [
    {
     "name": "stdout",
     "output_type": "stream",
     "text": [
      "180\n",
      "180\n",
      "180\n",
      "180\n",
      "180\n"
     ]
    }
   ],
   "source": [
    "print(len(product_name))\n",
    "# print(product_asin)\n",
    "print(len(product_price))\n",
    "print(len(product_ratings))\n",
    "print(len(product_ratings_num))\n",
    "print(len(product_link))"
   ]
  },
  {
   "cell_type": "code",
   "execution_count": 11,
   "id": "8cf81b29",
   "metadata": {},
   "outputs": [
    {
     "name": "stdout",
     "output_type": "stream",
     "text": [
      "['Women Casual Dress', 'Women Casual Dress', \"Women's Bodycon Dress (Knee Length | Desk-to-Dinner)\", 'Women Casual Dress', 'Dress for Women Midi | One Piece Dress for Women | Beach Dress for Women', 'Dresses for Women || Western Dresses for Women || Dress for Women || Dresses (701-702)', 'Women Casual Regular Sleeves Crepe Solid Fit and Flare Dress', \"Women's Casual Printed Puff Sleeves Maxi Dress\", 'Dresses for Women || Western Dresses for Women || Dress for Women || Dresses (694-699)', 'Dresses for Women || Western Dresses for Women || Dress for Women || Dresses (695-698)', 'Georgette Jacquard Butti Square Neck Knee Length Western Dresses for Women (Dress2 89)', 'Georgette Women Flare Calf Length Gown Western Dresses for Women (Dress2 39)', \"Women's Georgette Floral Fit & Flared Western Dress | Dress for Women | A line | Anarkali Dress | Gown Dress | Western Dress | Exclusive Women Dress | Bollywood Dress | Dresss | Fashion\", 'Western Dress || Rayon Solid Button Front Shirt Dress for Women || Roll Tab Sleeve & Collared Neck Flared Dress || Office || Summer Short Dresses for Women.', \"Women's & Girls' Solid V Neck Ankle Length Beshop Sleeve A-line Western Dresses for Women (Dress2 46)\", \"Women's Nayra Cut Embroidered Kurta with Pant and Dupatta Set\", \"Women's Cotton Printed Straight Kurta and Pant Set\", \"Women's Maxi Dress\", 'One Piece Dress for Women | Beach Wear for Women | Western Dress | Vacation Outfits for Women | Picnic Dress for Women | Casual, Party Dresses for Women.', \"Women's Coord Set\", 'Prayer Dress,ONE Piece Islamic Prayer Jilbab/NISKARAKUPPAYAM/NAMAZ KHIMAR for Women,Adult Size/Free Size', 'Solid Polyester Straight Fit Womens Kurta', 'Women Mustard Cotton Fusion Dress', \"Women's Viscose Floral Prints Collar Tiered Fit & Flared Dress| Bell Sleeves Shell Button Casual Wear Dresses\", 'Georgette Round Neck Maxi Western Dresses for Women (Dress2 81)', 'Creap Boat Neck Maxi Western Dresses for Women (Dress2 86)', 'Women Coord Set', 'Creap V-Neck Maxi Western Dresses for Women (Dress2 85)', \"Women's Western Poly Rayon Dresses | Maxi Dress | Printed Western Dress for Women\", \"Women's Chiffon Solid Floral Sweetheart Neck A-Line Dress for Women (Dress2 60)\", 'Women Co-Ord Set', 'Women Dress', 'Women Dress', \"Women's Georgette Digital Floral Printed Gown Dress for Women (Dress2 35)\", 'Women Dress', \"Women's Floral Print Tiered Midi Fit & Flare Dress with Ruffles with Digital Printed Dupatta (Dress2 112)\", 'Women Rayon Coord Set', 'Solid Women Square Neck Ribbed Knit Sleeveless Bodycon Dress (MIDI 104)', 'Women Waist Shapewear with Anti Rolling Strip Tummy Control Tucker Waist Slimming Panties Shapewear Underwear Waist Shapewear', \"Women's Dress Batik V-Neck CO-ODS Set for Women (CO-ODS 97 BATIK)\", 'Women Rayon Coord Set', 'Western Dress || Rayon Color Block Half Button Front Dress for Women || Long Cuff Sleeve & Stand Collared Neck Tunic Dress || Office || Summer Dresses for Women.', 'Women Dress', 'Women Georgette Woven Fit & Flared Western Dress | Dress for Women | A line Dress | Winter Dress | Western Dress | Latest Women Dress | Trendy Dress for Dress | Midi Dresses', \"Women's Dobby Pattern Geometric A-Line Dress Western Dresses for Women (Dress2 79)\", \"Women's Cotton Woven Midi Dress\", \"Women's Viscose Rayon Maroon & Grey Printed A-Line Dress\", \"Women's Creap Solid Floral Boat Neck A-Line Dress for Women (Dress2 111)\", 'Solid Women V-Neck Ribbed Knit Sleeveless Bodycon Dress (MIDI 103)', \"Women's Floral Maxi Dress\", \"Women's Printed Rayon Flared Knee-Length Dress (Drsgrace_Off White)\", \"Women's Floral Print Tiered Midi Fit & Flare Dress with Ruffles Western Dresses for Women (Dress2 38)\", \"Women's Cotton Blend Printed Straight Kurta & Pant (Ps-Pink-Cmd-Gs)\", 'V-Neck Long Sleeve Lurex Gliter Solid Front Slit Front Ruched Seam Bodycon Above Knee Length Women Dress', \"Women's Solid Relaxed Fit Full Sleeve Co-ord Blazer and Trouser Set.\", 'Women Regular Fit Rayon Dress', 'Solid Cotton Flared Fit Womens Kurta', \"Women's Mini Length Polyester Shift Dress\", 'Abaya One Piece for Women | Very Loose Fit One Piece Jilbab Abaya for Girls and Women (Very Loose Fit & Free Size)', \"Women's Casual Solid Round Neck Full Sleeve Shimmery Fitted Dress\", \"Women's Bodycon Dress (Knee Length | Desk-to-Dinner)\", \"Women's Fit and Flare Knee Length Printed Formal Dress\", \"Women's Round Neck Sleeveless Back Cut Out Bow Mini Skater Dress\", 'Women Teal Cotton Flared Printed Dress', 'Western Dress | Georgette Printed Dress for Women | One Piece Dress for Women', 'Chiffon Ditsy Floral Deep V-Neck Ruffle Hem Western Dresses for Women (Dress2 88)', \"Women's & Girl's Swiss Dot Shirred Frill Trim Layered Hem Cami Dress (Dress2 74)\", 'Western Dresses for Women | Short A-Line Dress for Girls', 'Women Below The Knee Dress', 'Dress for Women|one Piece for Women|Dresses for Women|Kurta Set for Women|Kurta for Women Dress for Women|Women top|Tops for Women|Dress|Dresses for Women', \"Women's Cotton Blend A-Line Ankle Length Kurta Set\", \"Women's Teal Cotton Floral Empire Dress\", 'Womens Solid Fit & Flare Dress', \"Women's Dress\", 'Dresses for Women, Western Dresses for Women, Dress for Women, Dresses for Women, Short A-Line Dress for Girls, Maxi Dress for Women, Georgette Western Dress, Sky Blue Colour Western Dress', \"Women's Maroon Poly Crepe A-Line Kurta Set With Dupatta\", \"Women's Cotton Blend Straight Embroidered Kurta Set With Dupatta\", \"Women's Georgette Floral Digital Print Short Sleeve Full-Length Fit & Flare Long Gown Dress for Girls (ET-CYWN-E1LE)\", 'Women Fancy Plain & Solid Designer Dress for Women', 'Women Olive Liva Straight Printed Dress', 'Women Casual Dress', 'Womens Solid Fit & Flare Dress', 'Women Cotton Fit and Flare Knee-Length Dress', \"Women's Viscose Tie-up Neck Half Sleeve A-line, One Piece Dress for Women Stylish Western Printed Dress\", \"Women's & Girl's White Color Chikankari Long Kurti Gown\", \"Women's Crepe Fit and Flare Printed Full Sleeve V-Neck Casual Dress\", \"Women's Orange Poly Georgette Floral Flared Western Dress\", 'Dresses for Women Crepe Abstract Print Belt Waisted High N Law with Ruffled Hem in Wrap-Up Western Dress Shopping College Holidays Office Wear Casual Dress for Girls', \"Women's Summer Slub Rayon Wrap Maxi Dress Casual Dote Printed High Neck Full Sleeve Ruffle Hem Split Beach Long Dresses\", \"Women's Maxi Dress\", 'Dress for Women Midi| One Piece Dress for Women| Beach Dress for Women| Birthday Dress for Women', 'Women Midi Dress', \"Women's Dobby Pattern Georgette A-Line Dress Western Dresses for Women (Dress2 80)\", 'Women Night Dress', 'Women Co-Ord Set', \"Women's Blue Dobby Georgette Ikat Printed Flared Dress\", 'Dresses for Women, Western Dresses for Women, Dress for Women, Dresses for Women, Midi Dress for Women, Chiffon Western Dress, Black Colour Western Dress', 'Women’s Cotton Western Dresses', 'Crepe Maxi Dress for Women', \"Women's Tai-Dye Printed Mesh Rayon Lycra High V-Collar Neck Long Kurti Dresses for Women, A-Line Knee-Length Dress, Midi Western Dress for Women, Short Dress\", 'Women Western Dress Lycra Plain Short Dress & Bodycon Polka Dot Long Net Puff Sleeves Pencil Dress for Girls Date Outing Wear Gift for Women', \"Women's Green Poly Georgette Floral Flared Midi Dress\", 'Women Midi Dress', \"Women's Coral Orange Cotton Solid Flared Dress\", 'Midi Dress For Women| One Piece Midi Dress For Women| Beach Midi Dress For Women', 'Ethnic Co Ord Set | Co Ord Set for Women | Night Dress for Women | Night Wear for Women | Payjama Set for Women | Women Two-Piece Outfits | Coord Sets', 'Dresses for Women Knee Length with Floral Print', 'Women Women Dress', \"Women Frill Maxi Dress/Women's Synthetic A-Line Floral Maxi Dress…\", 'Women Floral Print Anarkali Kurta with Pant and Dupatta', \"Women's Regular Knee Length Short Jumpsuit\", 'Women Long Dress', \"Women's Knee Length Casual Dress\", \"Women's Yellow Georgette Floral Printed Flared Western Dress\", \"Women's Lycra Black One Piece Dresses |Knee-Length Dress | Bodycon Western Dress for Women| Girl's Short Dress\", \"Women's & Girls' Black Solid Ruched Detail A-line Mini Dress\", \"Women's Ethnic Motifs Chiffon Tiered Maxi Dress Fit & Flared V-Neck Full Sleeve Summer Wear One Piece Girls Dress Western Party Casual Wear Outfits for Ladies (Olive Green)\", 'Solid Cotton Flared Fit Womens Kurta', 'Women Casual Dress', 'Rayon Flared Printed Women Maxi Kurta Dress', \"Women's Bodycon Dress (Knee Length | Desk-to-Dinner)\", \"Women's Shirt Dress| Collared Neck Half Sleeves Slash Pockets Self Tie Belt Midi Length Western Dress\", 'Rayon Flared Printed Women Maxi Kurta Dress', 'Women Casual Dress', \"Women's Knee Length Casual Dress\", \"Women's Yellow Georgette Floral Printed Flared Western Dress\", \"Women's Lycra Black One Piece Dresses |Knee-Length Dress | Bodycon Western Dress for Women| Girl's Short Dress\", \"Women's & Girls' Black Solid Ruched Detail A-line Mini Dress\", \"Women's Maxi Dress\", 'Women Viscose Embroidered Kurti Pant and Dupatta Set', 'Women Dress', \"Women's & Girls' Solid Crisscross Backless Fit and Flare Mini Dress\", \"Women's Cotton Blend Straight Printed Kurta & Pant\", 'Women’s High-Low Knee Length Dress(Ruby-062-to-069)', 'Women Dress', 'AALIT Nighty for Women Cotton Printed Maxi Gown Ankle Length Nighty Night Dress Gown for Women Maxi - Free Size', 'Women Dress', 'Women Viscose Rayon Maternity and Feeding Maxi Dress with Zip', \"Women's Red Cotton Dobby Solid Tiered Dress\", \"Women's Floral Printed Cotton Flared Knee Length Dress\", 'Women Teal Cotton Flared Printed Dress', \"Women's Knee Length A-Line Dress\", 'Women Casual Dress', \"Women's Mesh Sleeveless Dress\", \"Women's Georgette a-line Knee-Long Dress\", \"Women's Rayon Floral Printed Tiered Style Maxi Dress\", \"Women's Puff Sleeve V-Neck Bodycon Casual Mini Dress\", 'Dress for Women with Floral Print', \"Women's Knee Length A-Line Dress\", \"Women's Cotton A-Line Knee-Length Dress\", 'Dresses for Women || Western Dresses for Women || Dress for Women || Dresses (689-690)', \"Women's Blue Poly Georgette Floral Flared Western Dress\", \"Women's Rayon Blend Straight Chikankari Embroidered Kurta\", \"Women's Rayon A-Line Standard Length Dress\", \"Women's A-LINE Knee Length Dress\", \"Women's Yellow Dobby Chiffon Solid Co-ord Set\", \"Women's Floral Printed Front Slit Asymmetrical Maxi Dress\", 'Dress for Women|one Piece for Women|Kurta for Women Dress for Women|Tops for Women|Dresses for Women|Women top|Kurta Set for Women|', 'Women Navy Poly Cotton Flared Printed Dress', 'Women Dress', 'Women Dress', \"Women's Red Georgette Floral Printed Dress\", \"Women's Knee Length Western Dress\", 'Dress for Women Belted Wrap Dress with Bishop Sleeves Surplice Neck High Waist & Flared Hem Midi Dress | Dresses for Women | Long Dresses for Women', \"Women's Dyed Fit & Flare Knee Length Russell Net Dress\", 'Fold Pleated Bodycon Dress', 'Women Dress', 'Maternity Feeding Kurti for Women | Cotton Blend Anarkali Dress with Nursing Zip for Pre & Post Pregnancy', 'Women Mini Dress', \"Women's Mustard Poly Georgette Floral Flared Western Dress\", 'Women Dress', 'Women Dress', \"Women's Cotton Skater Knee Length Dress\", 'Women Cotton Co-Ord Set', 'Solid FIT & Flare Dress for Women', 'Women Rayon Co-Ord Set', 'Women Sexy Night Dress for Honeymoon|First Night Short & Stylish Dress | Pack of 2 (Black & Black)', 'Women Knee Length Dress', \"Women's Knee Length Checked Formal Sheath Dress\", 'Bodycon Party Dress for Women Ruffles Sleeves | Shiny Velvet Fabric Fish Cut Ruffle Bottom Detailing Stylish Casual Outfit']\n",
      "['2,599', '1,799', '1,499', '1,999', '479', '499', '400', '420', '699', '579', '549', '649', '480', '359', '549', '849', '499', '859', '379', '599', '699', '2,300', '1,798', '2,190', '649', '549', '489', '599', '629', '649', '579', '1,199', '999', '649', '499', '749', '599', '399', '287', '579', '579', '359', '3,987', '542', '649', '629', '532', '549', '399', '399', '549', '649', '489', '689', '739', '379', '1,799', '1,349', '1,499', '873', '1,599', '1,189', '733', '1,699', '349', '649', '649', '289', '594', '658', '649', '949', '299', '734', '598', '829', '679', '455', '999', '1,419', '2,799', '338', '609', '1,299', '759', '449', '449', '279', '359', '459', '379', '944', '649', '549', '579', '1,199', '598', '559', '336', '359', '349', '419', '802', '959', '379', '489', '499', '919', '399', '769', '289', '302', '629', '859', '299', '429', '1,789', '1,799', '2,599', '799', '1,499', '1,449', '799', '1,799', '629', '859', '299', '429', '339', '599', '1,999', '429', '489', '419', '839', '349', '1,792', '699', '1,299', '594', '1,699', '945', '1,999', '1,199', '649', '659', '359', '699', '945', '2,020', '645', '799', '488', '579', '898', '1,320', '689', '995', '2,298', '639', '299', '799', '799', '789', '549', '458', '700', '859', '449', '519', '2,639', '739', '499', '599', '599', '569', '549', '2,048', '1,447', '862']\n",
      "[0, 0, 0, 0, '3.6 out of 5 stars', '4.0 out of 5 stars', '3.6 out of 5 stars', '3.9 out of 5 stars', '4.6 out of 5 stars', '4.0 out of 5 stars', '4.1 out of 5 stars', '3.8 out of 5 stars', '3.8 out of 5 stars', '3.2 out of 5 stars', '4.6 out of 5 stars', '4.0 out of 5 stars', '4.2 out of 5 stars', '4.0 out of 5 stars', '3.8 out of 5 stars', '4.2 out of 5 stars', '3.9 out of 5 stars', '3.4 out of 5 stars', '4.1 out of 5 stars', 0, '5.0 out of 5 stars', '4.2 out of 5 stars', '3.4 out of 5 stars', '3.6 out of 5 stars', '4.4 out of 5 stars', '4.2 out of 5 stars', '3.8 out of 5 stars', 0, '5.0 out of 5 stars', '3.7 out of 5 stars', 0, '4.0 out of 5 stars', '3.9 out of 5 stars', '4.8 out of 5 stars', '4.1 out of 5 stars', '4.0 out of 5 stars', '3.4 out of 5 stars', '3.1 out of 5 stars', 0, '3.7 out of 5 stars', '5.0 out of 5 stars', '4.0 out of 5 stars', '3.6 out of 5 stars', '2.0 out of 5 stars', '4.5 out of 5 stars', '3.5 out of 5 stars', '3.3 out of 5 stars', '3.1 out of 5 stars', '3.5 out of 5 stars', '4.7 out of 5 stars', '3.6 out of 5 stars', '3.8 out of 5 stars', '3.4 out of 5 stars', '3.7 out of 5 stars', '3.3 out of 5 stars', 0, 0, '4.0 out of 5 stars', 0, '4.0 out of 5 stars', '4.2 out of 5 stars', '5.0 out of 5 stars', '4.1 out of 5 stars', '3.5 out of 5 stars', '4.0 out of 5 stars', '4.1 out of 5 stars', '3.6 out of 5 stars', '5.0 out of 5 stars', '4.3 out of 5 stars', '4.0 out of 5 stars', '3.9 out of 5 stars', '4.0 out of 5 stars', '4.0 out of 5 stars', '3.4 out of 5 stars', '3.5 out of 5 stars', '4.2 out of 5 stars', 0, '4.2 out of 5 stars', '4.2 out of 5 stars', '3.9 out of 5 stars', '4.0 out of 5 stars', '3.9 out of 5 stars', '4.0 out of 5 stars', '3.6 out of 5 stars', '3.7 out of 5 stars', '3.8 out of 5 stars', '3.3 out of 5 stars', '3.9 out of 5 stars', '5.0 out of 5 stars', '3.5 out of 5 stars', '4.0 out of 5 stars', '5.0 out of 5 stars', '3.9 out of 5 stars', '3.8 out of 5 stars', '3.4 out of 5 stars', '3.2 out of 5 stars', '4.1 out of 5 stars', '4.1 out of 5 stars', '4.2 out of 5 stars', '3.7 out of 5 stars', '4.6 out of 5 stars', '4.2 out of 5 stars', '4.1 out of 5 stars', '3.9 out of 5 stars', '3.4 out of 5 stars', '3.2 out of 5 stars', '3.5 out of 5 stars', '3.6 out of 5 stars', '3.9 out of 5 stars', '4.0 out of 5 stars', '4.0 out of 5 stars', '4.0 out of 5 stars', 0, '3.4 out of 5 stars', 0, '2.5 out of 5 stars', 0, '5.0 out of 5 stars', '2.5 out of 5 stars', 0, '3.9 out of 5 stars', '4.0 out of 5 stars', '4.0 out of 5 stars', '4.0 out of 5 stars', '3.8 out of 5 stars', '3.9 out of 5 stars', '1.0 out of 5 stars', '3.5 out of 5 stars', '3.6 out of 5 stars', '4.0 out of 5 stars', '4.1 out of 5 stars', 0, 0, '3.9 out of 5 stars', 0, '4.0 out of 5 stars', '4.0 out of 5 stars', '4.1 out of 5 stars', 0, '4.0 out of 5 stars', '3.7 out of 5 stars', '4.1 out of 5 stars', '4.0 out of 5 stars', '4.3 out of 5 stars', '4.1 out of 5 stars', '5.0 out of 5 stars', '4.1 out of 5 stars', '3.9 out of 5 stars', '3.9 out of 5 stars', '3.6 out of 5 stars', '4.1 out of 5 stars', '5.0 out of 5 stars', '4.0 out of 5 stars', '3.9 out of 5 stars', '3.6 out of 5 stars', '3.8 out of 5 stars', '3.2 out of 5 stars', '5.0 out of 5 stars', '4.0 out of 5 stars', '4.1 out of 5 stars', '3.9 out of 5 stars', '3.9 out of 5 stars', '3.6 out of 5 stars', '4.8 out of 5 stars', '3.7 out of 5 stars', '3.7 out of 5 stars', 0, '3.4 out of 5 stars', '3.5 out of 5 stars', '3.7 out of 5 stars', '4.1 out of 5 stars', '3.4 out of 5 stars', 0, '4.0 out of 5 stars', '3.2 out of 5 stars', '4.1 out of 5 stars']\n",
      "['0', '0', '0', '0', '162 ratings', '180 ratings', '61 ratings', '206 ratings', '116 ratings', '130 ratings', '21 ratings', '17 ratings', '955 ratings', '2,031 ratings', '7 ratings', '1,252 ratings', '1,753 ratings', '513 ratings', '13 ratings', '180 ratings', '24 ratings', '124 ratings', '42 ratings', '0', '1 ratings', '10 ratings', '253 ratings', '14 ratings', '53 ratings', '9 ratings', '120 ratings', '0', '1 ratings', '10 ratings', '0', '11 ratings', '111 ratings', '16 ratings', '10,114 ratings', '43 ratings', '142 ratings', '434 ratings', '0', '223 ratings', '8 ratings', '1,475 ratings', '352 ratings', '9 ratings', '19 ratings', '4,592 ratings', '29 ratings', '9 ratings', '2,872 ratings', '4 ratings', '593 ratings', '380 ratings', '80 ratings', '7 ratings', '3 ratings', '0', '0', '11 ratings', '0', '18 ratings', '5 ratings', '3 ratings', '12 ratings', '1,399 ratings', '12,127 ratings', '927 ratings', '181 ratings', '1 ratings', '15 ratings', '7,649 ratings', '345 ratings', '5,720 ratings', '1,126 ratings', '32 ratings', '43 ratings', '24 ratings', '0', '16 ratings', '16 ratings', '8 ratings', '259 ratings', '66 ratings', '133 ratings', '30 ratings', '666 ratings', '1,521 ratings', '41 ratings', '242 ratings', '4 ratings', '351 ratings', '62 ratings', '1 ratings', '172 ratings', '5 ratings', '1,314 ratings', '525 ratings', '265 ratings', '387 ratings', '350 ratings', '198 ratings', '38 ratings', '232 ratings', '214 ratings', '102 ratings', '762 ratings', '1,037 ratings', '1,351 ratings', '5,335 ratings', '2,477 ratings', '38 ratings', '75 ratings', '520 ratings', '0', '80 ratings', '0', '2 ratings', '0', '1 ratings', '2 ratings', '0', '2,477 ratings', '38 ratings', '75 ratings', '520 ratings', '265 ratings', '1,677 ratings', '1 ratings', '279 ratings', '7,379 ratings', '993 ratings', '404 ratings', '0', '0', '144 ratings', '0', '87 ratings', '18 ratings', '94 ratings', '0', '9 ratings', '463 ratings', '15 ratings', '1,186 ratings', '34 ratings', '94 ratings', '1 ratings', '615 ratings', '1,051 ratings', '1,339 ratings', '158 ratings', '1,195 ratings', '1 ratings', '1 ratings', '145 ratings', '38 ratings', '1,137 ratings', '115 ratings', '3 ratings', '394 ratings', '84 ratings', '1,321 ratings', '359 ratings', '115 ratings', '6 ratings', '1,280 ratings', '127 ratings', '0', '80 ratings', '633 ratings', '307 ratings', '18 ratings', '170 ratings', '0', '44 ratings', '16 ratings', '130 ratings']\n"
     ]
    }
   ],
   "source": [
    "print(product_name)\n",
    "# print(product_asin)\n",
    "print(product_price)\n",
    "print(product_ratings)\n",
    "print(product_ratings_num)\n"
   ]
  },
  {
   "cell_type": "code",
   "execution_count": null,
   "id": "8b70790c",
   "metadata": {},
   "outputs": [],
   "source": []
  }
 ],
 "metadata": {
  "kernelspec": {
   "display_name": "Python 3 (ipykernel)",
   "language": "python",
   "name": "python3"
  },
  "language_info": {
   "codemirror_mode": {
    "name": "ipython",
    "version": 3
   },
   "file_extension": ".py",
   "mimetype": "text/x-python",
   "name": "python",
   "nbconvert_exporter": "python",
   "pygments_lexer": "ipython3",
   "version": "3.9.13"
  }
 },
 "nbformat": 4,
 "nbformat_minor": 5
}
