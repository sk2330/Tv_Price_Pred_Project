{
 "cells": [
  {
   "cell_type": "code",
   "execution_count": 1,
   "id": "ce96c625",
   "metadata": {},
   "outputs": [
    {
     "name": "stdout",
     "output_type": "stream",
     "text": [
      "Requirement already satisfied: selenium==3.141.0 in c:\\users\\saikrishna\\anaconda3\\lib\\site-packages (3.141.0)\n",
      "Requirement already satisfied: urllib3 in c:\\users\\saikrishna\\anaconda3\\lib\\site-packages (from selenium==3.141.0) (1.26.16)\n",
      "Note: you may need to restart the kernel to use updated packages.\n"
     ]
    }
   ],
   "source": [
    "pip install selenium==3.141.0"
   ]
  },
  {
   "cell_type": "code",
   "execution_count": 2,
   "id": "e108814f",
   "metadata": {},
   "outputs": [
    {
     "name": "stdout",
     "output_type": "stream",
     "text": [
      "Requirement already satisfied: urllib3==1.26.16 in c:\\users\\saikrishna\\anaconda3\\lib\\site-packages (1.26.16)\n",
      "Note: you may need to restart the kernel to use updated packages.\n"
     ]
    }
   ],
   "source": [
    "pip install --upgrade urllib3==1.26.16"
   ]
  },
  {
   "cell_type": "code",
   "execution_count": 3,
   "id": "d0219b42",
   "metadata": {},
   "outputs": [],
   "source": [
    "from selenium import webdriver\n",
    "from selenium.webdriver.common.by import By\n",
    "from time import sleep\n",
    "from selenium.webdriver.chrome.service import Service\n",
    "from selenium.webdriver.support.ui import WebDriverWait as wait\n",
    "from selenium.webdriver.support import expected_conditions as EC"
   ]
  },
  {
   "cell_type": "code",
   "execution_count": 4,
   "id": "61e70259",
   "metadata": {},
   "outputs": [],
   "source": [
    "from selenium import webdriver\n",
    "\n",
    "# Define the path to the Chrome WebDriver executable\n",
    "DRIVER_PATH = r'C:\\Users\\SAIKRISHNA\\Downloads\\chromedriver-win64\\chromedriver-win64\\chromedriver.exe'\n",
    "\n",
    "# Initialize the Chrome WebDriver\n",
    "browser = webdriver.Chrome(DRIVER_PATH)"
   ]
  },
  {
   "cell_type": "code",
   "execution_count": 5,
   "id": "c54fe8e5",
   "metadata": {},
   "outputs": [],
   "source": [
    "# load the webpage\n",
    "browser.get('https://www.amazon.in')"
   ]
  },
  {
   "cell_type": "code",
   "execution_count": 6,
   "id": "8a6c3f14",
   "metadata": {},
   "outputs": [],
   "source": [
    "browser.maximize_window()"
   ]
  },
  {
   "cell_type": "code",
   "execution_count": 7,
   "id": "64434803",
   "metadata": {},
   "outputs": [],
   "source": [
    "# get the input elements\n",
    "\n",
    "input_search = browser.find_element(By.ID, 'twotabsearchtextbox')\n",
    "search_button = browser.find_element(By.XPATH, \"(//input[@type='submit'])[1]\")"
   ]
  },
  {
   "cell_type": "code",
   "execution_count": 8,
   "id": "3b36c3d7",
   "metadata": {},
   "outputs": [],
   "source": [
    "# send the input to the webpage\n",
    "search=\"dslr camera\"\n",
    "input_search.send_keys(search)\n",
    "sleep(1)\n",
    "search_button.click()"
   ]
  },
  {
   "cell_type": "code",
   "execution_count": 9,
   "id": "16806151",
   "metadata": {},
   "outputs": [
    {
     "name": "stdout",
     "output_type": "stream",
     "text": [
      "Scraping page 1\n",
      "Search started!\n",
      "Scraping page 2\n",
      "Search started!\n",
      "Scraping page 3\n",
      "Search started!\n",
      "Scraping page 4\n",
      "Search started!\n",
      "Scraping page 5\n",
      "Search started!\n",
      "Scraping page 6\n",
      "Search started!\n",
      "Scraping page 7\n",
      "Search started!\n"
     ]
    }
   ],
   "source": [
    "\n",
    "product_asin = []\n",
    "product_name = []\n",
    "product_price = []\n",
    "product_ratings = []\n",
    "product_ratings_num = []\n",
    "product_link = []\n",
    "number_of_pages=7\n",
    "\n",
    "for i in range(number_of_pages):\n",
    "    print('Scraping page', i+1)\n",
    "    print(\"Search started!\")\n",
    "    items = wait(browser, 10).until(EC.presence_of_all_elements_located((By.XPATH, '//div[contains(@class, \"s-result-item s-asin\")]')))\n",
    "\n",
    "    for item in items:\n",
    "        # find name\n",
    "        name = item.find_element(By.XPATH, './/span[@class=\"a-size-medium a-color-base a-text-normal\"]')\n",
    "        product_name.append(name.text)\n",
    "        # find ASIN number \n",
    "        data_asin = item.get_attribute(\"data-asin\")\n",
    "        product_asin.append(data_asin)\n",
    "    \n",
    "\n",
    "         # find price\n",
    "   \n",
    "        if item.find_elements(By.XPATH, './/span[@class=\"a-price-whole\"]')!=[]:\n",
    "          whole_price=item.find_elements(By.XPATH, './/span[@class=\"a-price-whole\"]')[0].text\n",
    "        else:\n",
    "            whole_price=0;\n",
    "        product_price.append(whole_price)\n",
    "\n",
    "\n",
    "        # find ratings box\n",
    "        ratings_box = item.find_elements(By.XPATH, './/div[@class=\"a-row a-size-small\"]/span')\n",
    "        # find ratings and ratings_num\n",
    "        if ratings_box != []:\n",
    "            ratings = ratings_box[0].get_attribute('aria-label')\n",
    "            ratings_num = ratings_box[1].get_attribute('aria-label')\n",
    "        else:\n",
    "            ratings, ratings_num = 0, 0\n",
    "    \n",
    "        product_ratings.append(ratings)\n",
    "        product_ratings_num.append(str(ratings_num))\n",
    "    \n",
    "\n",
    "          # find link\n",
    "        link = item.find_element(By.XPATH, './/a[@class=\"a-link-normal s-underline-text s-underline-link-text s-link-style a-text-normal\"]').get_attribute(\"href\")\n",
    "        product_link.append(link)\n",
    "    \n",
    "    next_button = browser.find_element(By.XPATH, \"//a[text()='Next']\")\n",
    "    next_button.click()\n",
    "    sleep(2)\n",
    "browser.quit()\n"
   ]
  },
  {
   "cell_type": "code",
   "execution_count": 10,
   "id": "9a8e229c",
   "metadata": {},
   "outputs": [
    {
     "name": "stdout",
     "output_type": "stream",
     "text": [
      "112\n",
      "112\n",
      "112\n",
      "112\n",
      "112\n"
     ]
    }
   ],
   "source": [
    "print(len(product_name))\n",
    "# print(product_asin)\n",
    "print(len(product_price))\n",
    "print(len(product_ratings))\n",
    "print(len(product_ratings_num))\n",
    "print(len(product_link))"
   ]
  },
  {
   "cell_type": "code",
   "execution_count": 11,
   "id": "8cf81b29",
   "metadata": {
    "scrolled": false
   },
   "outputs": [
    {
     "name": "stdout",
     "output_type": "stream",
     "text": [
      "['Nikon D7500 20.9MP Digital SLR Camera (Black) with AF-S DX NIKKOR 18-140mm f/3.5-5.6G ED VR Lens', 'Canon Digital Camera EOS R100 RF-S18-45mm is STM Kit (Black)', 'Canon EOS R10 24.2MP Mirrorless Digital Camera with RF-S18-45mm Kit Lens (APS-C Sensor, 23 FPS, Next Gen Auto Focus, Next Level Image Stabilisation, 4K) – Black', 'Nikon D850 45.7MP DSLR Camera Body only, 3X Optical Zoom, Black', 'Nikon Z50 Mirrorless Camera with Z DX 16-50mm f/3.5-6.3 VR & Z DX 50-250mm f/4.5-6.3 VR Lens with Additional Battery', 'Sony Alpha ILCE 6100L 24.2 MP Mirrorless Digital SLR Camera with 16-50 mm Power Zoom Lens | APS-C Sensor | Fast Auto Focus,Real-time Eye AF,Real-time Tracking | 4K Vlogging Camera - Black', 'Panasonic LUMIX G7 16.00 MP 4K Mirrorless Interchangeable Lens Camera Kit with 14-42 mm Lens (Black) with 3x Optical Zoom', 'Nikon Z50 Mirrorless Optical Zoom Camera with Z DX 16-50mm f/3.5-6.3 VR Lens with Additional Battery (Black)', 'Canon EOS 90D Digital SLR Camera with 18-135 is USM Lens [Black]', 'Nikon D850 45.7MP Digital SLR Camera (Black) with AF-S Nikkor 24-120mm F/4G ED VR Lens and 64GB Memory Card', 'Nikon D7500 DX-Format Digital SLR Body (Black)', 'Nikon D5600 Digital Camera 18-55mm VR Kit (Black)', 'Sony Alpha ILCE-6100Y 24.2 MP Mirrorless Digital SLR Camera with 16-50 mm & 55-210 mm Zoom Lenses, APS-C Sensor, Fast Auto Focus,Real-time Eye AF,Real-time Tracking, Vlogging & Content Creation -Black', 'Sony Alpha ILCE-6400 24.2MP Mirrorless Digital SLR Camera Body (APS-C Sensor, Real-Time Eye Auto Focus, 4K Vlogging Camera, Tiltable LCD) - Black', 'LEQTRONIQ Digital Camera 4K Vlogging Camera 64MP Mirrorless Cameras for Photography with Dual Camera, WiFi, 52mm Fixed Lens, 4.0\" Touch Screen, 32GB SD Card & Camera Bag - Black', 'Canon Digital Camera EOS R50 RF-S18-45mm is STM (Black)', 'Sony Alpha ILCE-7RM4A Full-Frame 61.0MP Mirrorless Digital SLR Camera Body | 4K Full Frame | Real-Time Eye Auto Focus | Real time Animal Eye AF | Tiltable LCD - Black', 'Sony Alpha ILCE 6600M 24.2 MP Mirrorless Digital SLR Camera with 18-135 mm Zoom Lens | APS-C Sensor | Fastest Auto Focus, Real-time Eye AF, Real-time Tracking | 4K Vlogging Camera - Black', 'Nikon Digital Camera Z 30 kit with NIKKOR Z DX 16-50mm f/3.5-6.3 VR - Black', 'Sony Alpha ZV-E10L 24.2 Mega Pixel Interchangeable-Lens Mirrorless vlog Optical zoom Camera with 16-50mm Lens,for Creators(APS-C Sensor,Advanced Autofocus,Clear Audio,4K Movie Recording)-Black,Compact', 'Nikon Z30 Mirrorless Camera Body Only with Camera Bag & 64 GB SD Card', 'Fujifilm X-T3 26.1 MP Mirrorless Camera Body (APS-C X-Trans CMOS 4 Sensor, X-Processor 4, EVF, LCD Tilt Touchscreen, Fast & Accurate AF, Face/Eye AF, 4K/60P Video, Film Simulation Modes) - Black', 'Nikon Z50 Mirrorless Camera with DX 18-140MM f/3.5-6.3 VR', 'Canon EOS R5 45MP Full-Frame Mirrorless Digital Camera Body (8K RAW Video, 4K 120p Video, 20 FPS, Eye Auto Focus, Upto 8 Stop is) - Black', 'Canon Digital Camera EOS R6 Mark II with 24-105 USM Kit Black', 'Nikon Mirrorless Z fc Body with Z DX 16-50mm f/3.5-6.3 VR [SL] Lens with Additional Battery, Camera Bag & 64 GB SD Card, SmallRig L-Shape Grip,Optical Zoom,Black', 'Sony Alpha Zv-E10 24.2 Mega Pixel Interchangeable-Lens Optical Zoom Mirrorless Vlog Camera, Made for Creators | Aps-C Sensor |Advanced Autofocus | Clear Audio & 4K Movie Recording (Body Only) – Black', 'Canon EOS R3 Full-Frame Mirrorless Camera Body (30 FPS, Eye Control AF, Upto 8 Stop is, Max ISO 102400, 6K RAW Video) Black', 'Nikon Mirrorless Z7 II Body Only with Additional Battery, Optical Zoom (Black)', 'Canon Digital Camera EOS R50 RF-S18-45mm is STM Kit (White)', 'Canon Digital Camera EOS R6 Mark II Body', 'Sony Alpha ILCE-7M4K Full-Frame Hybrid Camera 33MP Interchangeable-Lens Mirrorless Camera with 28-70mm Digital Zoom Lens (4K 60P Video Recording, Real-Time Eye AF for Humans, Birds, Animals) - Black', 'Nikon Z6 II Mirrorless Camera Z 24-70mm Lens with Additional Battery, Optical Zoom, Black', 'Canon Digital Camera EOS R50 RF-S18-45mm is STM + RF-S55-210mm is STM Kit', 'Sony Alpha ILCE-1 Mirrorless Full-Frame Camera | 30 FPS | 50.1 MP | 8K 30P, 4K 120P | Real-time Eye AF, Real time Tracking - Black', 'Kodak Camera Photo Cameras for Lenses 3.0 in LCD Screen 18X Zoom Hd SLR Camera Digital Slrs Long Focal Length Portable Digital Camerastandard (Standard Edition + Wide Angle Lens)', 'Sony Premium Compact DSC-RX100M5A Advanced Digital 4K Camera (Black)', 'Sony Alpha ILCE-7CL with 28-60mm Zoom Lens | Compact Full Frame Camera | 4K with Flip Screen, Light Weight | Real time Tracking | Content Creation - Black', 'Nikon Store COOLPIX P950 Digital Camera - Black', 'PENTAX K-3 Mark III Flagship APS-C Black Camera Body - 12fps, Touch Screen LCD, Weather Resistant Magnesium Alloy Body with in-Body 5-Axis Shake Reduction. 1.05x Optical viewfinder with 100% FOV', 'Sony Alpha ILCE-7C Compact Full Frame Camera | 4K with Flip Screen, Light Weight | Real time Tracking | Content Creation - Black', 'Nikon Z50 Mirrorless Camera Body Only with Additional Battery & 64 GB SD Card, Optical Zoom, Black', 'Sony Alpha ILCE 6100L 24.2 MP Mirrorless Digital SLR Camera with 16-50 mm Power Zoom Lens & Tiltable Screen, Black & E-Mount 55-210mm F4.5-6.3 Telephoto Lens (Black)', 'Sony Alpha ILCE-7M3K Full-Frame 24.2MP Mirrorless Digital SLR Camera with 28-70mm Zoom Lens (4K Full Frame, Real-Time Eye Auto Focus, Tiltable LCD, Low Light Camera) with Free Bag - Black', 'Kodak PIXPRO AZ252 Point & Shoot Digital Camera with 3” LCD, Black', 'Sony Alpha ILCE-7C Compact Full Frame Camera | 4K with Flip Screen, Light Weight | Real time Tracking |Content Creation - Silver', 'Acuvar Digital Camera, 16 Megapixel Photo Camera Mini Digital SLR Camera, CMOS Sensor 2.4“ TFT LCD Compact Camera, 16X Digital Zoom Video Camera for Children Adults Beginners', 'Sony Alpha Ilce-6400L 24.2Mp Mirrorless Camera (Black) with 16-50Mm Power Optical Zoom Lens | Aps-C Sensor | Real-Time Eye Auto Focus | 4K Vlogging Camera | Tiltable LCD - Black', '4K Digital Camera, Autofocus, 48 Megapixels, 4K Resolution, Flash, Time-Lapse, Continuous Shooting, HDMI Output, 16x Digital Zoom, 3-inch Large Screen, Spare Battery, Lightweight, Suitable for School Trips, Students, Beginners', 'Olympus OMD-EM-5-Mark-III Mirrorless Digital Camera with Lens 12-45mm F4.0 Pro.Silver', 'FUJIFILM X-T5 Mirrorless Camera with 16-80mm Lens Silver', 'Fujifilm X-T4 26MP Mirrorless Camera Body with XF18-55mm Lens (X-Trans CMOS4 Sensor, EVF, Face/Eye AF, IBIS, LCD Touchscreen, 4K/60P & FHD/240P Video, Film Simulations, Weather Resistance) - Black', 'Nikon Mirrorless Z6 II Body Only with Additional Battery, Optical Zoom, Black', 'KODAK PIXPRO AZ405-BK 20MP Digital Camera 40X Optical Zoom 24mm Wide Angle Lens Optical Image Stabilization 1080P Full HD Video 3\" LCD Vlogging Camera (Black)', 'Sony Alpha ILCE-6600 24.2 MP Mirrorless Digital SLR Camera Body only (APS-C Sensor, Fastest Auto Focus, Real-time Eye AF, Real-time Tracking, 4K Vlogging Camera, Tiltable LCD), Black', 'LEQTRONIQ 4K Digital 48 MP Camera with 32GB SD Card, 16x Digital Zoom & Autofocus for Recording, Vlogging, Streaming with 1 Year Warranty (2 Batteries)', 'Sony Alpha ILCE-6100Y 24.2 MP Mirrorless Digital SLR Camera with 16-50 mm and 55-210 mm Zoom Lenses & SanDisk Extreme Pro SD UHS I 128GB Card for 4K Video for DSLR and Mirrorless', 'Sony Alpha ILCE-6400M 24.2MP Mirrorless Digital SLR Camera (Black) with 18-135mm Zoom Lens | APS-C Sensor |Real-Time Eye Auto Focus | 4K Vlogging Camera | Tiltable LCD - Black', 'NIKON MIRRORLESS Z F Camera Body ONLY', 'KODAK PIXPRO Friendly Zoom FZ55-RD 16MP Digital Camera with 5X Optical Zoom 28mm Wide Angle and 2.7\" LCD Screen (Red)', 'FUJIFILM X-H2 Mirrorless Camera with 16-80mm Lens Black', 'Ubervia® SLR Cameras,Digital Camera 16X F-ocus Design Resolution 1920 * 1080 Supported S D Card 4 * AA Batter-y Powered Operated for Ps Taking S-tudio', 'KODAK PIXPRO AZ425-WH 20MP Digital Camera 42X Optical Zoom 24mm Wide Angle Lens 1080P Full HD Video Optical Image Stabilization Li-Ion Battery 3\" LCD Vlogging Camera (White)', 'Fujifilm X-T4 26 MP Mirrorless Camera Body (X-Trans CMOS 4 Sensor, EVF, Face/Eye AF, 5-Axis IBIS, Vari-Angle LCD Touchscreen, 4K/60P & FHD/240P Video, Film Simulations, Weather Resistance) - Silver', 'Sony Alpha ILCE-7M3 Full-Frame 24.2MP Mirrorless Digital SLR Camera Body (4K Full Frame, Real-Time Eye Auto Focus, 4K Vlogging Camera, Tiltable LCD, Low Light Camera) - Black', 'Ricoh GR IIIx, Black, Digital Compact Camera with 24MP APS-C Size CMOS Sensor, 40mmF2.8 GR Lens (in The 35mm Format)', 'Sony Alpha Zv-E1 Full-Frame Interchangeable-Lens Mirrorless Vlog Digital Zoom Camera (Body Only)| Made for Creators | 12.1 Mp | Artificial Intelligence Based Autofocus | 4K 120P Recording – Black', 'Nikon Z 5 w/NIKKOR Z 24-200mm f/4-6.3 VR - Optical Zoom - Black', 'Panasonic LUMIX G7 16.00 MP 4K Mirrorless Interchangeable Lens Camera Kit & SanDisk Extreme SD UHS I 128GB Card for 4K Video for DSLR and Mirrorless Cameras 180MB/s Read & 90MB/s Write', 'Nikon D780 w/AF-S NIKKOR 24-120mm f/4G ED VR', 'Nikon D7500 DX-Format Digital SLR Body (Black) & Nikon Af-S Dx Nikkor 35 Mm F/1.8G Prime Lens for Digital SLR Camera (Black)', 'Canon EOS R8 Full-Frame Mirrorless Camera, RF24-50mm F4.5-6.3 is STM with 24.2 MP, 4K Video, DIGIC X Image Processor-Black', 'Panasonic LUMIX G7 16.00 MP 4K Mirrorless Interchangeable Lens Camera Kit with 14-42 mm Lens (Black) with 3X Optical Zoom & SanDisk Extreme SD UHS I 64GB Card for 4K Video for DSLR', '(Refurbished) Sony Alpha ILCE-6400 24.2MP Mirrorless Digital SLR Camera Body (Black)', 'Nikon Camera Z 6II + NIKKOR Z 24-120mm F/4 S Lens with Additional Battery, Optical Zoom, Black - High-Performance Photography Bundle', 'Kodak AZ401RD Point & Shoot Digital Camera with 3\" LCD, Red', 'Sony Alpha ILCE-6400L 24.2MP Mirrorless Camera (Black) with 16-50mm Power Zoom Lens (APS-C Sensor, Real-Time Eye Auto Focus, 4K Vlogging Camera, Tiltable LCD & SEL50F18F E Mount Full Frame 50 mm', 'Minolta MND30 30 MP / 2.7K Ultra HD Digital Camera (Blue)', 'Panasonic LUMIX DMC-G85MGW-K 4K Digital Camera, 12-60mm Power O.I.S. Lens, 16 Megapixel Mirrorless Camera, 5 Axis in-Body Dual Image Stabilization, (Black)', 'Sony Alpha ILCE 6100L 24.2 MP Mirrorless Digital SLR Camera with 16-50 mm Power Zoom Lens & SanDisk Extreme SD UHS I 64GB Card for 4K Video for DSLR and Mirrorless Cameras 170MB/s Read & 80MB/s Write', 'Leica SL (Typ 601) Mirrorless Digital Camera with Vario-Elmarit-SL 24-90mm f/2.8-4 ASPH. Lens', '4K Digital Camera with Flash, 48MP Camera for Photography Teens Adults Autofocus Vlogging and YouTube Cameras with Flip Screen, Anti-Shake, 16X Digital Zoom, 32GB Card, Two Batteries, Lanyard', 'Ricoh Gr Iii Digital Compact Camera,24Mp,28Mm F 2.8 Lens with Touch Screen LCD,Black', 'Canon EOS R7 32.5MP Mirrorless Digital Camera with RF-S18-150mm Kit Lens (APS-C Sensor, 30 FPS, Next Gen Auto Focus, Next Level Image Stabilisation, 4K) – Black', 'Sony Alpha ILCE-7M4 Full-Frame Hybrid Camera 33MP Interchangeable-Lens Mirrorless Camera Body (4K 60P Video Recording, Real-Time Eye AF for Humans, Birds, Animals) - Digital_Zoom, Black,', 'Nikon Mirrorless Z fc Body with NIKKOR Z 28mm f/2.8 [SE] Lens with Additional Battery, Camera Bag & 64 GB SD Card, SmallRig L-Shape Grip, Optical Zoom, Black', 'Sony Alpha ILCE 6100L 24.2 MP Mirrorless Digital SLR Camera with 16-50 mm Power Zoom Lens & SanDisk Extreme Pro SD UHS I 128GB Card for 4K Video for DSLR and Mirrorless', 'Panasonic DMC-G85H Lumix G Vario 14-140mm/F3.5-5.6 ASPH Lens, Mirrorless Camera with case', 'KODAK PIXPRO WPZ2 Rugged Waterproof Shockproof Dustproof WiFi Digital Camera 16MP 4X Optical Zoom 1080P Full HD Video Vlogging Camera 2.7\" LCD (Blue)', 'Sony Alpha ZV-E10L 24.2 Mega Pixel Interchangeable-Lens Mirrorless vlog Camera with 16-50 mm Lens & SanDisk Extreme Pro SD UHS I 128GB Card for 4K Video for DSLR and Mirrorless Cameras', 'Sony Alpha ILCE 6100L 24.2 MP Mirrorless Digital SLR Camera with 16-50 mm Power Zoom Lens & SanDisk Extreme SD UHS I 128GB Card for 4K Video for DSLR and Mirrorless Cameras 180MB/s Read & 90MB/s Write', 'Sony Alpha ILCE-7M3K Full-Frame 24.2MP Mirrorless Digital SLR Camera with 28-70mm Zoom Lens (4K Full Frame & SEL2470GM 24-70 mm F2.8 Full Frame G Master Lens (Black)', 'Sony Alpha ILCE-7RM5 Full-Frame High Resolution 61 MP Camera|Artificial Intelligence for Human Pose Estimation|Real-time AF for Human/Animals/Birds/Insects/Train/Cars/Aeroplanes|Movie Recording 8k 24p', 'Nikon D780 DSLR Body Only, 83x Optical Zoom, Black', 'Kodak PIXPRO Astro Zoom AZ421 16 MP Digital Camera with 42X Opitcal Zoom and 3\" LCD Screen (White)', 'Digital Camera, FHD 1080P Digital Point and Shoot Camera for Kids 44MP Vlogging Camera with Anti Shake 16X Zoom, Compact Kids Camera Small Camera for Boys Girls Teens Students Seniors Pink', 'KODAK PIXPRO FZ55-BL 16MP Digital Camera 5X Optical Zoom 28mm Wide Angle 1080P Full HD Video 2.7\" LCD Vlogging Camera (Blue)', 'Canon EOS C70 RF24-70mm F2.8 L is USM Kit', 'Nikon Z 8 with Zoom Lens | Professional full-frame mirrorless hybrid stills/video hybrid camera with 24-120mm f/4 lens | Nikon USA Model', 'Nikon Digital Camera Z 30 kit with NIKKOR Z DX 16-50mm f/3.5-6.3 VR & NIKKOR Z DX 50-250mm f/4.5-6.3 VR - Black with Camera Bag & 64 GB SD Card', 'KODAK PIXPRO AZ405-WH 20MP Digital Camera 40X Optical Zoom 24mm Wide Angle Lens Optical Image Stabilization 1080P Full HD Video 3\" LCD Vlogging Camera (White), Full Frame', 'Canon EOS R6 Mark II RF24-105mm F4 L is USM KIT', 'Sony Alpha ILCE-1 Mirrorless Full-Frame Camera (30 FPS, 50.1 MP, 8K 30P, 4K 120P, Real-time Eye AF, & Sony Fe 200-600Mm F/5.6-6.3 G OSS Telephoto Zoom Lens (White)', 'Nikon D7500 DX-Format Digital SLR Body (Black) & Nikon AF-S Nikkor 70-200mm F/2.8E FL ED VR Camera Lens', 'Sony Alpha ZV-E10L 24.2 Mega Pixel Interchangeable-Lens Mirrorless vlog Camera with 16-50 mm Lens & SanDisk Extreme Pro SD UHS I 64GB Card for 4K Video for DSLR and Mirrorless Cameras 200MB/s', 'Kodak PIXPRO WPZ2 Rugged Waterproof Digital Camera 16MP 4X Optical Zoom 2.7\" LCD Full HD Video', 'Canon EOS R6 Full-Frame Mirrorless Camera with 10X Digital Zoom + RF24-105mm F4 L is USM Lens Kit, Black', 'Canon EOS R10 24.2MP Mirrorless Digital Camera with RF-S18-150mm Kit Lens (APS-C Sensor, 23 FPS, Next Gen Auto Focus, Next Level Image Stabilisation, 4K) – Black', 'Sony Alpha ZV-E10L 24.2 Mega Pixel Interchangeable-Lens Mirrorless vlog Camera with 16-50 mm Lens & SanDisk Extreme SD UHS I 256GB Card for 4K Video for DSLR and Mirrorless Cameras 180MB/s Read', 'Nikon D850 45.7MP Digital SLR Camera (Black) with AF-S Nikkor 24-120mm F/4G ED VR Lens and 64GB Memory Card & Nikon AF-S 85mm F/1.8G Prime Lens for Nikon DSLR Camera - Black', 'Canon EOS R5 Full-Frame Mirrorless Camera with 8K Video, 45 Megapixel Full-Frame CMOS Sensor, DIGIC X Image Processor, Dual Memory Card Slots, and Up to 12 fps Mechnical Shutter, Body Only', 'LEQTRONIQ 4K Digital Camera 48 MP Camera with 32GB SD Card, 16x Digital Zoom & Autofocus Compact Camera for Recording, Vlogging, Streaming with 1 Year Warranty (2 Batteries) (Black)']\n",
      "['85,900', '46,990', '81,990', '2,34,950', '88,999', '61,490', '42,490', '70,999', '1,34,990', '2,43,130', '77,950', '57,550', '74,990', '65,490', '17,999', '69,990', '2,48,990', '1,12,990', '62,990', '61,489', '48,999', '92,989', '1,17,042', '2,59,990', '2,79,999', '88,038', '52,490', '5,14,990', '2,49,995', '74,016', '2,12,089', '2,22,489', '1,80,999', '97,995', '4,99,990', '10,979', '70,030', '1,51,989', '65,990', '1,33,995', '1,25,989', '67,768', '80,129', '1,41,489', '22,822', '1,25,990', '8,812', '74,489', 0, '1,31,999', '2,03,999', '1,52,989', '1,41,024', '31,217', '1,09,999', '7,990', 0, '89,999', '1,70,035', '16,869', '2,44,999', '5,324', '32,462', '1,26,989', '1,27,489', '92,199', '1,72,990', '1,78,999', '44,139', '4,50,204', '95,600', '1,24,990', '43,379', '53,999', '2,19,999', '25,117', '93,618', '14,866', '65,909', '62,379', '13,57,925', '16,748', '84,499', '1,50,950', '2,09,989', '94,917', '63,789', '69,990', '23,706', '63,788', '63,139', '2,70,778', '2,99,990', 0, 0, 0, '19,441', '11,16,317', '7,32,060', '82,090', '30,815', '5,44,045', '6,46,879', '2,36,570', '62,788', '23,455', 0, '1,02,890', '64,768', '2,73,222', '4,79,291', '7,990']\n",
      "['4.5 out of 5 stars', '4.2 out of 5 stars', '4.5 out of 5 stars', '4.2 out of 5 stars', '4.3 out of 5 stars', '4.4 out of 5 stars', '4.3 out of 5 stars', '4.1 out of 5 stars', '4.5 out of 5 stars', '2.4 out of 5 stars', '4.7 out of 5 stars', '4.4 out of 5 stars', '4.6 out of 5 stars', '4.5 out of 5 stars', '2.3 out of 5 stars', '4.5 out of 5 stars', '4.6 out of 5 stars', '4.4 out of 5 stars', '4.3 out of 5 stars', '4.4 out of 5 stars', '5.0 out of 5 stars', '4.7 out of 5 stars', 0, '4.3 out of 5 stars', '5.0 out of 5 stars', '4.7 out of 5 stars', '4.6 out of 5 stars', '5.0 out of 5 stars', '5.0 out of 5 stars', '5.0 out of 5 stars', '1.0 out of 5 stars', '4.2 out of 5 stars', '4.7 out of 5 stars', '5.0 out of 5 stars', '3.5 out of 5 stars', '2.7 out of 5 stars', '3.7 out of 5 stars', '4.3 out of 5 stars', '4.5 out of 5 stars', 0, '4.4 out of 5 stars', '3.8 out of 5 stars', '4.2 out of 5 stars', '4.0 out of 5 stars', '4.1 out of 5 stars', '4.4 out of 5 stars', '3.0 out of 5 stars', '4.5 out of 5 stars', '4.0 out of 5 stars', '4.3 out of 5 stars', '5.0 out of 5 stars', '4.6 out of 5 stars', '4.4 out of 5 stars', '4.0 out of 5 stars', '4.4 out of 5 stars', '3.3 out of 5 stars', '5.0 out of 5 stars', '4.5 out of 5 stars', 0, '4.2 out of 5 stars', '4.6 out of 5 stars', 0, '3.8 out of 5 stars', '4.6 out of 5 stars', '4.5 out of 5 stars', '4.8 out of 5 stars', '3.4 out of 5 stars', '4.6 out of 5 stars', 0, '4.6 out of 5 stars', '5.0 out of 5 stars', '4.4 out of 5 stars', 0, '1.0 out of 5 stars', 0, '4.0 out of 5 stars', 0, '3.6 out of 5 stars', '4.0 out of 5 stars', 0, 0, '4.3 out of 5 stars', '4.7 out of 5 stars', '4.5 out of 5 stars', '4.2 out of 5 stars', '4.3 out of 5 stars', 0, '3.8 out of 5 stars', '4.1 out of 5 stars', 0, 0, 0, '5.0 out of 5 stars', '4.5 out of 5 stars', '4.2 out of 5 stars', '4.4 out of 5 stars', '4.1 out of 5 stars', 0, '5.0 out of 5 stars', '3.9 out of 5 stars', '4.2 out of 5 stars', '4.7 out of 5 stars', '1.0 out of 5 stars', '5.0 out of 5 stars', 0, '4.0 out of 5 stars', '4.6 out of 5 stars', '4.6 out of 5 stars', 0, 0, '4.6 out of 5 stars', '2.3 out of 5 stars']\n",
      "['469 ratings', '37 ratings', '177 ratings', '29 ratings', '135 ratings', '140 ratings', '816 ratings', '77 ratings', '122 ratings', '19 ratings', '715 ratings', '674 ratings', '165 ratings', '104 ratings', '18 ratings', '41 ratings', '230 ratings', '15 ratings', '42 ratings', '348 ratings', '1 ratings', '678 ratings', '0', '10 ratings', '1 ratings', '174 ratings', '67 ratings', '2 ratings', '1 ratings', '1 ratings', '1 ratings', '48 ratings', '194 ratings', '3 ratings', '10 ratings', '6 ratings', '28 ratings', '29 ratings', '279 ratings', '0', '42 ratings', '6 ratings', '2 ratings', '131 ratings', '601 ratings', '42 ratings', '26 ratings', '369 ratings', '1,869 ratings', '48 ratings', '9 ratings', '588 ratings', '9 ratings', '388 ratings', '13 ratings', '6 ratings', '1 ratings', '148 ratings', '0', '326 ratings', '36 ratings', '0', '35 ratings', '588 ratings', '106 ratings', '6 ratings', '9 ratings', '65 ratings', '0', '175 ratings', '2 ratings', '4 ratings', '0', '1 ratings', '0', '385 ratings', '0', '18 ratings', '6 ratings', '0', '0', '80 ratings', '5 ratings', '134 ratings', '48 ratings', '54 ratings', '0', '11 ratings', '176 ratings', '0', '0', '0', '2 ratings', '2 ratings', '1,486 ratings', '2,730 ratings', '273 ratings', '0', '6 ratings', '27 ratings', '194 ratings', '25 ratings', '1 ratings', '2 ratings', '0', '932 ratings', '138 ratings', '116 ratings', '0', '0', '591 ratings', '58 ratings']\n"
     ]
    }
   ],
   "source": [
    "print(product_name)\n",
    "# print(product_asin)\n",
    "print(product_price)\n",
    "print(product_ratings)\n",
    "print(product_ratings_num)\n"
   ]
  },
  {
   "cell_type": "code",
   "execution_count": null,
   "id": "72802bed",
   "metadata": {},
   "outputs": [],
   "source": []
  },
  {
   "cell_type": "code",
   "execution_count": null,
   "id": "90726bbe",
   "metadata": {},
   "outputs": [],
   "source": []
  },
  {
   "cell_type": "code",
   "execution_count": null,
   "id": "e0457ff6",
   "metadata": {},
   "outputs": [],
   "source": []
  }
 ],
 "metadata": {
  "kernelspec": {
   "display_name": "Python 3 (ipykernel)",
   "language": "python",
   "name": "python3"
  },
  "language_info": {
   "codemirror_mode": {
    "name": "ipython",
    "version": 3
   },
   "file_extension": ".py",
   "mimetype": "text/x-python",
   "name": "python",
   "nbconvert_exporter": "python",
   "pygments_lexer": "ipython3",
   "version": "3.9.13"
  }
 },
 "nbformat": 4,
 "nbformat_minor": 5
}
